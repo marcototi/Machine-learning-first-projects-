{
 "cells": [
  {
   "cell_type": "markdown",
   "metadata": {
    "toc": true
   },
   "source": [
    "<h1>Indice<span class=\"tocSkip\"></span></h1>\n",
    "<div class=\"toc\"><ul class=\"toc-item\"><li><span><a href=\"#Il-problema-e-il-quadro-generale\" data-toc-modified-id=\"Il-problema-e-il-quadro-generale-1\"><span class=\"toc-item-num\">1&nbsp;&nbsp;</span>Il problema e il quadro generale</a></span><ul class=\"toc-item\"><li><span><a href=\"#Obiettivo:-costruire-un-modello-preddittivo-che-sia-di-supporto-al-cliente\" data-toc-modified-id=\"Obiettivo:-costruire-un-modello-preddittivo-che-sia-di-supporto-al-cliente-1.1\"><span class=\"toc-item-num\">1.1&nbsp;&nbsp;</span>Obiettivo: costruire un modello preddittivo che sia di supporto al cliente</a></span></li><li><span><a href=\"#Descrizioni-dei-dataset\" data-toc-modified-id=\"Descrizioni-dei-dataset-1.2\"><span class=\"toc-item-num\">1.2&nbsp;&nbsp;</span>Descrizioni dei dataset</a></span><ul class=\"toc-item\"><li><span><a href=\"#Descrizione-Dati-Cerved\" data-toc-modified-id=\"Descrizione-Dati-Cerved-1.2.1\"><span class=\"toc-item-num\">1.2.1&nbsp;&nbsp;</span>Descrizione Dati Cerved</a></span></li><li><span><a href=\"#Descrizione-Dati-Azienda\" data-toc-modified-id=\"Descrizione-Dati-Azienda-1.2.2\"><span class=\"toc-item-num\">1.2.2&nbsp;&nbsp;</span>Descrizione Dati Azienda</a></span></li></ul></li></ul></li><li><span><a href=\"#Importazioni-librerie\" data-toc-modified-id=\"Importazioni-librerie-2\"><span class=\"toc-item-num\">2&nbsp;&nbsp;</span>Importazioni librerie</a></span></li><li><span><a href=\"#Caricamento-dei-DataSet\" data-toc-modified-id=\"Caricamento-dei-DataSet-3\"><span class=\"toc-item-num\">3&nbsp;&nbsp;</span>Caricamento dei DataSet</a></span><ul class=\"toc-item\"><li><span><a href=\"#Caricamento-Dati-Cerved\" data-toc-modified-id=\"Caricamento-Dati-Cerved-3.1\"><span class=\"toc-item-num\">3.1&nbsp;&nbsp;</span>Caricamento Dati Cerved</a></span></li><li><span><a href=\"#Caricamento-Dati-Azienda\" data-toc-modified-id=\"Caricamento-Dati-Azienda-3.2\"><span class=\"toc-item-num\">3.2&nbsp;&nbsp;</span>Caricamento Dati Azienda</a></span></li></ul></li><li><span><a href=\"#Pulizia-dei-Dati\" data-toc-modified-id=\"Pulizia-dei-Dati-4\"><span class=\"toc-item-num\">4&nbsp;&nbsp;</span>Pulizia dei Dati</a></span><ul class=\"toc-item\"><li><span><a href=\"#Rimozione-duplicati\" data-toc-modified-id=\"Rimozione-duplicati-4.1\"><span class=\"toc-item-num\">4.1&nbsp;&nbsp;</span>Rimozione duplicati</a></span></li><li><span><a href=\"#Verifica-presenza-di-valori-NaN\" data-toc-modified-id=\"Verifica-presenza-di-valori-NaN-4.2\"><span class=\"toc-item-num\">4.2&nbsp;&nbsp;</span>Verifica presenza di valori NaN</a></span><ul class=\"toc-item\"><li><span><a href=\"#Cerved---Natura-Giuridica\" data-toc-modified-id=\"Cerved---Natura-Giuridica-4.2.1\"><span class=\"toc-item-num\">4.2.1&nbsp;&nbsp;</span>Cerved - Natura Giuridica</a></span></li><li><span><a href=\"#Cerved---DECISIONE,-GG-PATTUITI,-GG-RITARDO,-FATTURATO-e-FATTURATO-MESE\" data-toc-modified-id=\"Cerved---DECISIONE,-GG-PATTUITI,-GG-RITARDO,-FATTURATO-e-FATTURATO-MESE-4.2.2\"><span class=\"toc-item-num\">4.2.2&nbsp;&nbsp;</span>Cerved - DECISIONE, GG PATTUITI, GG RITARDO, FATTURATO e FATTURATO MESE</a></span></li><li><span><a href=\"#Cerved---FIDO-PAYLINE\" data-toc-modified-id=\"Cerved---FIDO-PAYLINE-4.2.3\"><span class=\"toc-item-num\">4.2.3&nbsp;&nbsp;</span>Cerved - FIDO PAYLINE</a></span></li><li><span><a href=\"#Cerved---VALUTAZIONE-TEMPI-PAG\" data-toc-modified-id=\"Cerved---VALUTAZIONE-TEMPI-PAG-4.2.4\"><span class=\"toc-item-num\">4.2.4&nbsp;&nbsp;</span>Cerved - VALUTAZIONE TEMPI PAG</a></span></li><li><span><a href=\"#Cerved---PV\" data-toc-modified-id=\"Cerved---PV-4.2.5\"><span class=\"toc-item-num\">4.2.5&nbsp;&nbsp;</span>Cerved - PV</a></span></li><li><span><a href=\"#Cerved---CODICE-ISTAT\" data-toc-modified-id=\"Cerved---CODICE-ISTAT-4.2.6\"><span class=\"toc-item-num\">4.2.6&nbsp;&nbsp;</span>Cerved - CODICE ISTAT</a></span></li><li><span><a href=\"#Azienda---Data-Incasso\" data-toc-modified-id=\"Azienda---Data-Incasso-4.2.7\"><span class=\"toc-item-num\">4.2.7&nbsp;&nbsp;</span>Azienda - Data Incasso</a></span></li><li><span><a href=\"#Azienda---Importo-Incasso\" data-toc-modified-id=\"Azienda---Importo-Incasso-4.2.8\"><span class=\"toc-item-num\">4.2.8&nbsp;&nbsp;</span>Azienda - Importo Incasso</a></span></li></ul></li></ul></li><li><span><a href=\"#Creazione-nuove-colonne\" data-toc-modified-id=\"Creazione-nuove-colonne-5\"><span class=\"toc-item-num\">5&nbsp;&nbsp;</span>Creazione nuove colonne</a></span><ul class=\"toc-item\"><li><span><a href=\"#Inserimento-Regione\" data-toc-modified-id=\"Inserimento-Regione-5.1\"><span class=\"toc-item-num\">5.1&nbsp;&nbsp;</span>Inserimento Regione</a></span></li><li><span><a href=\"#Differenza-giorni-tra-Scadenza-Fattura-e-Data-Incasso\" data-toc-modified-id=\"Differenza-giorni-tra-Scadenza-Fattura-e-Data-Incasso-5.2\"><span class=\"toc-item-num\">5.2&nbsp;&nbsp;</span>Differenza giorni tra Scadenza Fattura e Data Incasso</a></span></li><li><span><a href=\"#Mese-Scadenza-e-Mese-Incasso\" data-toc-modified-id=\"Mese-Scadenza-e-Mese-Incasso-5.3\"><span class=\"toc-item-num\">5.3&nbsp;&nbsp;</span>Mese Scadenza e Mese Incasso</a></span></li><li><span><a href=\"#Settimana-Scadenza-e-Settimana-Incasso\" data-toc-modified-id=\"Settimana-Scadenza-e-Settimana-Incasso-5.4\"><span class=\"toc-item-num\">5.4&nbsp;&nbsp;</span>Settimana Scadenza e Settimana Incasso</a></span></li><li><span><a href=\"#Chiave-Fattura\" data-toc-modified-id=\"Chiave-Fattura-5.5\"><span class=\"toc-item-num\">5.5&nbsp;&nbsp;</span>Chiave Fattura</a></span></li><li><span><a href=\"#Cliente-Moroso---CMOR\" data-toc-modified-id=\"Cliente-Moroso---CMOR-5.6\"><span class=\"toc-item-num\">5.6&nbsp;&nbsp;</span>Cliente Moroso - CMOR</a></span></li><li><span><a href=\"#CMOR-Storico\" data-toc-modified-id=\"CMOR-Storico-5.7\"><span class=\"toc-item-num\">5.7&nbsp;&nbsp;</span>CMOR Storico</a></span></li><li><span><a href=\"#Rolling-CMOR\" data-toc-modified-id=\"Rolling-CMOR-5.8\"><span class=\"toc-item-num\">5.8&nbsp;&nbsp;</span>Rolling CMOR</a></span></li></ul></li><li><span><a href=\"#Unione-Dataset\" data-toc-modified-id=\"Unione-Dataset-6\"><span class=\"toc-item-num\">6&nbsp;&nbsp;</span>Unione Dataset</a></span></li><li><span><a href=\"#Divisione-Dataset\" data-toc-modified-id=\"Divisione-Dataset-7\"><span class=\"toc-item-num\">7&nbsp;&nbsp;</span>Divisione Dataset</a></span></li><li><span><a href=\"#Esplorazione-dei-dati\" data-toc-modified-id=\"Esplorazione-dei-dati-8\"><span class=\"toc-item-num\">8&nbsp;&nbsp;</span>Esplorazione dei dati</a></span><ul class=\"toc-item\"><li><span><a href=\"#Andamento-CMOR-mensile\" data-toc-modified-id=\"Andamento-CMOR-mensile-8.1\"><span class=\"toc-item-num\">8.1&nbsp;&nbsp;</span>Andamento CMOR mensile</a></span></li><li><span><a href=\"#Correlazione\" data-toc-modified-id=\"Correlazione-8.2\"><span class=\"toc-item-num\">8.2&nbsp;&nbsp;</span>Correlazione</a></span></li><li><span><a href=\"#Importo-Fattura-per-Servizio\" data-toc-modified-id=\"Importo-Fattura-per-Servizio-8.3\"><span class=\"toc-item-num\">8.3&nbsp;&nbsp;</span>Importo Fattura per Servizio</a></span></li><li><span><a href=\"#Confronto-tra-Importo-Medio-Fattura-e-CMOR\" data-toc-modified-id=\"Confronto-tra-Importo-Medio-Fattura-e-CMOR-8.4\"><span class=\"toc-item-num\">8.4&nbsp;&nbsp;</span>Confronto tra Importo Medio Fattura e CMOR</a></span></li><li><span><a href=\"#CMOR-per-Regione\" data-toc-modified-id=\"CMOR-per-Regione-8.5\"><span class=\"toc-item-num\">8.5&nbsp;&nbsp;</span>CMOR per Regione</a></span></li><li><span><a href=\"#Andamento-mensile-giorni-di-ritardo-incasso-per-servizio\" data-toc-modified-id=\"Andamento-mensile-giorni-di-ritardo-incasso-per-servizio-8.6\"><span class=\"toc-item-num\">8.6&nbsp;&nbsp;</span>Andamento mensile giorni di ritardo incasso per servizio</a></span></li><li><span><a href=\"#Clienti-morosi-per-classe-di-rischio\" data-toc-modified-id=\"Clienti-morosi-per-classe-di-rischio-8.7\"><span class=\"toc-item-num\">8.7&nbsp;&nbsp;</span>Clienti morosi per classe di rischio</a></span></li></ul></li><li><span><a href=\"#Identificazione-del-target\" data-toc-modified-id=\"Identificazione-del-target-9\"><span class=\"toc-item-num\">9&nbsp;&nbsp;</span>Identificazione del target</a></span></li><li><span><a href=\"#Preparazione-del-vettore-delle-feature\" data-toc-modified-id=\"Preparazione-del-vettore-delle-feature-10\"><span class=\"toc-item-num\">10&nbsp;&nbsp;</span>Preparazione del vettore delle feature</a></span><ul class=\"toc-item\"><li><span><a href=\"#Scelta-delle-feature-da-utilizzare-nel-vettore\" data-toc-modified-id=\"Scelta-delle-feature-da-utilizzare-nel-vettore-10.1\"><span class=\"toc-item-num\">10.1&nbsp;&nbsp;</span>Scelta delle feature da utilizzare nel vettore</a></span></li><li><span><a href=\"#Divisione-tra-Feature-(-X-)-e-Target-(-y-)\" data-toc-modified-id=\"Divisione-tra-Feature-(-X-)-e-Target-(-y-)-10.2\"><span class=\"toc-item-num\">10.2&nbsp;&nbsp;</span>Divisione tra Feature ( X ) e Target ( y )</a></span></li><li><span><a href=\"#Scalatura\" data-toc-modified-id=\"Scalatura-10.3\"><span class=\"toc-item-num\">10.3&nbsp;&nbsp;</span>Scalatura</a></span></li><li><span><a href=\"#Divisione-tra-Tain-Set-e-Test-Set\" data-toc-modified-id=\"Divisione-tra-Tain-Set-e-Test-Set-10.4\"><span class=\"toc-item-num\">10.4&nbsp;&nbsp;</span>Divisione tra Tain Set e Test Set</a></span></li></ul></li><li><span><a href=\"#Scelta-del-modello-e-validazione-dei-parametri\" data-toc-modified-id=\"Scelta-del-modello-e-validazione-dei-parametri-11\"><span class=\"toc-item-num\">11&nbsp;&nbsp;</span>Scelta del modello e validazione dei parametri</a></span><ul class=\"toc-item\"><li><span><a href=\"#KNN\" data-toc-modified-id=\"KNN-11.1\"><span class=\"toc-item-num\">11.1&nbsp;&nbsp;</span>KNN</a></span></li><li><span><a href=\"#Decision-Tree-Classifier\" data-toc-modified-id=\"Decision-Tree-Classifier-11.2\"><span class=\"toc-item-num\">11.2&nbsp;&nbsp;</span>Decision Tree Classifier</a></span></li><li><span><a href=\"#SVM\" data-toc-modified-id=\"SVM-11.3\"><span class=\"toc-item-num\">11.3&nbsp;&nbsp;</span>SVM</a></span></li><li><span><a href=\"#Random-Forest\" data-toc-modified-id=\"Random-Forest-11.4\"><span class=\"toc-item-num\">11.4&nbsp;&nbsp;</span>Random Forest</a></span></li><li><span><a href=\"#Confrontro-dei-modelli-testati\" data-toc-modified-id=\"Confrontro-dei-modelli-testati-11.5\"><span class=\"toc-item-num\">11.5&nbsp;&nbsp;</span>Confrontro dei modelli testati</a></span></li></ul></li><li><span><a href=\"#Modello-definitivo\" data-toc-modified-id=\"Modello-definitivo-12\"><span class=\"toc-item-num\">12&nbsp;&nbsp;</span>Modello definitivo</a></span></li></ul></div>"
   ]
  },
  {
   "cell_type": "markdown",
   "metadata": {
    "id": "txDY42Psgsta",
    "tags": []
   },
   "source": [
    "# Il problema e il quadro generale\n",
    "\n",
    "L'azienda ha la necessità di prevedere la solvibilità delle fatture emesse per i clienti industriali a cui fornisce la corrente Elettrica e il GAS. Una fattura scaduta con un saldo negativo indica la morosità del cliente. Questa previsione si rende necessaria per organizzare le attività future del reparto crediti.\n",
    "\n",
    "## Obiettivo: costruire un modello preddittivo che sia di supporto al cliente\n",
    "\n",
    "Alcuni suggerimenti:\n",
    "\n",
    "* costruire un modello che classifichi i clienti. Considerare un cliente moroso (CMOR)\n",
    "se l’ultima bolletta scaduta non è stata ancora saldata.\n",
    "* costruire un modello che classifichi le singole fatture"
   ]
  },
  {
   "cell_type": "markdown",
   "metadata": {},
   "source": [
    "## Descrizioni dei dataset\n",
    "\n",
    "Le fonti di dati che verranno usate sono due, la prima proviene da CERVED e descrive lo stato dell'azienda cliente con le relative informazioni sulla sua solvibilità; il secondo set di dati proviene dall'azienda e rappresenta l'elenco delle fatture emesse nell'anno 2021 e 2022 per ogni cliente in oggetto.\n",
    "\n",
    "### Descrizione Dati Cerved\n",
    "\n",
    "I dati provenienti da Cerved si trovano nel file denominato DatiCerved.csv, di seguito una descrizione delle Feature in esso.\n",
    "\n",
    "\n",
    "- <b>Codice Cliente</b> *[Stringa]*: codice univoco che identifica il cliente\n",
    "- <b>Natura Giuridica</b> *[Stringa]*: sigla della natura giuridica del cliente\n",
    "- <b>Provincia</b> *[Stringa]*: provincia in cui il cliente ha sede\n",
    "- <b>Codice Istat</b> *[Stringa]*: codice istat del cliente\n",
    "- <b>Fido payline</b> *[int]*: fido bancario massimo associato al cliente\n",
    "- <b>Decisione</b> *[Stringa]*: decisione sul fido payline\n",
    "- <b>Valutazione Tempi Pagamento</b> *[Stringa]*: situazione descrittiva sulla situazione dei pagamenti\n",
    "- <b>Giorni Pattuiti</b> *[Int]*: Giorni medi pattuiti per i pagamenti da parte del cliente\n",
    "- <b>Giorni Ritardo</b> *[Int]*: Giorni medi di ritardo sui pagamenti da parte del cliente\n",
    "- <b>Fatturato</b> *[Float]*: Fatturato annuo del cliente\n",
    "- <b>Fatturato Mese</b> *[Float]*: fatturato mensile del cliente\n",
    "- <b>Classe rischio</b> *[Int]*: identificativo della classe di rischio\n",
    "- <b>Classe rischio descrizione</b> *[Stringa]*: descrizione identificativo della classe di rischio\n",
    "\n",
    "### Descrizione Dati Azienda\n",
    "I dati propri dell'azienda cliente si trovano nel file denominato DatiAzienda.csv, di seguito una descrizione delle Feature in esso.\n",
    "\n",
    "- <b>Codice Cliente</b> *[Stringa]*: codice univoco che identifica il cliente\n",
    "- <b>Anno Documento</b> *[Stringa]*: anno di emissione della fattura\n",
    "- <b>Numero Documento</b> *[Stringa]*: numero progressivo della fattura\n",
    "- <b>Servizio</b> *[Stringa]*: servizio associato alla fattura (GA = Gas; EE = Energia Elettrica)\n",
    "- <b>Scadenza Fattura</b> *[TimeStamp]*: data scadenza fattura / pagamento\n",
    "- <b>Importo Fattura</b> *[Float]*: Importo della fattura\n",
    "- <b>Modalità Pagamento</b> *[Stringa]*: Tipologia di pagamento associato al cliente\n",
    "- <b>Descrizione Pagamento</b> *[Stringa]*: descrizione tipologia di pagamento associato al cliente\n",
    "- <b>Importo incasso</b> *[TimeStamp]*: importo incassato sulla fattura\n",
    "- <b>Saldo</b> *[Float]*: Saldo totale della fattura (Importo - Incasso)"
   ]
  },
  {
   "cell_type": "markdown",
   "metadata": {},
   "source": [
    "# Importazioni librerie"
   ]
  },
  {
   "cell_type": "code",
   "execution_count": 60,
   "metadata": {},
   "outputs": [],
   "source": [
    "import pandas as pd\n",
    "import seaborn as sns\n",
    "import numpy as np\n",
    "import matplotlib.pyplot as plt\n",
    "import os\n",
    "\n",
    "from datetime import date as dt\n",
    "\n",
    "from sklearn.model_selection import ShuffleSplit\n",
    "from sklearn.model_selection import StratifiedShuffleSplit\n",
    "from sklearn.model_selection import ParameterGrid\n",
    "from sklearn.model_selection import StratifiedKFold\n",
    "from sklearn.model_selection import GridSearchCV\n",
    "from sklearn.model_selection import train_test_split\n",
    "\n",
    "from sklearn.preprocessing import StandardScaler\n",
    "from sklearn.preprocessing import OneHotEncoder\n",
    "\n",
    "from sklearn.metrics import make_scorer\n",
    "from sklearn.metrics import precision_score\n",
    "from sklearn.metrics import recall_score\n",
    "from sklearn.metrics import f1_score\n",
    "from sklearn.metrics import accuracy_score\n",
    "from sklearn.metrics import plot_confusion_matrix\n",
    "from sklearn.metrics import balanced_accuracy_score\n",
    "\n",
    "from sklearn.neighbors import KNeighborsClassifier\n",
    "\n",
    "from sklearn.tree import DecisionTreeClassifier\n",
    "\n",
    "from sklearn.svm import SVC\n",
    "\n",
    "from sklearn.ensemble import RandomForestClassifier\n",
    "\n",
    "import warnings\n",
    "\n",
    "warnings.simplefilter(action='ignore', category=FutureWarning)\n",
    "\n",
    "sns.set()\n",
    "\n",
    "rnd = 8\n",
    "\n",
    "nrCpu = os.cpu_count()\n",
    "\n",
    "scalerSTD = StandardScaler()\n",
    "\n",
    "one = OneHotEncoder(sparse = False, drop = 'if_binary')"
   ]
  },
  {
   "cell_type": "markdown",
   "metadata": {},
   "source": [
    "# Caricamento dei DataSet\n",
    "Verranno caricati i due dataset separatamente per poter gestire eventuali errori o modifiche nella procedura.\n",
    "Successivamente verrà fatto il marge di entrambi, così da poter lavorare un insieme di dati unico, atto a creare il vettore delle feature per il modelli previsionali che verranno testati."
   ]
  },
  {
   "cell_type": "markdown",
   "metadata": {},
   "source": [
    "## Caricamento Dati Cerved"
   ]
  },
  {
   "cell_type": "code",
   "execution_count": 2,
   "metadata": {},
   "outputs": [
    {
     "data": {
      "text/html": [
       "<div>\n",
       "<style scoped>\n",
       "    .dataframe tbody tr th:only-of-type {\n",
       "        vertical-align: middle;\n",
       "    }\n",
       "\n",
       "    .dataframe tbody tr th {\n",
       "        vertical-align: top;\n",
       "    }\n",
       "\n",
       "    .dataframe thead th {\n",
       "        text-align: right;\n",
       "    }\n",
       "</style>\n",
       "<table border=\"1\" class=\"dataframe\">\n",
       "  <thead>\n",
       "    <tr style=\"text-align: right;\">\n",
       "      <th></th>\n",
       "      <th>NATURA_GIURIDICA</th>\n",
       "      <th>PV</th>\n",
       "      <th>CODICE_ISTAT</th>\n",
       "      <th>FIDO_PAYLINE</th>\n",
       "      <th>DECISIONE</th>\n",
       "      <th>VALUTAZIONE_TEMPI_PAG</th>\n",
       "      <th>GG_PATTUITI</th>\n",
       "      <th>GG_RITARDO</th>\n",
       "      <th>FATTURATO</th>\n",
       "      <th>FATTURATO_MESE</th>\n",
       "      <th>CLASSE_RISCHIO</th>\n",
       "      <th>CLASSE_RISCHIO_DESCR</th>\n",
       "    </tr>\n",
       "    <tr>\n",
       "      <th>COD_CLIENTE</th>\n",
       "      <th></th>\n",
       "      <th></th>\n",
       "      <th></th>\n",
       "      <th></th>\n",
       "      <th></th>\n",
       "      <th></th>\n",
       "      <th></th>\n",
       "      <th></th>\n",
       "      <th></th>\n",
       "      <th></th>\n",
       "      <th></th>\n",
       "      <th></th>\n",
       "    </tr>\n",
       "  </thead>\n",
       "  <tbody>\n",
       "    <tr>\n",
       "      <th>114900030</th>\n",
       "      <td>S.r.l.</td>\n",
       "      <td>PR</td>\n",
       "      <td>2562/07</td>\n",
       "      <td>40200.0</td>\n",
       "      <td>Accordabile</td>\n",
       "      <td>Regolari</td>\n",
       "      <td>21.0</td>\n",
       "      <td>0.0</td>\n",
       "      <td>4310.30</td>\n",
       "      <td>702.83</td>\n",
       "      <td>4</td>\n",
       "      <td>Affidabile</td>\n",
       "    </tr>\n",
       "    <tr>\n",
       "      <th>115000010</th>\n",
       "      <td>S.n.c.</td>\n",
       "      <td>PR</td>\n",
       "      <td>561011/07</td>\n",
       "      <td>0.0</td>\n",
       "      <td>Non accordabile</td>\n",
       "      <td>Prevalentemente regolari</td>\n",
       "      <td>23.0</td>\n",
       "      <td>27.0</td>\n",
       "      <td>8035.31</td>\n",
       "      <td>971.39</td>\n",
       "      <td>2</td>\n",
       "      <td>Cautela</td>\n",
       "    </tr>\n",
       "    <tr>\n",
       "      <th>115000017</th>\n",
       "      <td>S.r.l.</td>\n",
       "      <td>PR</td>\n",
       "      <td>33125/07</td>\n",
       "      <td>0.0</td>\n",
       "      <td>Non accordabile</td>\n",
       "      <td>Regolari</td>\n",
       "      <td>23.0</td>\n",
       "      <td>35.0</td>\n",
       "      <td>79858.63</td>\n",
       "      <td>12962.18</td>\n",
       "      <td>2</td>\n",
       "      <td>Cautela</td>\n",
       "    </tr>\n",
       "    <tr>\n",
       "      <th>115000028</th>\n",
       "      <td>S.a.s.</td>\n",
       "      <td>PR</td>\n",
       "      <td>791/07</td>\n",
       "      <td>0.0</td>\n",
       "      <td>Non accordabile</td>\n",
       "      <td>NaN</td>\n",
       "      <td>25.0</td>\n",
       "      <td>2329.0</td>\n",
       "      <td>1477.01</td>\n",
       "      <td>0.00</td>\n",
       "      <td>6</td>\n",
       "      <td>Non operativa</td>\n",
       "    </tr>\n",
       "    <tr>\n",
       "      <th>115000030</th>\n",
       "      <td>Coop.</td>\n",
       "      <td>PR</td>\n",
       "      <td>8891/07</td>\n",
       "      <td>2500.0</td>\n",
       "      <td>Accordabile</td>\n",
       "      <td>Regolari</td>\n",
       "      <td>-1.0</td>\n",
       "      <td>-1.0</td>\n",
       "      <td>613.62</td>\n",
       "      <td>0.00</td>\n",
       "      <td>4</td>\n",
       "      <td>Affidabile</td>\n",
       "    </tr>\n",
       "  </tbody>\n",
       "</table>\n",
       "</div>"
      ],
      "text/plain": [
       "            NATURA_GIURIDICA  PV CODICE_ISTAT  FIDO_PAYLINE        DECISIONE  \\\n",
       "COD_CLIENTE                                                                    \n",
       "114900030             S.r.l.  PR      2562/07       40200.0      Accordabile   \n",
       "115000010             S.n.c.  PR    561011/07           0.0  Non accordabile   \n",
       "115000017             S.r.l.  PR     33125/07           0.0  Non accordabile   \n",
       "115000028             S.a.s.  PR       791/07           0.0  Non accordabile   \n",
       "115000030              Coop.  PR      8891/07        2500.0      Accordabile   \n",
       "\n",
       "                VALUTAZIONE_TEMPI_PAG  GG_PATTUITI  GG_RITARDO  FATTURATO  \\\n",
       "COD_CLIENTE                                                                 \n",
       "114900030                    Regolari         21.0         0.0    4310.30   \n",
       "115000010    Prevalentemente regolari         23.0        27.0    8035.31   \n",
       "115000017                    Regolari         23.0        35.0   79858.63   \n",
       "115000028                         NaN         25.0      2329.0    1477.01   \n",
       "115000030                    Regolari         -1.0        -1.0     613.62   \n",
       "\n",
       "             FATTURATO_MESE  CLASSE_RISCHIO CLASSE_RISCHIO_DESCR  \n",
       "COD_CLIENTE                                                       \n",
       "114900030            702.83               4           Affidabile  \n",
       "115000010            971.39               2              Cautela  \n",
       "115000017          12962.18               2              Cautela  \n",
       "115000028              0.00               6        Non operativa  \n",
       "115000030              0.00               4           Affidabile  "
      ]
     },
     "execution_count": 2,
     "metadata": {},
     "output_type": "execute_result"
    }
   ],
   "source": [
    "# Dichiariamo un dizionario per definire i giusti type delle feature direttamente in fase di importazione\n",
    "# Nel Dizionario vengono omesse le colonne \"FIDO_PAYLINE\", \"GG_PATTUITI\" e \"GG_RITARDO\" in quanto\n",
    "# presentano calori NAN che verranno gestiti in fase i pulizia dei dati\n",
    "dtype_Cerved = {\n",
    "    'COD_CLIENTE' : 'str'\n",
    "    , 'NATURA_GIURIDICA' : 'str'\n",
    "    , 'PV' : 'str'\n",
    "    , 'CODICE_ISTAT' : 'str'\n",
    "    , 'DECISIONE' : 'str'\n",
    "    , 'VALUTAZIONE_TEMPI_PAG' : 'str'\n",
    "    , 'FATTURATO' : 'float'\n",
    "    , 'FATTURATO_MESE' : 'float'\n",
    "    , 'CLASSE_RISCHIO' : 'int'\n",
    "    , 'CLASSE_RISCHIO_DESCR' : 'str'\n",
    "}\n",
    "\n",
    "# Carichiamo il dataframe con i seguenti parametri:\n",
    "# SEP = ';' perché il csv usa questo tipo di separatore\n",
    "# DECIMAL = ',' - Perché i decimali utilizzano questo tipo di separatore\n",
    "# DTYPE = dtype_azienda - per definire i type delle colonne e gestire il type misto in fase di caricamento del csv\n",
    "df_Cerved = pd.read_csv(\n",
    "    filepath_or_buffer = 'data/DatiCerved.CSV'\n",
    "    , sep = ';'\n",
    "    , decimal = ','\n",
    "    , dtype = dtype_Cerved\n",
    "    , index_col = 'COD_CLIENTE'\n",
    ")\n",
    "\n",
    "# Stampo le prime 5 righe del data set per controllo\n",
    "df_Cerved.head()"
   ]
  },
  {
   "cell_type": "code",
   "execution_count": 3,
   "metadata": {},
   "outputs": [
    {
     "name": "stdout",
     "output_type": "stream",
     "text": [
      "<class 'pandas.core.frame.DataFrame'>\n",
      "Int64Index: 12728 entries, 114900030 to 91106\n",
      "Data columns (total 12 columns):\n",
      " #   Column                 Non-Null Count  Dtype  \n",
      "---  ------                 --------------  -----  \n",
      " 0   NATURA_GIURIDICA       8757 non-null   object \n",
      " 1   PV                     12677 non-null  object \n",
      " 2   CODICE_ISTAT           8542 non-null   object \n",
      " 3   FIDO_PAYLINE           12436 non-null  float64\n",
      " 4   DECISIONE              12688 non-null  object \n",
      " 5   VALUTAZIONE_TEMPI_PAG  11201 non-null  object \n",
      " 6   GG_PATTUITI            12688 non-null  float64\n",
      " 7   GG_RITARDO             12688 non-null  float64\n",
      " 8   FATTURATO              12688 non-null  float64\n",
      " 9   FATTURATO_MESE         12688 non-null  float64\n",
      " 10  CLASSE_RISCHIO         12728 non-null  int32  \n",
      " 11  CLASSE_RISCHIO_DESCR   12728 non-null  object \n",
      "dtypes: float64(5), int32(1), object(6)\n",
      "memory usage: 1.2+ MB\n"
     ]
    }
   ],
   "source": [
    "# Stampiamo le info sul dataset per capire se è stato importato correttamente\n",
    "df_Cerved.info()"
   ]
  },
  {
   "cell_type": "markdown",
   "metadata": {},
   "source": [
    "I dati di Cerved sono stati caricati con 3 colonne errate nel Dtype come previsto, questo verrà gestito in fase di [pulizia dei dati](#Pulizia-dei-Dati)."
   ]
  },
  {
   "cell_type": "markdown",
   "metadata": {},
   "source": [
    "## Caricamento Dati Azienda"
   ]
  },
  {
   "cell_type": "code",
   "execution_count": 4,
   "metadata": {},
   "outputs": [
    {
     "data": {
      "text/html": [
       "<div>\n",
       "<style scoped>\n",
       "    .dataframe tbody tr th:only-of-type {\n",
       "        vertical-align: middle;\n",
       "    }\n",
       "\n",
       "    .dataframe tbody tr th {\n",
       "        vertical-align: top;\n",
       "    }\n",
       "\n",
       "    .dataframe thead th {\n",
       "        text-align: right;\n",
       "    }\n",
       "</style>\n",
       "<table border=\"1\" class=\"dataframe\">\n",
       "  <thead>\n",
       "    <tr style=\"text-align: right;\">\n",
       "      <th></th>\n",
       "      <th>AnnoDocumento</th>\n",
       "      <th>NumeroDocumento</th>\n",
       "      <th>Servizio</th>\n",
       "      <th>ScadenzaFattura</th>\n",
       "      <th>ImportoFattura</th>\n",
       "      <th>ModPagamento</th>\n",
       "      <th>DescrizionePagamento</th>\n",
       "      <th>DataIncasso</th>\n",
       "      <th>ImportoIncasso</th>\n",
       "      <th>Saldo</th>\n",
       "    </tr>\n",
       "    <tr>\n",
       "      <th>CodiceCliente</th>\n",
       "      <th></th>\n",
       "      <th></th>\n",
       "      <th></th>\n",
       "      <th></th>\n",
       "      <th></th>\n",
       "      <th></th>\n",
       "      <th></th>\n",
       "      <th></th>\n",
       "      <th></th>\n",
       "      <th></th>\n",
       "    </tr>\n",
       "  </thead>\n",
       "  <tbody>\n",
       "    <tr>\n",
       "      <th>470843753</th>\n",
       "      <td>2021</td>\n",
       "      <td>300377</td>\n",
       "      <td>EE</td>\n",
       "      <td>2021-05-13 00:00:00.000</td>\n",
       "      <td>1482.55</td>\n",
       "      <td>G20</td>\n",
       "      <td>20 gg data emissione fattura</td>\n",
       "      <td>2021-05-13 00:00:00.000</td>\n",
       "      <td>1482.55</td>\n",
       "      <td>0.0</td>\n",
       "    </tr>\n",
       "    <tr>\n",
       "      <th>6103959</th>\n",
       "      <td>2022</td>\n",
       "      <td>132551</td>\n",
       "      <td>Gas</td>\n",
       "      <td>2022-02-28 00:00:00.000</td>\n",
       "      <td>26656.50</td>\n",
       "      <td>G20</td>\n",
       "      <td>20 gg data emissione fattura</td>\n",
       "      <td>2022-02-28 00:00:00.000</td>\n",
       "      <td>26656.50</td>\n",
       "      <td>0.0</td>\n",
       "    </tr>\n",
       "    <tr>\n",
       "      <th>470843720</th>\n",
       "      <td>2021</td>\n",
       "      <td>494178</td>\n",
       "      <td>EE</td>\n",
       "      <td>2021-08-23 00:00:00.000</td>\n",
       "      <td>543.28</td>\n",
       "      <td>G30</td>\n",
       "      <td>30 gg data emissione fattura</td>\n",
       "      <td>2021-08-23 00:00:00.000</td>\n",
       "      <td>543.28</td>\n",
       "      <td>0.0</td>\n",
       "    </tr>\n",
       "    <tr>\n",
       "      <th>20016230</th>\n",
       "      <td>2021</td>\n",
       "      <td>502473</td>\n",
       "      <td>Gas</td>\n",
       "      <td>2021-08-31 00:00:00.000</td>\n",
       "      <td>964.09</td>\n",
       "      <td>G20</td>\n",
       "      <td>20 gg data emissione fattura</td>\n",
       "      <td>2021-08-31 00:00:00.000</td>\n",
       "      <td>964.09</td>\n",
       "      <td>0.0</td>\n",
       "    </tr>\n",
       "    <tr>\n",
       "      <th>20012957</th>\n",
       "      <td>2021</td>\n",
       "      <td>529261</td>\n",
       "      <td>EE</td>\n",
       "      <td>2021-10-12 00:00:00.000</td>\n",
       "      <td>231.19</td>\n",
       "      <td>G20</td>\n",
       "      <td>20 gg data emissione fattura</td>\n",
       "      <td>2021-10-12 00:00:00.000</td>\n",
       "      <td>231.19</td>\n",
       "      <td>0.0</td>\n",
       "    </tr>\n",
       "  </tbody>\n",
       "</table>\n",
       "</div>"
      ],
      "text/plain": [
       "              AnnoDocumento NumeroDocumento Servizio          ScadenzaFattura  \\\n",
       "CodiceCliente                                                                   \n",
       "470843753              2021          300377       EE  2021-05-13 00:00:00.000   \n",
       "6103959                2022          132551      Gas  2022-02-28 00:00:00.000   \n",
       "470843720              2021          494178       EE  2021-08-23 00:00:00.000   \n",
       "20016230               2021          502473      Gas  2021-08-31 00:00:00.000   \n",
       "20012957               2021          529261       EE  2021-10-12 00:00:00.000   \n",
       "\n",
       "               ImportoFattura ModPagamento  \\\n",
       "CodiceCliente                                \n",
       "470843753             1482.55          G20   \n",
       "6103959              26656.50          G20   \n",
       "470843720              543.28          G30   \n",
       "20016230               964.09          G20   \n",
       "20012957               231.19          G20   \n",
       "\n",
       "                              DescrizionePagamento              DataIncasso  \\\n",
       "CodiceCliente                                                                 \n",
       "470843753      20 gg data emissione fattura         2021-05-13 00:00:00.000   \n",
       "6103959        20 gg data emissione fattura         2022-02-28 00:00:00.000   \n",
       "470843720      30 gg data emissione fattura         2021-08-23 00:00:00.000   \n",
       "20016230       20 gg data emissione fattura         2021-08-31 00:00:00.000   \n",
       "20012957       20 gg data emissione fattura         2021-10-12 00:00:00.000   \n",
       "\n",
       "               ImportoIncasso  Saldo  \n",
       "CodiceCliente                         \n",
       "470843753             1482.55    0.0  \n",
       "6103959              26656.50    0.0  \n",
       "470843720              543.28    0.0  \n",
       "20016230               964.09    0.0  \n",
       "20012957               231.19    0.0  "
      ]
     },
     "execution_count": 4,
     "metadata": {},
     "output_type": "execute_result"
    }
   ],
   "source": [
    "# Dichiariamo un dizionario per definire i giusti type delle feature direttamente in fase di importazione\n",
    "\n",
    "dtype_Azienda = {\n",
    "    'CodiceCliente' : 'str'\n",
    "    , 'AnnoDocumento' : 'str'\n",
    "    , 'NumeroDocumento' : 'str'\n",
    "    , 'Servizio' : 'str'\n",
    "    , 'ScadenzaFattura' : 'object'\n",
    "    , 'ImportoFattura' : 'float'\n",
    "    , 'ModPagamento' : 'str'\n",
    "    , 'DescrizionePagamento' : 'str'\n",
    "    , 'DataIncasso' : 'object'\n",
    "    , 'ImportoIncasso' : 'float'\n",
    "    , 'Saldo' : 'float'\n",
    "}\n",
    "\n",
    "# Carichiamo il dataframe con i seguenti parametri:\n",
    "# SEP = ',' - perché il csv usa questo tipo di separatore\n",
    "# DECIMAL = ',' - Perché i decimali utilizzano questo tipo di separatore\n",
    "# DTYPE = dtype_azienda - per definire i type delle colonne e gestire il type misto in fase di caricamento del csv\n",
    "\n",
    "df_Azienda = pd.read_csv(\n",
    "    filepath_or_buffer = 'data/ElencoFatture.CSV'\n",
    "    , sep = ','\n",
    "    , decimal = ','\n",
    "    , dtype = dtype_Azienda\n",
    "    , index_col = 'CodiceCliente'\n",
    ")\n",
    "\n",
    "# Stampo le prime 5 righe del data set per controllo\n",
    "\n",
    "df_Azienda.head()"
   ]
  },
  {
   "cell_type": "code",
   "execution_count": 5,
   "metadata": {},
   "outputs": [
    {
     "name": "stdout",
     "output_type": "stream",
     "text": [
      "<class 'pandas.core.frame.DataFrame'>\n",
      "Int64Index: 203463 entries, 470843753 to 470849029\n",
      "Data columns (total 10 columns):\n",
      " #   Column                Non-Null Count   Dtype  \n",
      "---  ------                --------------   -----  \n",
      " 0   AnnoDocumento         203463 non-null  object \n",
      " 1   NumeroDocumento       203463 non-null  object \n",
      " 2   Servizio              203463 non-null  object \n",
      " 3   ScadenzaFattura       203463 non-null  object \n",
      " 4   ImportoFattura        203463 non-null  float64\n",
      " 5   ModPagamento          203463 non-null  object \n",
      " 6   DescrizionePagamento  203463 non-null  object \n",
      " 7   DataIncasso           193331 non-null  object \n",
      " 8   ImportoIncasso        193331 non-null  float64\n",
      " 9   Saldo                 203463 non-null  float64\n",
      "dtypes: float64(3), object(7)\n",
      "memory usage: 17.1+ MB\n"
     ]
    }
   ],
   "source": [
    "# Stampiamo le info sul dataset per capire se è stato importato correttamente\n",
    "df_Azienda.info()"
   ]
  },
  {
   "cell_type": "markdown",
   "metadata": {},
   "source": [
    "Il dataset dell'azienda cliente è stato importato correttamente e si procede con l'unione dei dataset così per poter lavore su un solo insieme."
   ]
  },
  {
   "cell_type": "markdown",
   "metadata": {},
   "source": [
    "# Pulizia dei Dati"
   ]
  },
  {
   "cell_type": "markdown",
   "metadata": {},
   "source": [
    "## Rimozione duplicati\n",
    "Controlliamo ed eventualmente rimuoviamo clienti duplicati nel dataset di Cerved."
   ]
  },
  {
   "cell_type": "code",
   "execution_count": 6,
   "metadata": {},
   "outputs": [
    {
     "data": {
      "text/plain": [
       "61"
      ]
     },
     "execution_count": 6,
     "metadata": {},
     "output_type": "execute_result"
    }
   ],
   "source": [
    "# Calcoliamo le righe doppie nel dataset di Cerved\n",
    "ClientiDuplicati_Cerved = df_Cerved.duplicated().sum()\n",
    "\n",
    "# Stampa variabile per controllo\n",
    "ClientiDuplicati_Cerved"
   ]
  },
  {
   "cell_type": "markdown",
   "metadata": {},
   "source": [
    "Controllando i dati di Cerved sono emersi 44 clienti duplicati, si decide di rimuoverli in quanto non necessari."
   ]
  },
  {
   "cell_type": "code",
   "execution_count": 7,
   "metadata": {},
   "outputs": [
    {
     "data": {
      "text/plain": [
       "(12667, 12)"
      ]
     },
     "execution_count": 7,
     "metadata": {},
     "output_type": "execute_result"
    }
   ],
   "source": [
    "# Utilizziamo la funzione di Pandas chiamata drop_duplicates sul subset 'COD_CLIENTE' per rimuovere\n",
    "# le righe doppie\n",
    "df_Cerved = df_Cerved.drop_duplicates()\n",
    "\n",
    "# Stampa shape per controllo\n",
    "df_Cerved.shape"
   ]
  },
  {
   "cell_type": "markdown",
   "metadata": {},
   "source": [
    "## Verifica presenza di valori NaN\n",
    "Verifichiamo e gestiamo la presenza di valori Nan per ogni Feature presente nei due dataset.\n"
   ]
  },
  {
   "cell_type": "code",
   "execution_count": 8,
   "metadata": {
    "scrolled": true
   },
   "outputs": [
    {
     "data": {
      "text/plain": [
       "NATURA_GIURIDICA         3948\n",
       "PV                         51\n",
       "CODICE_ISTAT             4163\n",
       "FIDO_PAYLINE              276\n",
       "DECISIONE                  25\n",
       "VALUTAZIONE_TEMPI_PAG    1508\n",
       "GG_PATTUITI                25\n",
       "GG_RITARDO                 25\n",
       "FATTURATO                  25\n",
       "FATTURATO_MESE             25\n",
       "CLASSE_RISCHIO              0\n",
       "CLASSE_RISCHIO_DESCR        0\n",
       "dtype: int64"
      ]
     },
     "execution_count": 8,
     "metadata": {},
     "output_type": "execute_result"
    }
   ],
   "source": [
    "# Tramite la funzione isna() identifichiamo i valori NaN del dataset di Cerved e li sommiamo per avere il totale\n",
    "df_Cerved.isna().sum()"
   ]
  },
  {
   "cell_type": "markdown",
   "metadata": {},
   "source": [
    "Il Dataset di Cerved presenta 10 colonne con valori NaN al loro interno, per gestire il tutto si valutano ogni colonna singolarmente."
   ]
  },
  {
   "cell_type": "code",
   "execution_count": 9,
   "metadata": {},
   "outputs": [
    {
     "data": {
      "text/plain": [
       "AnnoDocumento               0\n",
       "NumeroDocumento             0\n",
       "Servizio                    0\n",
       "ScadenzaFattura             0\n",
       "ImportoFattura              0\n",
       "ModPagamento                0\n",
       "DescrizionePagamento        0\n",
       "DataIncasso             10132\n",
       "ImportoIncasso          10132\n",
       "Saldo                       0\n",
       "dtype: int64"
      ]
     },
     "execution_count": 9,
     "metadata": {},
     "output_type": "execute_result"
    }
   ],
   "source": [
    "# Tramite la funzione isna() identifichiamo i valori NaN del dataset di Azienda e li sommiamo per avere il totale\n",
    "df_Azienda.isna().sum()"
   ]
  },
  {
   "cell_type": "markdown",
   "metadata": {},
   "source": [
    "Il Dataset dell'Azienda presenta solo due colonne con valori NaN, per gestire il tutto si valutano le colonne singolarmente"
   ]
  },
  {
   "cell_type": "markdown",
   "metadata": {},
   "source": [
    "### Cerved - Natura Giuridica\n",
    "La colonna Natura Giuridica del file di Cerved presenta valori Nan, essendo essa di tipo string valutiamo prima la quantità e la tipologia dei valori univoci ."
   ]
  },
  {
   "cell_type": "code",
   "execution_count": 10,
   "metadata": {},
   "outputs": [
    {
     "data": {
      "text/plain": [
       "array(['S.r.l.', 'S.n.c.', 'S.a.s.', 'Coop.', 'Indiv.', nan, 'S.r.l.u.s.',\n",
       "       'Semplice', 'S.p.A.', 'Altro', 'S.p.a.u.s.', 'Ente', 'Ist.relig.',\n",
       "       'Assoc.', 'Estera', 'Consortile', 'S.r.l.s.', 'Fondazione',\n",
       "       'Az. spec.', 'Consorzio', 'Mutuo socc'], dtype=object)"
      ]
     },
     "execution_count": 10,
     "metadata": {},
     "output_type": "execute_result"
    }
   ],
   "source": [
    "# Stampa dei valori univoci tramite la funzione unique() della feature NATURA_GIURIDICA\n",
    "df_Cerved['NATURA_GIURIDICA'].unique()"
   ]
  },
  {
   "cell_type": "markdown",
   "metadata": {},
   "source": [
    "Dalla tipologia di dati risultanti abbiamo deciso di sostituire i valori NaN con la parola \"Sconosciuto\", questo per tenere un raggruppamento logico della feature."
   ]
  },
  {
   "cell_type": "code",
   "execution_count": 11,
   "metadata": {},
   "outputs": [
    {
     "data": {
      "text/plain": [
       "array(['S.r.l.', 'S.n.c.', 'S.a.s.', 'Coop.', 'Indiv.', 'Sconosciuto',\n",
       "       'S.r.l.u.s.', 'Semplice', 'S.p.A.', 'Altro', 'S.p.a.u.s.', 'Ente',\n",
       "       'Ist.relig.', 'Assoc.', 'Estera', 'Consortile', 'S.r.l.s.',\n",
       "       'Fondazione', 'Az. spec.', 'Consorzio', 'Mutuo socc'], dtype=object)"
      ]
     },
     "execution_count": 11,
     "metadata": {},
     "output_type": "execute_result"
    }
   ],
   "source": [
    "# Utilizziamo la funzione fillna() per modificare i valori Nan\n",
    "df_Cerved['NATURA_GIURIDICA'].fillna(value='Sconosciuto', inplace=True)\n",
    "\n",
    "# Stampiano i valori univoci per controllo\n",
    "df_Cerved['NATURA_GIURIDICA'].unique()"
   ]
  },
  {
   "cell_type": "markdown",
   "metadata": {},
   "source": [
    "### Cerved - DECISIONE, GG PATTUITI, GG RITARDO, FATTURATO e FATTURATO MESE\n",
    "Le colonne DECISIONE, GG_PATTUITI, GG_RITARDO, FATTURATO e FATTURATO_MESE presentano lo stesso numero di valori NaN, pertanto non controlliamo le singole colonne ma cerchiamo di capire quante fatture, per questi clienti, sono presenti nel file datao dall'Azienda."
   ]
  },
  {
   "cell_type": "code",
   "execution_count": 12,
   "metadata": {},
   "outputs": [
    {
     "name": "stdout",
     "output_type": "stream",
     "text": [
      "Colonna \tTotClienti \tTotFatture \t% Totale\n",
      "DECISIONE \t 25 \t\t 104 \t\t 0.05\n",
      "GG_PATTUITI \t 25 \t\t 104 \t\t 0.05\n",
      "GG_RITARDO \t 25 \t\t 104 \t\t 0.05\n",
      "FATTURATO \t 25 \t\t 104 \t\t 0.05\n",
      "FATTURATO_MESE \t 25 \t\t 104 \t\t 0.05\n"
     ]
    }
   ],
   "source": [
    "# Definiamo una variabile per contare il totale delle fatture per ogni cliente con valore NaN\n",
    "totFatture = 0\n",
    "\n",
    "# Definiamo una lista di colonne da controllare\n",
    "listCol = ['DECISIONE','GG_PATTUITI','GG_RITARDO','FATTURATO','FATTURATO_MESE']\n",
    "\n",
    "# Stampiamo l'intestazione per il risultato\n",
    "print('Colonna \\tTotClienti \\tTotFatture \\t% Totale')\n",
    "\n",
    "# Cicliamo la lista delle colonne da controllare\n",
    "for col in listCol:\n",
    "    \n",
    "    # Cicliamo i codici clienti per contare le fatture\n",
    "    for codCliente in df_Cerved[df_Cerved[col].isna()].index:\n",
    "        res = df_Azienda[df_Azienda.index == codCliente]\n",
    "    \n",
    "        totFatture += len(res)\n",
    "    \n",
    "    # Contiamo il totale dei clienti con valori NaN sulla colonna controllata\n",
    "    totClienti = df_Cerved[df_Cerved[col].isna()].index.shape[0]\n",
    "    \n",
    "    # Calcoliamo una percentuale delle fatture sul totale del dataset dell'azienda\n",
    "    PercTotaleFatture = round((totFatture / df_Azienda.shape[0]) * 100 , 2)\n",
    "\n",
    "    # Stampiamo il risultato della colonna\n",
    "    print(col,'\\t',totClienti,'\\t\\t',totFatture,'\\t\\t',PercTotaleFatture)\n",
    "    \n",
    "    # Azzeriamo il totale delle fatture\n",
    "    totFatture = 0"
   ]
  },
  {
   "cell_type": "markdown",
   "metadata": {},
   "source": [
    "Riscontriamo un'ugualianza in tutte le colonne, pertanto ipotiziamo si tratti sempre degli stessi esempi del data set di Cerved.\n",
    "\n",
    "Dato l'esiguo peso di questi clienti sul totale delle fatture, solo lo `0,14%`, decidiamo di togliere questi esempi dal dataframe di Cerved."
   ]
  },
  {
   "cell_type": "code",
   "execution_count": 13,
   "metadata": {},
   "outputs": [
    {
     "data": {
      "text/plain": [
       "NATURA_GIURIDICA            0\n",
       "PV                         51\n",
       "CODICE_ISTAT             4157\n",
       "FIDO_PAYLINE              251\n",
       "DECISIONE                   0\n",
       "VALUTAZIONE_TEMPI_PAG    1483\n",
       "GG_PATTUITI                 0\n",
       "GG_RITARDO                  0\n",
       "FATTURATO                   0\n",
       "FATTURATO_MESE              0\n",
       "CLASSE_RISCHIO              0\n",
       "CLASSE_RISCHIO_DESCR        0\n",
       "dtype: int64"
      ]
     },
     "execution_count": 13,
     "metadata": {},
     "output_type": "execute_result"
    }
   ],
   "source": [
    "# Utilizzando la funziona dropna eliminiamo le righe in cui le colonne in oggetto risultano NaN\n",
    "df_Cerved.dropna(subset=[\"DECISIONE\", \"GG_PATTUITI\", \"GG_RITARDO\", \"FATTURATO\", \"FATTURATO_MESE\"], inplace=True)\n",
    "\n",
    "# Controlliamo i valori NaN presenti per verifica\n",
    "df_Cerved.isna().sum()"
   ]
  },
  {
   "cell_type": "markdown",
   "metadata": {},
   "source": [
    "### Cerved - FIDO PAYLINE\n",
    "La colonna FIDO PAYLINE definisce il fido bancario massimo associato al cliente, per questo in caso di valori mancanti si decide di valorizzarli con 0.0."
   ]
  },
  {
   "cell_type": "code",
   "execution_count": 14,
   "metadata": {},
   "outputs": [
    {
     "data": {
      "text/plain": [
       "0"
      ]
     },
     "execution_count": 14,
     "metadata": {},
     "output_type": "execute_result"
    }
   ],
   "source": [
    "# Tramite la funzione fillna valorizziamo a 0 i valori Nan\n",
    "df_Cerved['FIDO_PAYLINE'].fillna(value = 0.0, inplace = True)\n",
    "\n",
    "# stampiamo il conteggio dei valori NaN per controllo\n",
    "df_Cerved['FIDO_PAYLINE'].isna().sum()"
   ]
  },
  {
   "cell_type": "markdown",
   "metadata": {},
   "source": [
    "### Cerved - VALUTAZIONE TEMPI PAG\n",
    "La colonna VALUTAZIONE TEMPI PAG del file di Cerved presenta valori Nan, essendo essa di tipo string valutiamo prima la quantità e la tipologia dei valori univoci."
   ]
  },
  {
   "cell_type": "code",
   "execution_count": 15,
   "metadata": {},
   "outputs": [
    {
     "data": {
      "text/plain": [
       "array(['Regolari', 'Prevalentemente regolari', nan, 'Dilazionati',\n",
       "       'Ritardi', 'Ritardi significativi'], dtype=object)"
      ]
     },
     "execution_count": 15,
     "metadata": {},
     "output_type": "execute_result"
    }
   ],
   "source": [
    "# Stampiano i valori univoci per controllare i valori presenti\n",
    "df_Cerved['VALUTAZIONE_TEMPI_PAG'].unique()"
   ]
  },
  {
   "cell_type": "markdown",
   "metadata": {},
   "source": [
    "Si decide di valorizzare i campi NaN con la parola 'Sconosciuto' così da rispettare la tipologia del dato"
   ]
  },
  {
   "cell_type": "code",
   "execution_count": 16,
   "metadata": {},
   "outputs": [
    {
     "data": {
      "text/plain": [
       "array(['Regolari', 'Prevalentemente regolari', 'Sconosciuto',\n",
       "       'Dilazionati', 'Ritardi', 'Ritardi significativi'], dtype=object)"
      ]
     },
     "execution_count": 16,
     "metadata": {},
     "output_type": "execute_result"
    }
   ],
   "source": [
    "# Utilizziamo la funzione fillna per modificare i valori Nan valorizzandoli a \"Sconosciuto\"\n",
    "df_Cerved['VALUTAZIONE_TEMPI_PAG'] = df_Cerved['VALUTAZIONE_TEMPI_PAG'].fillna(value='Sconosciuto')\n",
    "\n",
    "# Stampiano i valori univoci per controllo\n",
    "df_Cerved['VALUTAZIONE_TEMPI_PAG'].unique()"
   ]
  },
  {
   "cell_type": "markdown",
   "metadata": {},
   "source": [
    "### Cerved - PV\n",
    "La colonna PV del file di Cerved presenta valori Nan, essendo essa di tipo string valutiamo prima la quantità e la tipologia dei valori univoci."
   ]
  },
  {
   "cell_type": "code",
   "execution_count": 17,
   "metadata": {},
   "outputs": [
    {
     "data": {
      "text/plain": [
       "array(['PR', 'PC', 'CR', nan, 'AL', 'MI', 'LO', 'FI', 'PV', 'MN', 'TO',\n",
       "       'BS', 'PA', 'GE', 'RM', 'RE', 'PD', 'VR', 'FC', 'BZ', 'PZ', 'BO',\n",
       "       'RN', 'AN', 'RA', 'NO', 'VI', 'TV', 'BI', 'BG', 'MO', 'MT', 'FE',\n",
       "       'PI', 'FR', 'ME', 'SA', 'BL', 'AQ', 'AR', 'BN', 'SP', 'KR', 'MB',\n",
       "       'AP', 'VA', 'UD', 'PT', 'AT', 'FG', 'RC', 'TE', 'CN', 'RG', 'VT',\n",
       "       'LU', 'BA', 'RO', 'VC', 'AO', 'MS', 'SI', 'SV', 'LC', 'CH', 'MC',\n",
       "       'PG', 'TR', 'PN', 'CO', 'LT', 'VE', 'TA', 'FM', 'CT', 'TN', 'PU',\n",
       "       'CE', 'AG', 'AV', 'TP', 'CL', 'GO', 'PO', 'SS', 'TS', 'CS'],\n",
       "      dtype=object)"
      ]
     },
     "execution_count": 17,
     "metadata": {},
     "output_type": "execute_result"
    }
   ],
   "source": [
    "# Stampiano i valori univoci per controllare i valori presenti\n",
    "df_Cerved['PV'].unique()"
   ]
  },
  {
   "cell_type": "markdown",
   "metadata": {},
   "source": [
    "Si decide di valorizzare i campi NaN con la parola 'Sconosciuto' così da rispettare la tipologia del dato"
   ]
  },
  {
   "cell_type": "code",
   "execution_count": 18,
   "metadata": {},
   "outputs": [
    {
     "data": {
      "text/plain": [
       "array(['PR', 'PC', 'CR', 'Sconosciuto', 'AL', 'MI', 'LO', 'FI', 'PV',\n",
       "       'MN', 'TO', 'BS', 'PA', 'GE', 'RM', 'RE', 'PD', 'VR', 'FC', 'BZ',\n",
       "       'PZ', 'BO', 'RN', 'AN', 'RA', 'NO', 'VI', 'TV', 'BI', 'BG', 'MO',\n",
       "       'MT', 'FE', 'PI', 'FR', 'ME', 'SA', 'BL', 'AQ', 'AR', 'BN', 'SP',\n",
       "       'KR', 'MB', 'AP', 'VA', 'UD', 'PT', 'AT', 'FG', 'RC', 'TE', 'CN',\n",
       "       'RG', 'VT', 'LU', 'BA', 'RO', 'VC', 'AO', 'MS', 'SI', 'SV', 'LC',\n",
       "       'CH', 'MC', 'PG', 'TR', 'PN', 'CO', 'LT', 'VE', 'TA', 'FM', 'CT',\n",
       "       'TN', 'PU', 'CE', 'AG', 'AV', 'TP', 'CL', 'GO', 'PO', 'SS', 'TS',\n",
       "       'CS'], dtype=object)"
      ]
     },
     "execution_count": 18,
     "metadata": {},
     "output_type": "execute_result"
    }
   ],
   "source": [
    "# Utilizziamo la funzione fillna per modificare i valori Nan valorizzandoli a \"Sconosciuto\"\n",
    "df_Cerved['PV'] = df_Cerved['PV'].fillna(value='Sconosciuto')\n",
    "\n",
    "# Stampiano i valori univoci per controllo\n",
    "df_Cerved['PV'].unique()"
   ]
  },
  {
   "cell_type": "markdown",
   "metadata": {},
   "source": [
    "### Cerved - CODICE ISTAT\n",
    "Il Codice Istat rappresenta la classificazione dell'attività commerciale di ogni esempio presente ne dtaset di Cerved.\n",
    "\n",
    "Inizimao controllando quanti valori risultano NaN."
   ]
  },
  {
   "cell_type": "code",
   "execution_count": 19,
   "metadata": {},
   "outputs": [
    {
     "data": {
      "text/plain": [
       "4157"
      ]
     },
     "execution_count": 19,
     "metadata": {},
     "output_type": "execute_result"
    }
   ],
   "source": [
    "# STampiamo il numero i valori NaN nella colonna CODICE_ISTAT\n",
    "df_Cerved['CODICE_ISTAT'].isna().sum()"
   ]
  },
  {
   "cell_type": "markdown",
   "metadata": {},
   "source": [
    "Data la tipologia di dato si decide di valorizzare i campi con la parola 'Sconosciuto' così da avere continuità nella tipologia della colonna."
   ]
  },
  {
   "cell_type": "code",
   "execution_count": 20,
   "metadata": {},
   "outputs": [
    {
     "data": {
      "text/plain": [
       "0"
      ]
     },
     "execution_count": 20,
     "metadata": {},
     "output_type": "execute_result"
    }
   ],
   "source": [
    "# Tramite la funzione fillna valorizziamo i campi NaN con la parola 'Sconosciuto'\n",
    "df_Cerved['CODICE_ISTAT'] = df_Cerved['CODICE_ISTAT'].fillna(value='Sconosciuto')\n",
    "\n",
    "# Stampiamo il conteggio dei valori NaN per controllo\n",
    "df_Cerved['CODICE_ISTAT'].isna().sum()"
   ]
  },
  {
   "cell_type": "code",
   "execution_count": 21,
   "metadata": {},
   "outputs": [
    {
     "data": {
      "text/plain": [
       "AnnoDocumento               0\n",
       "NumeroDocumento             0\n",
       "Servizio                    0\n",
       "ScadenzaFattura             0\n",
       "ImportoFattura              0\n",
       "ModPagamento                0\n",
       "DescrizionePagamento        0\n",
       "DataIncasso             10132\n",
       "ImportoIncasso          10132\n",
       "Saldo                       0\n",
       "dtype: int64"
      ]
     },
     "execution_count": 21,
     "metadata": {},
     "output_type": "execute_result"
    }
   ],
   "source": [
    "df_Azienda.isna().sum()"
   ]
  },
  {
   "cell_type": "markdown",
   "metadata": {},
   "source": [
    "### Azienda - Data Incasso\n",
    "La colonna Data Incasso riporta il giorno in cui avviene l'incasso della singola fattura presente nel Dataset. I valori NaN rappresentano fatture non incassate e quindi il campo non è valorizzato.\n",
    "\n",
    "Per poter valorizzare il campo decidiamo di utilizzare la data odierna così da avere una situazione aggiornata per procedere con l'esplorazione dei dati."
   ]
  },
  {
   "cell_type": "code",
   "execution_count": 22,
   "metadata": {},
   "outputs": [
    {
     "data": {
      "text/plain": [
       "0"
      ]
     },
     "execution_count": 22,
     "metadata": {},
     "output_type": "execute_result"
    }
   ],
   "source": [
    "# Tramite la funzione fillna() valoriziamo i campi con la data odierna\n",
    "df_Azienda['DataIncasso'] = df_Azienda['DataIncasso'].fillna(pd.to_datetime('today'))\n",
    "\n",
    "# Sommiamo i valori NaN per controllo\n",
    "df_Azienda['DataIncasso'].isna().sum()"
   ]
  },
  {
   "cell_type": "markdown",
   "metadata": {},
   "source": [
    "### Azienda - Importo Incasso\n",
    "La colonna Importo Incasso riporta la cifra dell'incasso sulla singola fattura presente nel Dataset. In modo analogo alla colonna Data Incasso, gli esempi che riportano un valore NaN rappresentano fatture non incassate e quindi il campo non è valorizzato.\n",
    "\n",
    "Per poter valorizzare il campo decidiamo di usare il valore 0 in quanto rappresenta il mancato incasso per la singola fattura, così da poter procedere con l'esplorazione dei dati."
   ]
  },
  {
   "cell_type": "code",
   "execution_count": 23,
   "metadata": {},
   "outputs": [
    {
     "data": {
      "text/plain": [
       "0"
      ]
     },
     "execution_count": 23,
     "metadata": {},
     "output_type": "execute_result"
    }
   ],
   "source": [
    "# Tramite la funzione fillna() valorizziamo i campi a 0\n",
    "df_Azienda['ImportoIncasso'] = df_Azienda['ImportoIncasso'].fillna(0.0)\n",
    "\n",
    "# Sommiamo i valori NaN per controllo\n",
    "df_Azienda['ImportoIncasso'].isna().sum()"
   ]
  },
  {
   "cell_type": "markdown",
   "metadata": {},
   "source": [
    "# Creazione nuove colonne\n",
    "Verranno create nuove colonne per poter analizzare i dati nel miglior modo possibile e se necessario usare queste feature per la fase di train del modello"
   ]
  },
  {
   "cell_type": "markdown",
   "metadata": {},
   "source": [
    "## Inserimento Regione\n",
    "Allo scopo di raggruppare ulteriormente gli esempi del Dataset di Cerved creiamo la colonna Regione. Questa riporterà, in base alla colonna PV (provincia), il nome della regione di appartenenza.\n",
    "\n",
    "Stampiamo i valori univoci della colonna PV per avere tutti i campi necessari ad eseguire l'associazione dei valori."
   ]
  },
  {
   "cell_type": "code",
   "execution_count": 24,
   "metadata": {},
   "outputs": [
    {
     "data": {
      "text/plain": [
       "array(['PR', 'PC', 'CR', 'Sconosciuto', 'AL', 'MI', 'LO', 'FI', 'PV',\n",
       "       'MN', 'TO', 'BS', 'PA', 'GE', 'RM', 'RE', 'PD', 'VR', 'FC', 'BZ',\n",
       "       'PZ', 'BO', 'RN', 'AN', 'RA', 'NO', 'VI', 'TV', 'BI', 'BG', 'MO',\n",
       "       'MT', 'FE', 'PI', 'FR', 'ME', 'SA', 'BL', 'AQ', 'AR', 'BN', 'SP',\n",
       "       'KR', 'MB', 'AP', 'VA', 'UD', 'PT', 'AT', 'FG', 'RC', 'TE', 'CN',\n",
       "       'RG', 'VT', 'LU', 'BA', 'RO', 'VC', 'AO', 'MS', 'SI', 'SV', 'LC',\n",
       "       'CH', 'MC', 'PG', 'TR', 'PN', 'CO', 'LT', 'VE', 'TA', 'FM', 'CT',\n",
       "       'TN', 'PU', 'CE', 'AG', 'AV', 'TP', 'CL', 'GO', 'PO', 'SS', 'TS',\n",
       "       'CS'], dtype=object)"
      ]
     },
     "execution_count": 24,
     "metadata": {},
     "output_type": "execute_result"
    }
   ],
   "source": [
    "# Tramite la funzione unique() stampiamo i valori univi della colonna PV\n",
    "df_Cerved['PV'].unique()"
   ]
  },
  {
   "cell_type": "code",
   "execution_count": 25,
   "metadata": {},
   "outputs": [
    {
     "data": {
      "text/plain": [
       "array(['EmiliaRomagna', 'Lombardia', 'Sconosciuto', 'Piemonte', 'Toscana',\n",
       "       'Sicilia', 'Liguria', 'Lazio', 'Veneto', 'TrentinoAltoAdige',\n",
       "       'Basilicata', 'Marche', 'Campania', 'Abruzzo', 'Calabria',\n",
       "       'Lombardina', 'FriuliVeneziaGiulia', 'Puglia', 'ValleDAosta',\n",
       "       'Umbria', 'Sardegna'], dtype=object)"
      ]
     },
     "execution_count": 25,
     "metadata": {},
     "output_type": "execute_result"
    }
   ],
   "source": [
    "# Tramite la libreria Numpy e la funzione where associamo per ogni regione la sua provincia di appartenenza\n",
    "df_Cerved['Regione'] = np.where(\n",
    "        df_Cerved['PV'] == 'PR' , 'EmiliaRomagna'\n",
    "        , np.where(df_Cerved['PV'] == 'PC' , 'EmiliaRomagna'\n",
    "        , np.where(df_Cerved['PV'] == 'CR' , 'Lombardia'\n",
    "        , np.where(df_Cerved['PV'] == 'AL' , 'Piemonte'\n",
    "        , np.where(df_Cerved['PV'] == 'MI' , 'Lombardia'\n",
    "        , np.where(df_Cerved['PV'] == 'LO' , 'Lombardia'\n",
    "        , np.where(df_Cerved['PV'] == 'FI' , 'Toscana'\n",
    "        , np.where(df_Cerved['PV'] == 'PV' , 'Lombardia'\n",
    "        , np.where(df_Cerved['PV'] == 'MN' , 'Lombardia'\n",
    "        , np.where(df_Cerved['PV'] == 'TO' , 'Piemonte'\n",
    "        , np.where(df_Cerved['PV'] == 'BS' , 'Lombardia'\n",
    "        , np.where(df_Cerved['PV'] == 'PA' , 'Sicilia'\n",
    "        , np.where(df_Cerved['PV'] == 'GE' , 'Liguria'\n",
    "        , np.where(df_Cerved['PV'] == 'RM' , 'Lazio'\n",
    "        , np.where(df_Cerved['PV'] == 'RE' , 'EmiliaRomagna'\n",
    "        , np.where(df_Cerved['PV'] == 'PD' , 'Veneto'\n",
    "        , np.where(df_Cerved['PV'] == 'VR' , 'Veneto'\n",
    "        , np.where(df_Cerved['PV'] == 'FC' , 'EmiliaRomagna'\n",
    "        , np.where(df_Cerved['PV'] == 'BZ' , 'TrentinoAltoAdige'\n",
    "        , np.where(df_Cerved['PV'] == 'PZ' , 'Basilicata'\n",
    "        , np.where(df_Cerved['PV'] == 'BO' , 'EmiliaRomagna'\n",
    "        , np.where(df_Cerved['PV'] == 'RN' , 'EmiliaRomagna'\n",
    "        , np.where(df_Cerved['PV'] == 'AN' , 'Marche'\n",
    "        , np.where(df_Cerved['PV'] == 'RA' , 'EmiliaRomagna'\n",
    "        , np.where(df_Cerved['PV'] == 'NO' , 'Lombardia'\n",
    "        , np.where(df_Cerved['PV'] == 'VI' , 'Veneto'\n",
    "        , np.where(df_Cerved['PV'] == 'TV' , 'Veneto'\n",
    "        , np.where(df_Cerved['PV'] == 'BI' , 'Lombardia'\n",
    "        , np.where(df_Cerved['PV'] == 'BG' , 'Lombardia'\n",
    "        , np.where(df_Cerved['PV'] == 'MO' , 'EmiliaRomagna'\n",
    "        , np.where(df_Cerved['PV'] == 'MT' , 'Basilicata'\n",
    "        , np.where(df_Cerved['PV'] == 'FE' , 'EmiliaRomagna'\n",
    "        , np.where(df_Cerved['PV'] == 'PI' , 'Toscana'\n",
    "        , np.where(df_Cerved['PV'] == 'FR' , 'Lazio'\n",
    "        , np.where(df_Cerved['PV'] == 'ME' , 'Sicilia'\n",
    "        , np.where(df_Cerved['PV'] == 'SA' , 'Campania'\n",
    "        , np.where(df_Cerved['PV'] == 'BL' , 'Veneto'\n",
    "        , np.where(df_Cerved['PV'] == 'AQ' , 'Abruzzo'\n",
    "        , np.where(df_Cerved['PV'] == 'AR' , 'Toscana'\n",
    "        , np.where(df_Cerved['PV'] == 'BN' , 'Campania'\n",
    "        , np.where(df_Cerved['PV'] == 'SP' , 'Liguria'\n",
    "        , np.where(df_Cerved['PV'] == 'KR' , 'Calabria'\n",
    "        , np.where(df_Cerved['PV'] == 'MB' , 'Lombardina'\n",
    "        , np.where(df_Cerved['PV'] == 'AP' , 'Marche'\n",
    "        , np.where(df_Cerved['PV'] == 'VA' , 'Lombardia'\n",
    "        , np.where(df_Cerved['PV'] == 'UD' , 'FriuliVeneziaGiulia'\n",
    "        , np.where(df_Cerved['PV'] == 'PT' , 'Toscana'\n",
    "        , np.where(df_Cerved['PV'] == 'AT' , 'Piemonte'\n",
    "        , np.where(df_Cerved['PV'] == 'FG' , 'Puglia'\n",
    "        , np.where(df_Cerved['PV'] == 'RC' , 'Calabria'\n",
    "        , np.where(df_Cerved['PV'] == 'TE' , 'Abruzzo'\n",
    "        , np.where(df_Cerved['PV'] == 'CN' , 'Piemonte'\n",
    "        , np.where(df_Cerved['PV'] == 'RG' , 'Sicilia'\n",
    "        , np.where(df_Cerved['PV'] == 'VT' , 'Lazio'\n",
    "        , np.where(df_Cerved['PV'] == 'LU' , 'Toscana'\n",
    "        , np.where(df_Cerved['PV'] == 'BA' , 'Puglia'\n",
    "        , np.where(df_Cerved['PV'] == 'RO' , 'Veneto'\n",
    "        , np.where(df_Cerved['PV'] == 'VC' , 'Piemonte'\n",
    "        , np.where(df_Cerved['PV'] == 'AO' , 'ValleDAosta'\n",
    "        , np.where(df_Cerved['PV'] == 'MS' , 'Sicilia'\n",
    "        , np.where(df_Cerved['PV'] == 'SI' , 'Toscana'\n",
    "        , np.where(df_Cerved['PV'] == 'SV' , 'Liguria'\n",
    "        , np.where(df_Cerved['PV'] == 'LC' , 'Lombardia'\n",
    "        , np.where(df_Cerved['PV'] == 'CH' , 'Abruzzo'\n",
    "        , np.where(df_Cerved['PV'] == 'MC' , 'Marche'\n",
    "        , np.where(df_Cerved['PV'] == 'PG' , 'Umbria'\n",
    "        , np.where(df_Cerved['PV'] == 'TR' , 'Umbria'\n",
    "        , np.where(df_Cerved['PV'] == 'PN' , 'FriuliVeneziaGiulia'\n",
    "        , np.where(df_Cerved['PV'] == 'CO' , 'Lombardia'\n",
    "        , np.where(df_Cerved['PV'] == 'LT' , 'Lazio'\n",
    "        , np.where(df_Cerved['PV'] == 'VE' , 'Veneto'\n",
    "        , np.where(df_Cerved['PV'] == 'TA' , 'Puglia'\n",
    "        , np.where(df_Cerved['PV'] == 'FM' , 'Marche'\n",
    "        , np.where(df_Cerved['PV'] == 'CT' , 'Sicilia'\n",
    "        , np.where(df_Cerved['PV'] == 'TN' , 'TrentinoAltoAdige'\n",
    "        , np.where(df_Cerved['PV'] == 'PU' , 'Marche'\n",
    "        , np.where(df_Cerved['PV'] == 'CE' , 'Campania'\n",
    "        , np.where(df_Cerved['PV'] == 'AG' , 'Sicilia'\n",
    "        , np.where(df_Cerved['PV'] == 'AV' , 'Campania'\n",
    "        , np.where(df_Cerved['PV'] == 'TP' , 'Sicilia'\n",
    "        , np.where(df_Cerved['PV'] == 'CL' , 'Sicilia'\n",
    "        , np.where(df_Cerved['PV'] == 'GO' , 'FriuliVeneziaGiulia'\n",
    "        , np.where(df_Cerved['PV'] == 'PO' , 'Toscana'\n",
    "        , np.where(df_Cerved['PV'] == 'SS' , 'Sardegna'\n",
    "        , np.where(df_Cerved['PV'] == 'TS' , 'FriuliVeneziaGiulia'\n",
    "        , np.where(df_Cerved['PV'] == 'CS' , 'Calabria'\n",
    "        , 'Sconosciuto'\n",
    "))))))))))))))))))))))))))))))))))))))))))))))))))))))))))))))))))))))))))))))))))))))\n",
    "\n",
    "# Stampiamo i valori univoci della nuova colonna Regione per controllo\n",
    "df_Cerved['Regione'].unique()"
   ]
  },
  {
   "cell_type": "markdown",
   "metadata": {},
   "source": [
    "## Differenza giorni tra Scadenza Fattura e Data Incasso\n",
    "Si è deciso di creare una nuova colonna con il conteggio dei giorni di differenza tra la Scadenza della fattura e la Data Incasso."
   ]
  },
  {
   "cell_type": "code",
   "execution_count": 26,
   "metadata": {},
   "outputs": [
    {
     "data": {
      "text/html": [
       "<div>\n",
       "<style scoped>\n",
       "    .dataframe tbody tr th:only-of-type {\n",
       "        vertical-align: middle;\n",
       "    }\n",
       "\n",
       "    .dataframe tbody tr th {\n",
       "        vertical-align: top;\n",
       "    }\n",
       "\n",
       "    .dataframe thead th {\n",
       "        text-align: right;\n",
       "    }\n",
       "</style>\n",
       "<table border=\"1\" class=\"dataframe\">\n",
       "  <thead>\n",
       "    <tr style=\"text-align: right;\">\n",
       "      <th></th>\n",
       "      <th>AnnoDocumento</th>\n",
       "      <th>NumeroDocumento</th>\n",
       "      <th>Servizio</th>\n",
       "      <th>ScadenzaFattura</th>\n",
       "      <th>ImportoFattura</th>\n",
       "      <th>ModPagamento</th>\n",
       "      <th>DescrizionePagamento</th>\n",
       "      <th>DataIncasso</th>\n",
       "      <th>ImportoIncasso</th>\n",
       "      <th>Saldo</th>\n",
       "      <th>GiorniRitardoIncasso</th>\n",
       "    </tr>\n",
       "    <tr>\n",
       "      <th>CodiceCliente</th>\n",
       "      <th></th>\n",
       "      <th></th>\n",
       "      <th></th>\n",
       "      <th></th>\n",
       "      <th></th>\n",
       "      <th></th>\n",
       "      <th></th>\n",
       "      <th></th>\n",
       "      <th></th>\n",
       "      <th></th>\n",
       "      <th></th>\n",
       "    </tr>\n",
       "  </thead>\n",
       "  <tbody>\n",
       "    <tr>\n",
       "      <th>470843753</th>\n",
       "      <td>2021</td>\n",
       "      <td>300377</td>\n",
       "      <td>EE</td>\n",
       "      <td>2021-05-13</td>\n",
       "      <td>1482.55</td>\n",
       "      <td>G20</td>\n",
       "      <td>20 gg data emissione fattura</td>\n",
       "      <td>2021-05-13</td>\n",
       "      <td>1482.55</td>\n",
       "      <td>0.0</td>\n",
       "      <td>0</td>\n",
       "    </tr>\n",
       "    <tr>\n",
       "      <th>6103959</th>\n",
       "      <td>2022</td>\n",
       "      <td>132551</td>\n",
       "      <td>Gas</td>\n",
       "      <td>2022-02-28</td>\n",
       "      <td>26656.50</td>\n",
       "      <td>G20</td>\n",
       "      <td>20 gg data emissione fattura</td>\n",
       "      <td>2022-02-28</td>\n",
       "      <td>26656.50</td>\n",
       "      <td>0.0</td>\n",
       "      <td>0</td>\n",
       "    </tr>\n",
       "    <tr>\n",
       "      <th>470843720</th>\n",
       "      <td>2021</td>\n",
       "      <td>494178</td>\n",
       "      <td>EE</td>\n",
       "      <td>2021-08-23</td>\n",
       "      <td>543.28</td>\n",
       "      <td>G30</td>\n",
       "      <td>30 gg data emissione fattura</td>\n",
       "      <td>2021-08-23</td>\n",
       "      <td>543.28</td>\n",
       "      <td>0.0</td>\n",
       "      <td>0</td>\n",
       "    </tr>\n",
       "    <tr>\n",
       "      <th>20016230</th>\n",
       "      <td>2021</td>\n",
       "      <td>502473</td>\n",
       "      <td>Gas</td>\n",
       "      <td>2021-08-31</td>\n",
       "      <td>964.09</td>\n",
       "      <td>G20</td>\n",
       "      <td>20 gg data emissione fattura</td>\n",
       "      <td>2021-08-31</td>\n",
       "      <td>964.09</td>\n",
       "      <td>0.0</td>\n",
       "      <td>0</td>\n",
       "    </tr>\n",
       "    <tr>\n",
       "      <th>20012957</th>\n",
       "      <td>2021</td>\n",
       "      <td>529261</td>\n",
       "      <td>EE</td>\n",
       "      <td>2021-10-12</td>\n",
       "      <td>231.19</td>\n",
       "      <td>G20</td>\n",
       "      <td>20 gg data emissione fattura</td>\n",
       "      <td>2021-10-12</td>\n",
       "      <td>231.19</td>\n",
       "      <td>0.0</td>\n",
       "      <td>0</td>\n",
       "    </tr>\n",
       "  </tbody>\n",
       "</table>\n",
       "</div>"
      ],
      "text/plain": [
       "              AnnoDocumento NumeroDocumento Servizio ScadenzaFattura  \\\n",
       "CodiceCliente                                                          \n",
       "470843753              2021          300377       EE      2021-05-13   \n",
       "6103959                2022          132551      Gas      2022-02-28   \n",
       "470843720              2021          494178       EE      2021-08-23   \n",
       "20016230               2021          502473      Gas      2021-08-31   \n",
       "20012957               2021          529261       EE      2021-10-12   \n",
       "\n",
       "               ImportoFattura ModPagamento  \\\n",
       "CodiceCliente                                \n",
       "470843753             1482.55          G20   \n",
       "6103959              26656.50          G20   \n",
       "470843720              543.28          G30   \n",
       "20016230               964.09          G20   \n",
       "20012957               231.19          G20   \n",
       "\n",
       "                              DescrizionePagamento DataIncasso  \\\n",
       "CodiceCliente                                                    \n",
       "470843753      20 gg data emissione fattura         2021-05-13   \n",
       "6103959        20 gg data emissione fattura         2022-02-28   \n",
       "470843720      30 gg data emissione fattura         2021-08-23   \n",
       "20016230       20 gg data emissione fattura         2021-08-31   \n",
       "20012957       20 gg data emissione fattura         2021-10-12   \n",
       "\n",
       "               ImportoIncasso  Saldo  GiorniRitardoIncasso  \n",
       "CodiceCliente                                               \n",
       "470843753             1482.55    0.0                     0  \n",
       "6103959              26656.50    0.0                     0  \n",
       "470843720              543.28    0.0                     0  \n",
       "20016230               964.09    0.0                     0  \n",
       "20012957               231.19    0.0                     0  "
      ]
     },
     "execution_count": 26,
     "metadata": {},
     "output_type": "execute_result"
    }
   ],
   "source": [
    "# Modifico i valori nelle colonne ScadenzaFattura e DataIncasso tenendo solo la data ed eliminando il time\n",
    "df_Azienda[['ScadenzaFattura','DataIncasso']] = df_Azienda[['ScadenzaFattura','DataIncasso']].apply(pd.to_datetime)\n",
    "\n",
    "# Creo una nuova colonna con i soli giorni di differenza tra la DataIncasso e Scadenza Fattura\n",
    "df_Azienda['GiorniRitardoIncasso'] = (df_Azienda['DataIncasso'] - df_Azienda['ScadenzaFattura']).dt.days\n",
    "\n",
    "# Stampo le prime 5 righe per controllo\n",
    "df_Azienda.head()"
   ]
  },
  {
   "cell_type": "markdown",
   "metadata": {},
   "source": [
    "## Mese Scadenza e Mese Incasso\n",
    "Estraiamo il mese dalla data di Scadenza Fattura e dalla Data Incasso così da avere un valore da utilizzare in fase di eslorazione dei dati"
   ]
  },
  {
   "cell_type": "code",
   "execution_count": 27,
   "metadata": {},
   "outputs": [
    {
     "data": {
      "text/html": [
       "<div>\n",
       "<style scoped>\n",
       "    .dataframe tbody tr th:only-of-type {\n",
       "        vertical-align: middle;\n",
       "    }\n",
       "\n",
       "    .dataframe tbody tr th {\n",
       "        vertical-align: top;\n",
       "    }\n",
       "\n",
       "    .dataframe thead th {\n",
       "        text-align: right;\n",
       "    }\n",
       "</style>\n",
       "<table border=\"1\" class=\"dataframe\">\n",
       "  <thead>\n",
       "    <tr style=\"text-align: right;\">\n",
       "      <th></th>\n",
       "      <th>ScadenzaFattura</th>\n",
       "      <th>ScadenzaFatturaMese</th>\n",
       "      <th>DataIncasso</th>\n",
       "      <th>DataIncassoMese</th>\n",
       "    </tr>\n",
       "    <tr>\n",
       "      <th>CodiceCliente</th>\n",
       "      <th></th>\n",
       "      <th></th>\n",
       "      <th></th>\n",
       "      <th></th>\n",
       "    </tr>\n",
       "  </thead>\n",
       "  <tbody>\n",
       "    <tr>\n",
       "      <th>470843753</th>\n",
       "      <td>2021-05-13</td>\n",
       "      <td>5</td>\n",
       "      <td>2021-05-13</td>\n",
       "      <td>5</td>\n",
       "    </tr>\n",
       "    <tr>\n",
       "      <th>6103959</th>\n",
       "      <td>2022-02-28</td>\n",
       "      <td>2</td>\n",
       "      <td>2022-02-28</td>\n",
       "      <td>2</td>\n",
       "    </tr>\n",
       "    <tr>\n",
       "      <th>470843720</th>\n",
       "      <td>2021-08-23</td>\n",
       "      <td>8</td>\n",
       "      <td>2021-08-23</td>\n",
       "      <td>8</td>\n",
       "    </tr>\n",
       "    <tr>\n",
       "      <th>20016230</th>\n",
       "      <td>2021-08-31</td>\n",
       "      <td>8</td>\n",
       "      <td>2021-08-31</td>\n",
       "      <td>8</td>\n",
       "    </tr>\n",
       "    <tr>\n",
       "      <th>20012957</th>\n",
       "      <td>2021-10-12</td>\n",
       "      <td>10</td>\n",
       "      <td>2021-10-12</td>\n",
       "      <td>10</td>\n",
       "    </tr>\n",
       "  </tbody>\n",
       "</table>\n",
       "</div>"
      ],
      "text/plain": [
       "              ScadenzaFattura  ScadenzaFatturaMese DataIncasso  \\\n",
       "CodiceCliente                                                    \n",
       "470843753          2021-05-13                    5  2021-05-13   \n",
       "6103959            2022-02-28                    2  2022-02-28   \n",
       "470843720          2021-08-23                    8  2021-08-23   \n",
       "20016230           2021-08-31                    8  2021-08-31   \n",
       "20012957           2021-10-12                   10  2021-10-12   \n",
       "\n",
       "               DataIncassoMese  \n",
       "CodiceCliente                   \n",
       "470843753                    5  \n",
       "6103959                      2  \n",
       "470843720                    8  \n",
       "20016230                     8  \n",
       "20012957                    10  "
      ]
     },
     "execution_count": 27,
     "metadata": {},
     "output_type": "execute_result"
    }
   ],
   "source": [
    "# Tramite la funzione DatetimeIndex estriamo il nome del mese per la data di Scadenza Fattura\n",
    "df_Azienda['ScadenzaFatturaMese'] = pd.DatetimeIndex(df_Azienda['ScadenzaFattura']).month\n",
    "\n",
    "# Tramite la funzione DatetimeIndex estriamo il nome del mese per la Data Incasso\n",
    "df_Azienda['DataIncassoMese'] = pd.DatetimeIndex(df_Azienda['DataIncasso']).month\n",
    "\n",
    "# Stampiamo un subset del Dataset per controllo\n",
    "df_Azienda[['ScadenzaFattura','ScadenzaFatturaMese','DataIncasso','DataIncassoMese']].head()"
   ]
  },
  {
   "cell_type": "markdown",
   "metadata": {},
   "source": [
    "## Settimana Scadenza e Settimana Incasso\n",
    "Analogamente al mese estraiamo il numero della settimana della data di Scadenza Fattura e della Data Incasso."
   ]
  },
  {
   "cell_type": "code",
   "execution_count": 28,
   "metadata": {},
   "outputs": [
    {
     "data": {
      "text/html": [
       "<div>\n",
       "<style scoped>\n",
       "    .dataframe tbody tr th:only-of-type {\n",
       "        vertical-align: middle;\n",
       "    }\n",
       "\n",
       "    .dataframe tbody tr th {\n",
       "        vertical-align: top;\n",
       "    }\n",
       "\n",
       "    .dataframe thead th {\n",
       "        text-align: right;\n",
       "    }\n",
       "</style>\n",
       "<table border=\"1\" class=\"dataframe\">\n",
       "  <thead>\n",
       "    <tr style=\"text-align: right;\">\n",
       "      <th></th>\n",
       "      <th>ScadenzaFattura</th>\n",
       "      <th>ScadenzaFatturaWeek</th>\n",
       "      <th>DataIncasso</th>\n",
       "      <th>DataIncassoWeek</th>\n",
       "    </tr>\n",
       "    <tr>\n",
       "      <th>CodiceCliente</th>\n",
       "      <th></th>\n",
       "      <th></th>\n",
       "      <th></th>\n",
       "      <th></th>\n",
       "    </tr>\n",
       "  </thead>\n",
       "  <tbody>\n",
       "    <tr>\n",
       "      <th>470843753</th>\n",
       "      <td>2021-05-13</td>\n",
       "      <td>19</td>\n",
       "      <td>2021-05-13</td>\n",
       "      <td>19</td>\n",
       "    </tr>\n",
       "    <tr>\n",
       "      <th>6103959</th>\n",
       "      <td>2022-02-28</td>\n",
       "      <td>9</td>\n",
       "      <td>2022-02-28</td>\n",
       "      <td>9</td>\n",
       "    </tr>\n",
       "    <tr>\n",
       "      <th>470843720</th>\n",
       "      <td>2021-08-23</td>\n",
       "      <td>34</td>\n",
       "      <td>2021-08-23</td>\n",
       "      <td>34</td>\n",
       "    </tr>\n",
       "    <tr>\n",
       "      <th>20016230</th>\n",
       "      <td>2021-08-31</td>\n",
       "      <td>35</td>\n",
       "      <td>2021-08-31</td>\n",
       "      <td>35</td>\n",
       "    </tr>\n",
       "    <tr>\n",
       "      <th>20012957</th>\n",
       "      <td>2021-10-12</td>\n",
       "      <td>41</td>\n",
       "      <td>2021-10-12</td>\n",
       "      <td>41</td>\n",
       "    </tr>\n",
       "  </tbody>\n",
       "</table>\n",
       "</div>"
      ],
      "text/plain": [
       "              ScadenzaFattura  ScadenzaFatturaWeek DataIncasso  \\\n",
       "CodiceCliente                                                    \n",
       "470843753          2021-05-13                   19  2021-05-13   \n",
       "6103959            2022-02-28                    9  2022-02-28   \n",
       "470843720          2021-08-23                   34  2021-08-23   \n",
       "20016230           2021-08-31                   35  2021-08-31   \n",
       "20012957           2021-10-12                   41  2021-10-12   \n",
       "\n",
       "               DataIncassoWeek  \n",
       "CodiceCliente                   \n",
       "470843753                   19  \n",
       "6103959                      9  \n",
       "470843720                   34  \n",
       "20016230                    35  \n",
       "20012957                    41  "
      ]
     },
     "execution_count": 28,
     "metadata": {},
     "output_type": "execute_result"
    }
   ],
   "source": [
    "# Tramite la funzione DatetimeIndex estriamo il numero della settimana per la data di Scadenza Fattura\n",
    "df_Azienda['ScadenzaFatturaWeek'] = df_Azienda['ScadenzaFattura'].dt.week\n",
    "\n",
    "# Tramite la funzione DatetimeIndex estriamo il numero della settimana per la Data Incasso\n",
    "df_Azienda['DataIncassoWeek'] = df_Azienda['DataIncasso'].dt.week\n",
    "\n",
    "# Stampiamo un subset del Dataset per controllo\n",
    "df_Azienda[['ScadenzaFattura','ScadenzaFatturaWeek','DataIncasso','DataIncassoWeek']].head()"
   ]
  },
  {
   "cell_type": "markdown",
   "metadata": {},
   "source": [
    "## Chiave Fattura\n",
    "Allo scopo di identificare ogni singola fattura in maniera univoca creiamo una colonna che sarà la chiave univoca della Fattura.\n",
    "Questo tramite la concatenazione tra AnnoDocumento e NumeroDocumento separati dal '-'."
   ]
  },
  {
   "cell_type": "code",
   "execution_count": 29,
   "metadata": {},
   "outputs": [
    {
     "data": {
      "text/html": [
       "<div>\n",
       "<style scoped>\n",
       "    .dataframe tbody tr th:only-of-type {\n",
       "        vertical-align: middle;\n",
       "    }\n",
       "\n",
       "    .dataframe tbody tr th {\n",
       "        vertical-align: top;\n",
       "    }\n",
       "\n",
       "    .dataframe thead th {\n",
       "        text-align: right;\n",
       "    }\n",
       "</style>\n",
       "<table border=\"1\" class=\"dataframe\">\n",
       "  <thead>\n",
       "    <tr style=\"text-align: right;\">\n",
       "      <th></th>\n",
       "      <th>AnnoDocumento</th>\n",
       "      <th>NumeroDocumento</th>\n",
       "      <th>ChiaveFattura</th>\n",
       "    </tr>\n",
       "    <tr>\n",
       "      <th>CodiceCliente</th>\n",
       "      <th></th>\n",
       "      <th></th>\n",
       "      <th></th>\n",
       "    </tr>\n",
       "  </thead>\n",
       "  <tbody>\n",
       "    <tr>\n",
       "      <th>470843753</th>\n",
       "      <td>2021</td>\n",
       "      <td>300377</td>\n",
       "      <td>2021-300377</td>\n",
       "    </tr>\n",
       "    <tr>\n",
       "      <th>6103959</th>\n",
       "      <td>2022</td>\n",
       "      <td>132551</td>\n",
       "      <td>2022-132551</td>\n",
       "    </tr>\n",
       "    <tr>\n",
       "      <th>470843720</th>\n",
       "      <td>2021</td>\n",
       "      <td>494178</td>\n",
       "      <td>2021-494178</td>\n",
       "    </tr>\n",
       "    <tr>\n",
       "      <th>20016230</th>\n",
       "      <td>2021</td>\n",
       "      <td>502473</td>\n",
       "      <td>2021-502473</td>\n",
       "    </tr>\n",
       "    <tr>\n",
       "      <th>20012957</th>\n",
       "      <td>2021</td>\n",
       "      <td>529261</td>\n",
       "      <td>2021-529261</td>\n",
       "    </tr>\n",
       "  </tbody>\n",
       "</table>\n",
       "</div>"
      ],
      "text/plain": [
       "              AnnoDocumento NumeroDocumento ChiaveFattura\n",
       "CodiceCliente                                            \n",
       "470843753              2021          300377   2021-300377\n",
       "6103959                2022          132551   2022-132551\n",
       "470843720              2021          494178   2021-494178\n",
       "20016230               2021          502473   2021-502473\n",
       "20012957               2021          529261   2021-529261"
      ]
     },
     "execution_count": 29,
     "metadata": {},
     "output_type": "execute_result"
    }
   ],
   "source": [
    "# Concateniamo le colonne AnnoDocumento e NumeroDocumento separati dal '-'\n",
    "df_Azienda['ChiaveFattura'] = df_Azienda['AnnoDocumento'].astype('str') + '-' + df_Azienda['NumeroDocumento'].astype('str')\n",
    "\n",
    "# Stampiamo le prime righe per controllo\n",
    "df_Azienda[['AnnoDocumento','NumeroDocumento','ChiaveFattura']].head()"
   ]
  },
  {
   "cell_type": "markdown",
   "metadata": {},
   "source": [
    "## Cliente Moroso - CMOR\n",
    "Vengono identificate le fatture morose, atte ad identificare anche il cliente moroso, questo attribuendo il valore '1' a tutti gli esempi con Saldo negativo e '0' al resto.\n",
    "\n",
    "La creazione della nuova colonna avviene tramite la seguente funzione applicata al Saldo."
   ]
  },
  {
   "cell_type": "code",
   "execution_count": 30,
   "metadata": {},
   "outputs": [],
   "source": [
    "def CMOR(Saldo):\n",
    "    if Saldo < 0:\n",
    "        return 1\n",
    "    else:\n",
    "        return 0"
   ]
  },
  {
   "cell_type": "markdown",
   "metadata": {},
   "source": [
    "Applichiamo la funzione per creare una nuova colonna con la classificazione CMOR del cliente."
   ]
  },
  {
   "cell_type": "code",
   "execution_count": 31,
   "metadata": {},
   "outputs": [
    {
     "data": {
      "text/html": [
       "<div>\n",
       "<style scoped>\n",
       "    .dataframe tbody tr th:only-of-type {\n",
       "        vertical-align: middle;\n",
       "    }\n",
       "\n",
       "    .dataframe tbody tr th {\n",
       "        vertical-align: top;\n",
       "    }\n",
       "\n",
       "    .dataframe thead th {\n",
       "        text-align: right;\n",
       "    }\n",
       "</style>\n",
       "<table border=\"1\" class=\"dataframe\">\n",
       "  <thead>\n",
       "    <tr style=\"text-align: right;\">\n",
       "      <th></th>\n",
       "      <th>AnnoDocumento</th>\n",
       "      <th>NumeroDocumento</th>\n",
       "      <th>Servizio</th>\n",
       "      <th>ScadenzaFattura</th>\n",
       "      <th>ImportoFattura</th>\n",
       "      <th>ModPagamento</th>\n",
       "      <th>DescrizionePagamento</th>\n",
       "      <th>DataIncasso</th>\n",
       "      <th>ImportoIncasso</th>\n",
       "      <th>Saldo</th>\n",
       "      <th>GiorniRitardoIncasso</th>\n",
       "      <th>ScadenzaFatturaMese</th>\n",
       "      <th>DataIncassoMese</th>\n",
       "      <th>ScadenzaFatturaWeek</th>\n",
       "      <th>DataIncassoWeek</th>\n",
       "      <th>ChiaveFattura</th>\n",
       "      <th>CMOR</th>\n",
       "    </tr>\n",
       "    <tr>\n",
       "      <th>CodiceCliente</th>\n",
       "      <th></th>\n",
       "      <th></th>\n",
       "      <th></th>\n",
       "      <th></th>\n",
       "      <th></th>\n",
       "      <th></th>\n",
       "      <th></th>\n",
       "      <th></th>\n",
       "      <th></th>\n",
       "      <th></th>\n",
       "      <th></th>\n",
       "      <th></th>\n",
       "      <th></th>\n",
       "      <th></th>\n",
       "      <th></th>\n",
       "      <th></th>\n",
       "      <th></th>\n",
       "    </tr>\n",
       "  </thead>\n",
       "  <tbody>\n",
       "    <tr>\n",
       "      <th>470843753</th>\n",
       "      <td>2021</td>\n",
       "      <td>300377</td>\n",
       "      <td>EE</td>\n",
       "      <td>2021-05-13</td>\n",
       "      <td>1482.55</td>\n",
       "      <td>G20</td>\n",
       "      <td>20 gg data emissione fattura</td>\n",
       "      <td>2021-05-13</td>\n",
       "      <td>1482.55</td>\n",
       "      <td>0.0</td>\n",
       "      <td>0</td>\n",
       "      <td>5</td>\n",
       "      <td>5</td>\n",
       "      <td>19</td>\n",
       "      <td>19</td>\n",
       "      <td>2021-300377</td>\n",
       "      <td>0</td>\n",
       "    </tr>\n",
       "    <tr>\n",
       "      <th>6103959</th>\n",
       "      <td>2022</td>\n",
       "      <td>132551</td>\n",
       "      <td>Gas</td>\n",
       "      <td>2022-02-28</td>\n",
       "      <td>26656.50</td>\n",
       "      <td>G20</td>\n",
       "      <td>20 gg data emissione fattura</td>\n",
       "      <td>2022-02-28</td>\n",
       "      <td>26656.50</td>\n",
       "      <td>0.0</td>\n",
       "      <td>0</td>\n",
       "      <td>2</td>\n",
       "      <td>2</td>\n",
       "      <td>9</td>\n",
       "      <td>9</td>\n",
       "      <td>2022-132551</td>\n",
       "      <td>0</td>\n",
       "    </tr>\n",
       "    <tr>\n",
       "      <th>470843720</th>\n",
       "      <td>2021</td>\n",
       "      <td>494178</td>\n",
       "      <td>EE</td>\n",
       "      <td>2021-08-23</td>\n",
       "      <td>543.28</td>\n",
       "      <td>G30</td>\n",
       "      <td>30 gg data emissione fattura</td>\n",
       "      <td>2021-08-23</td>\n",
       "      <td>543.28</td>\n",
       "      <td>0.0</td>\n",
       "      <td>0</td>\n",
       "      <td>8</td>\n",
       "      <td>8</td>\n",
       "      <td>34</td>\n",
       "      <td>34</td>\n",
       "      <td>2021-494178</td>\n",
       "      <td>0</td>\n",
       "    </tr>\n",
       "    <tr>\n",
       "      <th>20016230</th>\n",
       "      <td>2021</td>\n",
       "      <td>502473</td>\n",
       "      <td>Gas</td>\n",
       "      <td>2021-08-31</td>\n",
       "      <td>964.09</td>\n",
       "      <td>G20</td>\n",
       "      <td>20 gg data emissione fattura</td>\n",
       "      <td>2021-08-31</td>\n",
       "      <td>964.09</td>\n",
       "      <td>0.0</td>\n",
       "      <td>0</td>\n",
       "      <td>8</td>\n",
       "      <td>8</td>\n",
       "      <td>35</td>\n",
       "      <td>35</td>\n",
       "      <td>2021-502473</td>\n",
       "      <td>0</td>\n",
       "    </tr>\n",
       "    <tr>\n",
       "      <th>20012957</th>\n",
       "      <td>2021</td>\n",
       "      <td>529261</td>\n",
       "      <td>EE</td>\n",
       "      <td>2021-10-12</td>\n",
       "      <td>231.19</td>\n",
       "      <td>G20</td>\n",
       "      <td>20 gg data emissione fattura</td>\n",
       "      <td>2021-10-12</td>\n",
       "      <td>231.19</td>\n",
       "      <td>0.0</td>\n",
       "      <td>0</td>\n",
       "      <td>10</td>\n",
       "      <td>10</td>\n",
       "      <td>41</td>\n",
       "      <td>41</td>\n",
       "      <td>2021-529261</td>\n",
       "      <td>0</td>\n",
       "    </tr>\n",
       "  </tbody>\n",
       "</table>\n",
       "</div>"
      ],
      "text/plain": [
       "              AnnoDocumento NumeroDocumento Servizio ScadenzaFattura  \\\n",
       "CodiceCliente                                                          \n",
       "470843753              2021          300377       EE      2021-05-13   \n",
       "6103959                2022          132551      Gas      2022-02-28   \n",
       "470843720              2021          494178       EE      2021-08-23   \n",
       "20016230               2021          502473      Gas      2021-08-31   \n",
       "20012957               2021          529261       EE      2021-10-12   \n",
       "\n",
       "               ImportoFattura ModPagamento  \\\n",
       "CodiceCliente                                \n",
       "470843753             1482.55          G20   \n",
       "6103959              26656.50          G20   \n",
       "470843720              543.28          G30   \n",
       "20016230               964.09          G20   \n",
       "20012957               231.19          G20   \n",
       "\n",
       "                              DescrizionePagamento DataIncasso  \\\n",
       "CodiceCliente                                                    \n",
       "470843753      20 gg data emissione fattura         2021-05-13   \n",
       "6103959        20 gg data emissione fattura         2022-02-28   \n",
       "470843720      30 gg data emissione fattura         2021-08-23   \n",
       "20016230       20 gg data emissione fattura         2021-08-31   \n",
       "20012957       20 gg data emissione fattura         2021-10-12   \n",
       "\n",
       "               ImportoIncasso  Saldo  GiorniRitardoIncasso  \\\n",
       "CodiceCliente                                                \n",
       "470843753             1482.55    0.0                     0   \n",
       "6103959              26656.50    0.0                     0   \n",
       "470843720              543.28    0.0                     0   \n",
       "20016230               964.09    0.0                     0   \n",
       "20012957               231.19    0.0                     0   \n",
       "\n",
       "               ScadenzaFatturaMese  DataIncassoMese  ScadenzaFatturaWeek  \\\n",
       "CodiceCliente                                                              \n",
       "470843753                        5                5                   19   \n",
       "6103959                          2                2                    9   \n",
       "470843720                        8                8                   34   \n",
       "20016230                         8                8                   35   \n",
       "20012957                        10               10                   41   \n",
       "\n",
       "               DataIncassoWeek ChiaveFattura  CMOR  \n",
       "CodiceCliente                                       \n",
       "470843753                   19   2021-300377     0  \n",
       "6103959                      9   2022-132551     0  \n",
       "470843720                   34   2021-494178     0  \n",
       "20016230                    35   2021-502473     0  \n",
       "20012957                    41   2021-529261     0  "
      ]
     },
     "execution_count": 31,
     "metadata": {},
     "output_type": "execute_result"
    }
   ],
   "source": [
    "# Creaiamo la nuova colonna tramite la funzione apply()\n",
    "df_Azienda['CMOR'] = df_Azienda['Saldo'].apply(lambda x: CMOR(x))\n",
    "\n",
    "# Stampiamo degli esempi per controllo\n",
    "df_Azienda.head()"
   ]
  },
  {
   "cell_type": "markdown",
   "metadata": {},
   "source": [
    "## CMOR Storico"
   ]
  },
  {
   "cell_type": "code",
   "execution_count": 32,
   "metadata": {},
   "outputs": [
    {
     "data": {
      "text/html": [
       "<div>\n",
       "<style scoped>\n",
       "    .dataframe tbody tr th:only-of-type {\n",
       "        vertical-align: middle;\n",
       "    }\n",
       "\n",
       "    .dataframe tbody tr th {\n",
       "        vertical-align: top;\n",
       "    }\n",
       "\n",
       "    .dataframe thead th {\n",
       "        text-align: right;\n",
       "    }\n",
       "</style>\n",
       "<table border=\"1\" class=\"dataframe\">\n",
       "  <thead>\n",
       "    <tr style=\"text-align: right;\">\n",
       "      <th></th>\n",
       "      <th>AnnoDocumento</th>\n",
       "      <th>NumeroDocumento</th>\n",
       "      <th>Servizio</th>\n",
       "      <th>ScadenzaFattura</th>\n",
       "      <th>ImportoFattura</th>\n",
       "      <th>ModPagamento</th>\n",
       "      <th>DescrizionePagamento</th>\n",
       "      <th>DataIncasso</th>\n",
       "      <th>ImportoIncasso</th>\n",
       "      <th>Saldo</th>\n",
       "      <th>GiorniRitardoIncasso</th>\n",
       "      <th>ScadenzaFatturaMese</th>\n",
       "      <th>DataIncassoMese</th>\n",
       "      <th>ScadenzaFatturaWeek</th>\n",
       "      <th>DataIncassoWeek</th>\n",
       "      <th>ChiaveFattura</th>\n",
       "      <th>CMOR</th>\n",
       "      <th>CMORStorico</th>\n",
       "    </tr>\n",
       "    <tr>\n",
       "      <th>CodiceCliente</th>\n",
       "      <th></th>\n",
       "      <th></th>\n",
       "      <th></th>\n",
       "      <th></th>\n",
       "      <th></th>\n",
       "      <th></th>\n",
       "      <th></th>\n",
       "      <th></th>\n",
       "      <th></th>\n",
       "      <th></th>\n",
       "      <th></th>\n",
       "      <th></th>\n",
       "      <th></th>\n",
       "      <th></th>\n",
       "      <th></th>\n",
       "      <th></th>\n",
       "      <th></th>\n",
       "      <th></th>\n",
       "    </tr>\n",
       "  </thead>\n",
       "  <tbody>\n",
       "    <tr>\n",
       "      <th>470843753</th>\n",
       "      <td>2021</td>\n",
       "      <td>300377</td>\n",
       "      <td>EE</td>\n",
       "      <td>2021-05-13</td>\n",
       "      <td>1482.55</td>\n",
       "      <td>G20</td>\n",
       "      <td>20 gg data emissione fattura</td>\n",
       "      <td>2021-05-13</td>\n",
       "      <td>1482.55</td>\n",
       "      <td>0.0</td>\n",
       "      <td>0</td>\n",
       "      <td>5</td>\n",
       "      <td>5</td>\n",
       "      <td>19</td>\n",
       "      <td>19</td>\n",
       "      <td>2021-300377</td>\n",
       "      <td>0</td>\n",
       "      <td>0</td>\n",
       "    </tr>\n",
       "    <tr>\n",
       "      <th>6103959</th>\n",
       "      <td>2022</td>\n",
       "      <td>132551</td>\n",
       "      <td>Gas</td>\n",
       "      <td>2022-02-28</td>\n",
       "      <td>26656.50</td>\n",
       "      <td>G20</td>\n",
       "      <td>20 gg data emissione fattura</td>\n",
       "      <td>2022-02-28</td>\n",
       "      <td>26656.50</td>\n",
       "      <td>0.0</td>\n",
       "      <td>0</td>\n",
       "      <td>2</td>\n",
       "      <td>2</td>\n",
       "      <td>9</td>\n",
       "      <td>9</td>\n",
       "      <td>2022-132551</td>\n",
       "      <td>0</td>\n",
       "      <td>0</td>\n",
       "    </tr>\n",
       "    <tr>\n",
       "      <th>470843720</th>\n",
       "      <td>2021</td>\n",
       "      <td>494178</td>\n",
       "      <td>EE</td>\n",
       "      <td>2021-08-23</td>\n",
       "      <td>543.28</td>\n",
       "      <td>G30</td>\n",
       "      <td>30 gg data emissione fattura</td>\n",
       "      <td>2021-08-23</td>\n",
       "      <td>543.28</td>\n",
       "      <td>0.0</td>\n",
       "      <td>0</td>\n",
       "      <td>8</td>\n",
       "      <td>8</td>\n",
       "      <td>34</td>\n",
       "      <td>34</td>\n",
       "      <td>2021-494178</td>\n",
       "      <td>0</td>\n",
       "      <td>0</td>\n",
       "    </tr>\n",
       "    <tr>\n",
       "      <th>20016230</th>\n",
       "      <td>2021</td>\n",
       "      <td>502473</td>\n",
       "      <td>Gas</td>\n",
       "      <td>2021-08-31</td>\n",
       "      <td>964.09</td>\n",
       "      <td>G20</td>\n",
       "      <td>20 gg data emissione fattura</td>\n",
       "      <td>2021-08-31</td>\n",
       "      <td>964.09</td>\n",
       "      <td>0.0</td>\n",
       "      <td>0</td>\n",
       "      <td>8</td>\n",
       "      <td>8</td>\n",
       "      <td>35</td>\n",
       "      <td>35</td>\n",
       "      <td>2021-502473</td>\n",
       "      <td>0</td>\n",
       "      <td>0</td>\n",
       "    </tr>\n",
       "    <tr>\n",
       "      <th>20012957</th>\n",
       "      <td>2021</td>\n",
       "      <td>529261</td>\n",
       "      <td>EE</td>\n",
       "      <td>2021-10-12</td>\n",
       "      <td>231.19</td>\n",
       "      <td>G20</td>\n",
       "      <td>20 gg data emissione fattura</td>\n",
       "      <td>2021-10-12</td>\n",
       "      <td>231.19</td>\n",
       "      <td>0.0</td>\n",
       "      <td>0</td>\n",
       "      <td>10</td>\n",
       "      <td>10</td>\n",
       "      <td>41</td>\n",
       "      <td>41</td>\n",
       "      <td>2021-529261</td>\n",
       "      <td>0</td>\n",
       "      <td>0</td>\n",
       "    </tr>\n",
       "  </tbody>\n",
       "</table>\n",
       "</div>"
      ],
      "text/plain": [
       "              AnnoDocumento NumeroDocumento Servizio ScadenzaFattura  \\\n",
       "CodiceCliente                                                          \n",
       "470843753              2021          300377       EE      2021-05-13   \n",
       "6103959                2022          132551      Gas      2022-02-28   \n",
       "470843720              2021          494178       EE      2021-08-23   \n",
       "20016230               2021          502473      Gas      2021-08-31   \n",
       "20012957               2021          529261       EE      2021-10-12   \n",
       "\n",
       "               ImportoFattura ModPagamento  \\\n",
       "CodiceCliente                                \n",
       "470843753             1482.55          G20   \n",
       "6103959              26656.50          G20   \n",
       "470843720              543.28          G30   \n",
       "20016230               964.09          G20   \n",
       "20012957               231.19          G20   \n",
       "\n",
       "                              DescrizionePagamento DataIncasso  \\\n",
       "CodiceCliente                                                    \n",
       "470843753      20 gg data emissione fattura         2021-05-13   \n",
       "6103959        20 gg data emissione fattura         2022-02-28   \n",
       "470843720      30 gg data emissione fattura         2021-08-23   \n",
       "20016230       20 gg data emissione fattura         2021-08-31   \n",
       "20012957       20 gg data emissione fattura         2021-10-12   \n",
       "\n",
       "               ImportoIncasso  Saldo  GiorniRitardoIncasso  \\\n",
       "CodiceCliente                                                \n",
       "470843753             1482.55    0.0                     0   \n",
       "6103959              26656.50    0.0                     0   \n",
       "470843720              543.28    0.0                     0   \n",
       "20016230               964.09    0.0                     0   \n",
       "20012957               231.19    0.0                     0   \n",
       "\n",
       "               ScadenzaFatturaMese  DataIncassoMese  ScadenzaFatturaWeek  \\\n",
       "CodiceCliente                                                              \n",
       "470843753                        5                5                   19   \n",
       "6103959                          2                2                    9   \n",
       "470843720                        8                8                   34   \n",
       "20016230                         8                8                   35   \n",
       "20012957                        10               10                   41   \n",
       "\n",
       "               DataIncassoWeek ChiaveFattura  CMOR  CMORStorico  \n",
       "CodiceCliente                                                    \n",
       "470843753                   19   2021-300377     0            0  \n",
       "6103959                      9   2022-132551     0            0  \n",
       "470843720                   34   2021-494178     0            0  \n",
       "20016230                    35   2021-502473     0            0  \n",
       "20012957                    41   2021-529261     0            0  "
      ]
     },
     "execution_count": 32,
     "metadata": {},
     "output_type": "execute_result"
    }
   ],
   "source": [
    "df_Azienda['CMORStorico'] = np.where(df_Azienda['GiorniRitardoIncasso'] > 0,1,0)\n",
    "\n",
    "df_Azienda.head()"
   ]
  },
  {
   "cell_type": "markdown",
   "metadata": {},
   "source": [
    "## Rolling CMOR"
   ]
  },
  {
   "cell_type": "code",
   "execution_count": 33,
   "metadata": {},
   "outputs": [
    {
     "name": "stdout",
     "output_type": "stream",
     "text": [
      "Wall time: 2min 11s\n"
     ]
    },
    {
     "data": {
      "text/plain": [
       "(149488, 3)"
      ]
     },
     "execution_count": 33,
     "metadata": {},
     "output_type": "execute_result"
    }
   ],
   "source": [
    "%%time\n",
    "\n",
    "df_Azienda_Rolling = pd.DataFrame()\n",
    "\n",
    "for cliente in df_Azienda.index.unique():\n",
    "    df_cliente = df_Azienda[df_Azienda.index == cliente][['ScadenzaFattura','CMORStorico']].reset_index()\n",
    "    \n",
    "    df_cliente = df_cliente.groupby(by=['CodiceCliente','ScadenzaFattura']).sum().reset_index()\n",
    "  \n",
    "    df_cliente_rolling = df_cliente[['ScadenzaFattura','CMORStorico']]\n",
    "    \n",
    "    df_cliente_rolling = df_cliente_rolling.rolling('120D',on='ScadenzaFattura').sum()\n",
    "    \n",
    "    df_totale = pd.merge(df_cliente, df_cliente_rolling, how = 'left', left_on = 'ScadenzaFattura', right_on='ScadenzaFattura')\n",
    "    \n",
    "    df_totale = df_totale.drop(columns = ['CMORStorico_x'])\n",
    "    \n",
    "    df_Azienda_Rolling = pd.concat([df_Azienda_Rolling, df_totale],ignore_index=True)\n",
    "\n",
    "df_Azienda_Rolling.shape"
   ]
  },
  {
   "cell_type": "code",
   "execution_count": 34,
   "metadata": {},
   "outputs": [
    {
     "data": {
      "text/plain": [
       "(203463, 20)"
      ]
     },
     "execution_count": 34,
     "metadata": {},
     "output_type": "execute_result"
    }
   ],
   "source": [
    "df_Azienda = pd.merge(\n",
    "                left = df_Azienda\n",
    "                , right = df_Azienda_Rolling\n",
    "                , how = 'left'\n",
    "                , left_on = ['CodiceCliente', 'ScadenzaFattura']\n",
    "                , right_on = ['CodiceCliente', 'ScadenzaFattura']\n",
    "            )\n",
    "\n",
    "df_Azienda.shape"
   ]
  },
  {
   "cell_type": "code",
   "execution_count": 35,
   "metadata": {},
   "outputs": [
    {
     "data": {
      "text/html": [
       "<div>\n",
       "<style scoped>\n",
       "    .dataframe tbody tr th:only-of-type {\n",
       "        vertical-align: middle;\n",
       "    }\n",
       "\n",
       "    .dataframe tbody tr th {\n",
       "        vertical-align: top;\n",
       "    }\n",
       "\n",
       "    .dataframe thead th {\n",
       "        text-align: right;\n",
       "    }\n",
       "</style>\n",
       "<table border=\"1\" class=\"dataframe\">\n",
       "  <thead>\n",
       "    <tr style=\"text-align: right;\">\n",
       "      <th></th>\n",
       "      <th>CodiceCliente</th>\n",
       "      <th>AnnoDocumento</th>\n",
       "      <th>NumeroDocumento</th>\n",
       "      <th>Servizio</th>\n",
       "      <th>ScadenzaFattura</th>\n",
       "      <th>ImportoFattura</th>\n",
       "      <th>ModPagamento</th>\n",
       "      <th>DescrizionePagamento</th>\n",
       "      <th>DataIncasso</th>\n",
       "      <th>ImportoIncasso</th>\n",
       "      <th>Saldo</th>\n",
       "      <th>GiorniRitardoIncasso</th>\n",
       "      <th>ScadenzaFatturaMese</th>\n",
       "      <th>DataIncassoMese</th>\n",
       "      <th>ScadenzaFatturaWeek</th>\n",
       "      <th>DataIncassoWeek</th>\n",
       "      <th>ChiaveFattura</th>\n",
       "      <th>CMOR</th>\n",
       "      <th>CMORStorico</th>\n",
       "      <th>CMORRolling</th>\n",
       "    </tr>\n",
       "  </thead>\n",
       "  <tbody>\n",
       "    <tr>\n",
       "      <th>0</th>\n",
       "      <td>470843753</td>\n",
       "      <td>2021</td>\n",
       "      <td>300377</td>\n",
       "      <td>EE</td>\n",
       "      <td>2021-05-13</td>\n",
       "      <td>1482.55</td>\n",
       "      <td>G20</td>\n",
       "      <td>20 gg data emissione fattura</td>\n",
       "      <td>2021-05-13 00:00:00.000000</td>\n",
       "      <td>1482.55</td>\n",
       "      <td>0.00</td>\n",
       "      <td>0</td>\n",
       "      <td>5</td>\n",
       "      <td>5</td>\n",
       "      <td>19</td>\n",
       "      <td>19</td>\n",
       "      <td>2021-300377</td>\n",
       "      <td>0</td>\n",
       "      <td>0</td>\n",
       "      <td>0.0</td>\n",
       "    </tr>\n",
       "    <tr>\n",
       "      <th>1</th>\n",
       "      <td>6103959</td>\n",
       "      <td>2022</td>\n",
       "      <td>132551</td>\n",
       "      <td>Gas</td>\n",
       "      <td>2022-02-28</td>\n",
       "      <td>26656.50</td>\n",
       "      <td>G20</td>\n",
       "      <td>20 gg data emissione fattura</td>\n",
       "      <td>2022-02-28 00:00:00.000000</td>\n",
       "      <td>26656.50</td>\n",
       "      <td>0.00</td>\n",
       "      <td>0</td>\n",
       "      <td>2</td>\n",
       "      <td>2</td>\n",
       "      <td>9</td>\n",
       "      <td>9</td>\n",
       "      <td>2022-132551</td>\n",
       "      <td>0</td>\n",
       "      <td>0</td>\n",
       "      <td>0.0</td>\n",
       "    </tr>\n",
       "    <tr>\n",
       "      <th>2</th>\n",
       "      <td>470843720</td>\n",
       "      <td>2021</td>\n",
       "      <td>494178</td>\n",
       "      <td>EE</td>\n",
       "      <td>2021-08-23</td>\n",
       "      <td>543.28</td>\n",
       "      <td>G30</td>\n",
       "      <td>30 gg data emissione fattura</td>\n",
       "      <td>2021-08-23 00:00:00.000000</td>\n",
       "      <td>543.28</td>\n",
       "      <td>0.00</td>\n",
       "      <td>0</td>\n",
       "      <td>8</td>\n",
       "      <td>8</td>\n",
       "      <td>34</td>\n",
       "      <td>34</td>\n",
       "      <td>2021-494178</td>\n",
       "      <td>0</td>\n",
       "      <td>0</td>\n",
       "      <td>0.0</td>\n",
       "    </tr>\n",
       "    <tr>\n",
       "      <th>3</th>\n",
       "      <td>20016230</td>\n",
       "      <td>2021</td>\n",
       "      <td>502473</td>\n",
       "      <td>Gas</td>\n",
       "      <td>2021-08-31</td>\n",
       "      <td>964.09</td>\n",
       "      <td>G20</td>\n",
       "      <td>20 gg data emissione fattura</td>\n",
       "      <td>2021-08-31 00:00:00.000000</td>\n",
       "      <td>964.09</td>\n",
       "      <td>0.00</td>\n",
       "      <td>0</td>\n",
       "      <td>8</td>\n",
       "      <td>8</td>\n",
       "      <td>35</td>\n",
       "      <td>35</td>\n",
       "      <td>2021-502473</td>\n",
       "      <td>0</td>\n",
       "      <td>0</td>\n",
       "      <td>0.0</td>\n",
       "    </tr>\n",
       "    <tr>\n",
       "      <th>4</th>\n",
       "      <td>20012957</td>\n",
       "      <td>2021</td>\n",
       "      <td>529261</td>\n",
       "      <td>EE</td>\n",
       "      <td>2021-10-12</td>\n",
       "      <td>231.19</td>\n",
       "      <td>G20</td>\n",
       "      <td>20 gg data emissione fattura</td>\n",
       "      <td>2021-10-12 00:00:00.000000</td>\n",
       "      <td>231.19</td>\n",
       "      <td>0.00</td>\n",
       "      <td>0</td>\n",
       "      <td>10</td>\n",
       "      <td>10</td>\n",
       "      <td>41</td>\n",
       "      <td>41</td>\n",
       "      <td>2021-529261</td>\n",
       "      <td>0</td>\n",
       "      <td>0</td>\n",
       "      <td>0.0</td>\n",
       "    </tr>\n",
       "    <tr>\n",
       "      <th>...</th>\n",
       "      <td>...</td>\n",
       "      <td>...</td>\n",
       "      <td>...</td>\n",
       "      <td>...</td>\n",
       "      <td>...</td>\n",
       "      <td>...</td>\n",
       "      <td>...</td>\n",
       "      <td>...</td>\n",
       "      <td>...</td>\n",
       "      <td>...</td>\n",
       "      <td>...</td>\n",
       "      <td>...</td>\n",
       "      <td>...</td>\n",
       "      <td>...</td>\n",
       "      <td>...</td>\n",
       "      <td>...</td>\n",
       "      <td>...</td>\n",
       "      <td>...</td>\n",
       "      <td>...</td>\n",
       "      <td>...</td>\n",
       "    </tr>\n",
       "    <tr>\n",
       "      <th>203458</th>\n",
       "      <td>470851781</td>\n",
       "      <td>2021</td>\n",
       "      <td>398661</td>\n",
       "      <td>EE</td>\n",
       "      <td>2021-07-13</td>\n",
       "      <td>73.70</td>\n",
       "      <td>G20</td>\n",
       "      <td>20 gg data emissione fattura</td>\n",
       "      <td>2022-03-26 12:43:06.421692</td>\n",
       "      <td>0.00</td>\n",
       "      <td>-73.70</td>\n",
       "      <td>256</td>\n",
       "      <td>7</td>\n",
       "      <td>3</td>\n",
       "      <td>28</td>\n",
       "      <td>12</td>\n",
       "      <td>2021-398661</td>\n",
       "      <td>1</td>\n",
       "      <td>1</td>\n",
       "      <td>1.0</td>\n",
       "    </tr>\n",
       "    <tr>\n",
       "      <th>203459</th>\n",
       "      <td>470802889</td>\n",
       "      <td>2022</td>\n",
       "      <td>150450</td>\n",
       "      <td>EE</td>\n",
       "      <td>2022-03-14</td>\n",
       "      <td>163.20</td>\n",
       "      <td>G20</td>\n",
       "      <td>20 gg data emissione fattura</td>\n",
       "      <td>2022-03-26 12:43:06.421692</td>\n",
       "      <td>0.00</td>\n",
       "      <td>-163.20</td>\n",
       "      <td>12</td>\n",
       "      <td>3</td>\n",
       "      <td>3</td>\n",
       "      <td>11</td>\n",
       "      <td>12</td>\n",
       "      <td>2022-150450</td>\n",
       "      <td>1</td>\n",
       "      <td>1</td>\n",
       "      <td>1.0</td>\n",
       "    </tr>\n",
       "    <tr>\n",
       "      <th>203460</th>\n",
       "      <td>470828677</td>\n",
       "      <td>2022</td>\n",
       "      <td>145458</td>\n",
       "      <td>Gas</td>\n",
       "      <td>2022-03-10</td>\n",
       "      <td>10027.59</td>\n",
       "      <td>G30</td>\n",
       "      <td>30 gg data emissione fattura</td>\n",
       "      <td>2022-03-26 12:43:06.421692</td>\n",
       "      <td>0.00</td>\n",
       "      <td>-10027.59</td>\n",
       "      <td>16</td>\n",
       "      <td>3</td>\n",
       "      <td>3</td>\n",
       "      <td>10</td>\n",
       "      <td>12</td>\n",
       "      <td>2022-145458</td>\n",
       "      <td>1</td>\n",
       "      <td>1</td>\n",
       "      <td>4.0</td>\n",
       "    </tr>\n",
       "    <tr>\n",
       "      <th>203461</th>\n",
       "      <td>470836041</td>\n",
       "      <td>2022</td>\n",
       "      <td>149801</td>\n",
       "      <td>EE</td>\n",
       "      <td>2022-03-14</td>\n",
       "      <td>2471.92</td>\n",
       "      <td>G20</td>\n",
       "      <td>20 gg data emissione fattura</td>\n",
       "      <td>2022-03-26 12:43:06.421692</td>\n",
       "      <td>0.00</td>\n",
       "      <td>-2471.92</td>\n",
       "      <td>12</td>\n",
       "      <td>3</td>\n",
       "      <td>3</td>\n",
       "      <td>11</td>\n",
       "      <td>12</td>\n",
       "      <td>2022-149801</td>\n",
       "      <td>1</td>\n",
       "      <td>1</td>\n",
       "      <td>4.0</td>\n",
       "    </tr>\n",
       "    <tr>\n",
       "      <th>203462</th>\n",
       "      <td>470849029</td>\n",
       "      <td>2022</td>\n",
       "      <td>153861</td>\n",
       "      <td>EE</td>\n",
       "      <td>2022-03-14</td>\n",
       "      <td>52.50</td>\n",
       "      <td>G20</td>\n",
       "      <td>20 gg data emissione fattura</td>\n",
       "      <td>2022-03-26 12:43:06.421692</td>\n",
       "      <td>0.00</td>\n",
       "      <td>-52.50</td>\n",
       "      <td>12</td>\n",
       "      <td>3</td>\n",
       "      <td>3</td>\n",
       "      <td>11</td>\n",
       "      <td>12</td>\n",
       "      <td>2022-153861</td>\n",
       "      <td>1</td>\n",
       "      <td>1</td>\n",
       "      <td>4.0</td>\n",
       "    </tr>\n",
       "  </tbody>\n",
       "</table>\n",
       "<p>203463 rows × 20 columns</p>\n",
       "</div>"
      ],
      "text/plain": [
       "        CodiceCliente AnnoDocumento NumeroDocumento Servizio ScadenzaFattura  \\\n",
       "0           470843753          2021          300377       EE      2021-05-13   \n",
       "1             6103959          2022          132551      Gas      2022-02-28   \n",
       "2           470843720          2021          494178       EE      2021-08-23   \n",
       "3            20016230          2021          502473      Gas      2021-08-31   \n",
       "4            20012957          2021          529261       EE      2021-10-12   \n",
       "...               ...           ...             ...      ...             ...   \n",
       "203458      470851781          2021          398661       EE      2021-07-13   \n",
       "203459      470802889          2022          150450       EE      2022-03-14   \n",
       "203460      470828677          2022          145458      Gas      2022-03-10   \n",
       "203461      470836041          2022          149801       EE      2022-03-14   \n",
       "203462      470849029          2022          153861       EE      2022-03-14   \n",
       "\n",
       "        ImportoFattura ModPagamento                 DescrizionePagamento  \\\n",
       "0              1482.55          G20  20 gg data emissione fattura          \n",
       "1             26656.50          G20  20 gg data emissione fattura          \n",
       "2               543.28          G30  30 gg data emissione fattura          \n",
       "3               964.09          G20  20 gg data emissione fattura          \n",
       "4               231.19          G20  20 gg data emissione fattura          \n",
       "...                ...          ...                                  ...   \n",
       "203458           73.70          G20  20 gg data emissione fattura          \n",
       "203459          163.20          G20  20 gg data emissione fattura          \n",
       "203460        10027.59          G30  30 gg data emissione fattura          \n",
       "203461         2471.92          G20  20 gg data emissione fattura          \n",
       "203462           52.50          G20  20 gg data emissione fattura          \n",
       "\n",
       "                      DataIncasso  ImportoIncasso     Saldo  \\\n",
       "0      2021-05-13 00:00:00.000000         1482.55      0.00   \n",
       "1      2022-02-28 00:00:00.000000        26656.50      0.00   \n",
       "2      2021-08-23 00:00:00.000000          543.28      0.00   \n",
       "3      2021-08-31 00:00:00.000000          964.09      0.00   \n",
       "4      2021-10-12 00:00:00.000000          231.19      0.00   \n",
       "...                           ...             ...       ...   \n",
       "203458 2022-03-26 12:43:06.421692            0.00    -73.70   \n",
       "203459 2022-03-26 12:43:06.421692            0.00   -163.20   \n",
       "203460 2022-03-26 12:43:06.421692            0.00 -10027.59   \n",
       "203461 2022-03-26 12:43:06.421692            0.00  -2471.92   \n",
       "203462 2022-03-26 12:43:06.421692            0.00    -52.50   \n",
       "\n",
       "        GiorniRitardoIncasso  ScadenzaFatturaMese  DataIncassoMese  \\\n",
       "0                          0                    5                5   \n",
       "1                          0                    2                2   \n",
       "2                          0                    8                8   \n",
       "3                          0                    8                8   \n",
       "4                          0                   10               10   \n",
       "...                      ...                  ...              ...   \n",
       "203458                   256                    7                3   \n",
       "203459                    12                    3                3   \n",
       "203460                    16                    3                3   \n",
       "203461                    12                    3                3   \n",
       "203462                    12                    3                3   \n",
       "\n",
       "        ScadenzaFatturaWeek  DataIncassoWeek ChiaveFattura  CMOR  CMORStorico  \\\n",
       "0                        19               19   2021-300377     0            0   \n",
       "1                         9                9   2022-132551     0            0   \n",
       "2                        34               34   2021-494178     0            0   \n",
       "3                        35               35   2021-502473     0            0   \n",
       "4                        41               41   2021-529261     0            0   \n",
       "...                     ...              ...           ...   ...          ...   \n",
       "203458                   28               12   2021-398661     1            1   \n",
       "203459                   11               12   2022-150450     1            1   \n",
       "203460                   10               12   2022-145458     1            1   \n",
       "203461                   11               12   2022-149801     1            1   \n",
       "203462                   11               12   2022-153861     1            1   \n",
       "\n",
       "        CMORRolling  \n",
       "0               0.0  \n",
       "1               0.0  \n",
       "2               0.0  \n",
       "3               0.0  \n",
       "4               0.0  \n",
       "...             ...  \n",
       "203458          1.0  \n",
       "203459          1.0  \n",
       "203460          4.0  \n",
       "203461          4.0  \n",
       "203462          4.0  \n",
       "\n",
       "[203463 rows x 20 columns]"
      ]
     },
     "execution_count": 35,
     "metadata": {},
     "output_type": "execute_result"
    }
   ],
   "source": [
    "df_Azienda.rename(columns = {'CMORStorico_y':'CMORRolling'}, inplace=True)\n",
    "\n",
    "df_Azienda"
   ]
  },
  {
   "cell_type": "markdown",
   "metadata": {},
   "source": [
    "# Unione Dataset\n",
    "Si decide di unire i dataset così da avere un unico insieme da poter esplorare e lavorare successivamente.\n",
    "\n",
    "Il merge dei dataset verrà effettuato utilizzado il codice cliente come chiave di unione."
   ]
  },
  {
   "cell_type": "code",
   "execution_count": 36,
   "metadata": {},
   "outputs": [
    {
     "data": {
      "text/plain": [
       "(203210, 33)"
      ]
     },
     "execution_count": 36,
     "metadata": {},
     "output_type": "execute_result"
    }
   ],
   "source": [
    "# Tramite la funzione merge si procede a creare un dataset unico con tutti i dati\n",
    "df = pd.merge(\n",
    "        left = df_Azienda\n",
    "        , right = df_Cerved\n",
    "        , how = 'inner'\n",
    "        , left_on = 'CodiceCliente'\n",
    "        , right_index = True\n",
    "    )\n",
    "\n",
    "# Stampiamo la dimensione del nuovo dataset per controllo\n",
    "df.shape"
   ]
  },
  {
   "cell_type": "markdown",
   "metadata": {},
   "source": [
    "Il nuovo dataset deve corrispondere, per numero di esempi, con il dataset Azienda, quindi stampiamo le dimensioni di quest'ultimo per controllo"
   ]
  },
  {
   "cell_type": "code",
   "execution_count": 37,
   "metadata": {},
   "outputs": [
    {
     "data": {
      "text/plain": [
       "(203463, 20)"
      ]
     },
     "execution_count": 37,
     "metadata": {},
     "output_type": "execute_result"
    }
   ],
   "source": [
    "# Stampiamo la dimensione del dataset Azienda per controllo\n",
    "df_Azienda.shape"
   ]
  },
  {
   "cell_type": "markdown",
   "metadata": {},
   "source": [
    "Facendo il marge dei dataframe abbiamo un insieme di 203210 esempi e 22 feature, contro i 203463 esempi forniti dall'azienda cliente.\n",
    "\n",
    "La differenza è dovuta alla pulizia del dataframe di Cerved svolto precedentemente.\n",
    "\n",
    "Procediamo controllando i valori NaN del nuovo dataset per controllare che il merge sia svolto correttamente."
   ]
  },
  {
   "cell_type": "code",
   "execution_count": 38,
   "metadata": {},
   "outputs": [
    {
     "data": {
      "text/plain": [
       "CodiceCliente            0\n",
       "AnnoDocumento            0\n",
       "NumeroDocumento          0\n",
       "Servizio                 0\n",
       "ScadenzaFattura          0\n",
       "ImportoFattura           0\n",
       "ModPagamento             0\n",
       "DescrizionePagamento     0\n",
       "DataIncasso              0\n",
       "ImportoIncasso           0\n",
       "Saldo                    0\n",
       "GiorniRitardoIncasso     0\n",
       "ScadenzaFatturaMese      0\n",
       "DataIncassoMese          0\n",
       "ScadenzaFatturaWeek      0\n",
       "DataIncassoWeek          0\n",
       "ChiaveFattura            0\n",
       "CMOR                     0\n",
       "CMORStorico              0\n",
       "CMORRolling              0\n",
       "NATURA_GIURIDICA         0\n",
       "PV                       0\n",
       "CODICE_ISTAT             0\n",
       "FIDO_PAYLINE             0\n",
       "DECISIONE                0\n",
       "VALUTAZIONE_TEMPI_PAG    0\n",
       "GG_PATTUITI              0\n",
       "GG_RITARDO               0\n",
       "FATTURATO                0\n",
       "FATTURATO_MESE           0\n",
       "CLASSE_RISCHIO           0\n",
       "CLASSE_RISCHIO_DESCR     0\n",
       "Regione                  0\n",
       "dtype: int64"
      ]
     },
     "execution_count": 38,
     "metadata": {},
     "output_type": "execute_result"
    }
   ],
   "source": [
    "# Sommiamo i valori NaN di ogni colonna per controllo\n",
    "df.isna().sum()"
   ]
  },
  {
   "cell_type": "markdown",
   "metadata": {},
   "source": [
    "Rinominiamo alcune colonne per mantenere una nomenclatura standard"
   ]
  },
  {
   "cell_type": "code",
   "execution_count": 39,
   "metadata": {},
   "outputs": [
    {
     "data": {
      "text/html": [
       "<div>\n",
       "<style scoped>\n",
       "    .dataframe tbody tr th:only-of-type {\n",
       "        vertical-align: middle;\n",
       "    }\n",
       "\n",
       "    .dataframe tbody tr th {\n",
       "        vertical-align: top;\n",
       "    }\n",
       "\n",
       "    .dataframe thead th {\n",
       "        text-align: right;\n",
       "    }\n",
       "</style>\n",
       "<table border=\"1\" class=\"dataframe\">\n",
       "  <thead>\n",
       "    <tr style=\"text-align: right;\">\n",
       "      <th></th>\n",
       "      <th>CodiceCliente</th>\n",
       "      <th>AnnoDocumento</th>\n",
       "      <th>NumeroDocumento</th>\n",
       "      <th>Servizio</th>\n",
       "      <th>ScadenzaFattura</th>\n",
       "      <th>ImportoFattura</th>\n",
       "      <th>ModPagamento</th>\n",
       "      <th>DescrizionePagamento</th>\n",
       "      <th>DataIncasso</th>\n",
       "      <th>ImportoIncasso</th>\n",
       "      <th>...</th>\n",
       "      <th>FidoPayline</th>\n",
       "      <th>Decisione</th>\n",
       "      <th>ValutazioneTempiPagamento</th>\n",
       "      <th>GiorniPattuiti</th>\n",
       "      <th>GiorniRitardo</th>\n",
       "      <th>Fatturato</th>\n",
       "      <th>FatturatoMese</th>\n",
       "      <th>ClasseRischio</th>\n",
       "      <th>ClasseRischioDescrizione</th>\n",
       "      <th>Regione</th>\n",
       "    </tr>\n",
       "  </thead>\n",
       "  <tbody>\n",
       "    <tr>\n",
       "      <th>0</th>\n",
       "      <td>470843753</td>\n",
       "      <td>2021</td>\n",
       "      <td>300377</td>\n",
       "      <td>EE</td>\n",
       "      <td>2021-05-13</td>\n",
       "      <td>1482.55</td>\n",
       "      <td>G20</td>\n",
       "      <td>20 gg data emissione fattura</td>\n",
       "      <td>2021-05-13</td>\n",
       "      <td>1482.55</td>\n",
       "      <td>...</td>\n",
       "      <td>3000.0</td>\n",
       "      <td>Accordabile</td>\n",
       "      <td>Regolari</td>\n",
       "      <td>23.0</td>\n",
       "      <td>0.0</td>\n",
       "      <td>17412.82</td>\n",
       "      <td>1476.3</td>\n",
       "      <td>4</td>\n",
       "      <td>Affidabile</td>\n",
       "      <td>Veneto</td>\n",
       "    </tr>\n",
       "    <tr>\n",
       "      <th>3145</th>\n",
       "      <td>470843753</td>\n",
       "      <td>2021</td>\n",
       "      <td>512570</td>\n",
       "      <td>EE</td>\n",
       "      <td>2021-09-13</td>\n",
       "      <td>1424.50</td>\n",
       "      <td>G20</td>\n",
       "      <td>20 gg data emissione fattura</td>\n",
       "      <td>2021-09-13</td>\n",
       "      <td>1424.50</td>\n",
       "      <td>...</td>\n",
       "      <td>3000.0</td>\n",
       "      <td>Accordabile</td>\n",
       "      <td>Regolari</td>\n",
       "      <td>23.0</td>\n",
       "      <td>0.0</td>\n",
       "      <td>17412.82</td>\n",
       "      <td>1476.3</td>\n",
       "      <td>4</td>\n",
       "      <td>Affidabile</td>\n",
       "      <td>Veneto</td>\n",
       "    </tr>\n",
       "    <tr>\n",
       "      <th>42993</th>\n",
       "      <td>470843753</td>\n",
       "      <td>2022</td>\n",
       "      <td>89430</td>\n",
       "      <td>EE</td>\n",
       "      <td>2022-02-11</td>\n",
       "      <td>1527.13</td>\n",
       "      <td>G20</td>\n",
       "      <td>20 gg data emissione fattura</td>\n",
       "      <td>2022-02-11</td>\n",
       "      <td>1527.13</td>\n",
       "      <td>...</td>\n",
       "      <td>3000.0</td>\n",
       "      <td>Accordabile</td>\n",
       "      <td>Regolari</td>\n",
       "      <td>23.0</td>\n",
       "      <td>0.0</td>\n",
       "      <td>17412.82</td>\n",
       "      <td>1476.3</td>\n",
       "      <td>4</td>\n",
       "      <td>Affidabile</td>\n",
       "      <td>Veneto</td>\n",
       "    </tr>\n",
       "    <tr>\n",
       "      <th>66510</th>\n",
       "      <td>470843753</td>\n",
       "      <td>2021</td>\n",
       "      <td>622538</td>\n",
       "      <td>EE</td>\n",
       "      <td>2021-11-11</td>\n",
       "      <td>1501.59</td>\n",
       "      <td>G20</td>\n",
       "      <td>20 gg data emissione fattura</td>\n",
       "      <td>2021-11-11</td>\n",
       "      <td>1501.59</td>\n",
       "      <td>...</td>\n",
       "      <td>3000.0</td>\n",
       "      <td>Accordabile</td>\n",
       "      <td>Regolari</td>\n",
       "      <td>23.0</td>\n",
       "      <td>0.0</td>\n",
       "      <td>17412.82</td>\n",
       "      <td>1476.3</td>\n",
       "      <td>4</td>\n",
       "      <td>Affidabile</td>\n",
       "      <td>Veneto</td>\n",
       "    </tr>\n",
       "    <tr>\n",
       "      <th>87737</th>\n",
       "      <td>470843753</td>\n",
       "      <td>2021</td>\n",
       "      <td>714559</td>\n",
       "      <td>EE</td>\n",
       "      <td>2021-12-13</td>\n",
       "      <td>1312.98</td>\n",
       "      <td>G20</td>\n",
       "      <td>20 gg data emissione fattura</td>\n",
       "      <td>2021-12-13</td>\n",
       "      <td>1312.98</td>\n",
       "      <td>...</td>\n",
       "      <td>3000.0</td>\n",
       "      <td>Accordabile</td>\n",
       "      <td>Regolari</td>\n",
       "      <td>23.0</td>\n",
       "      <td>0.0</td>\n",
       "      <td>17412.82</td>\n",
       "      <td>1476.3</td>\n",
       "      <td>4</td>\n",
       "      <td>Affidabile</td>\n",
       "      <td>Veneto</td>\n",
       "    </tr>\n",
       "  </tbody>\n",
       "</table>\n",
       "<p>5 rows × 33 columns</p>\n",
       "</div>"
      ],
      "text/plain": [
       "       CodiceCliente AnnoDocumento NumeroDocumento Servizio ScadenzaFattura  \\\n",
       "0          470843753          2021          300377       EE      2021-05-13   \n",
       "3145       470843753          2021          512570       EE      2021-09-13   \n",
       "42993      470843753          2022           89430       EE      2022-02-11   \n",
       "66510      470843753          2021          622538       EE      2021-11-11   \n",
       "87737      470843753          2021          714559       EE      2021-12-13   \n",
       "\n",
       "       ImportoFattura ModPagamento                 DescrizionePagamento  \\\n",
       "0             1482.55          G20  20 gg data emissione fattura          \n",
       "3145          1424.50          G20  20 gg data emissione fattura          \n",
       "42993         1527.13          G20  20 gg data emissione fattura          \n",
       "66510         1501.59          G20  20 gg data emissione fattura          \n",
       "87737         1312.98          G20  20 gg data emissione fattura          \n",
       "\n",
       "      DataIncasso  ImportoIncasso  ...  FidoPayline    Decisione  \\\n",
       "0      2021-05-13         1482.55  ...       3000.0  Accordabile   \n",
       "3145   2021-09-13         1424.50  ...       3000.0  Accordabile   \n",
       "42993  2022-02-11         1527.13  ...       3000.0  Accordabile   \n",
       "66510  2021-11-11         1501.59  ...       3000.0  Accordabile   \n",
       "87737  2021-12-13         1312.98  ...       3000.0  Accordabile   \n",
       "\n",
       "       ValutazioneTempiPagamento  GiorniPattuiti  GiorniRitardo  Fatturato  \\\n",
       "0                       Regolari            23.0            0.0   17412.82   \n",
       "3145                    Regolari            23.0            0.0   17412.82   \n",
       "42993                   Regolari            23.0            0.0   17412.82   \n",
       "66510                   Regolari            23.0            0.0   17412.82   \n",
       "87737                   Regolari            23.0            0.0   17412.82   \n",
       "\n",
       "      FatturatoMese  ClasseRischio  ClasseRischioDescrizione  Regione  \n",
       "0            1476.3              4                Affidabile   Veneto  \n",
       "3145         1476.3              4                Affidabile   Veneto  \n",
       "42993        1476.3              4                Affidabile   Veneto  \n",
       "66510        1476.3              4                Affidabile   Veneto  \n",
       "87737        1476.3              4                Affidabile   Veneto  \n",
       "\n",
       "[5 rows x 33 columns]"
      ]
     },
     "execution_count": 39,
     "metadata": {},
     "output_type": "execute_result"
    }
   ],
   "source": [
    "# Dichiariamo un dizionario per definire la nuova nomenclatura delle colonne da modificare\n",
    "NuovoNomeColonne = {\n",
    "    'NATURA_GIURIDICA' : 'NaturaGiuridica'\n",
    "    , 'PV' : 'Pv'\n",
    "    , 'CODICE_ISTAT' : 'CodiceIstat'\n",
    "    , 'FIDO_PAYLINE' : 'FidoPayline'\n",
    "    , 'DECISIONE' : 'Decisione'\n",
    "    , 'VALUTAZIONE_TEMPI_PAG' : 'ValutazioneTempiPagamento'\n",
    "    , 'GG_PATTUITI' : 'GiorniPattuiti'\n",
    "    , 'GG_RITARDO' : 'GiorniRitardo'\n",
    "    , 'FATTURATO' : 'Fatturato'\n",
    "    , 'FATTURATO_MESE' : 'FatturatoMese'\n",
    "    , 'CLASSE_RISCHIO' : 'ClasseRischio'\n",
    "    , 'CLASSE_RISCHIO_DESCR' : 'ClasseRischioDescrizione'\n",
    "}\n",
    "\n",
    "# Rinominiamo le colonne con la funzione rename()\n",
    "df = df.rename(columns = NuovoNomeColonne)\n",
    "\n",
    "# Stampiamo le prime 5 righe di esempio per controllo\n",
    "df.head()"
   ]
  },
  {
   "cell_type": "markdown",
   "metadata": {},
   "source": [
    "# Divisione Dataset\n",
    "Il dataset è composto sia da fatture storiche che fatture nuove, per l'esplorazione dei dati e per il modello si è deciso di usare solo lo storico in quanto con informazioni più complete.\n",
    "\n",
    "Questo comporta la divisione del dataset in due subset, il punto di divisione viene deciso dalla data di Scadenza Fattura. Il primo subset è antecedente alla data del 01-03-2022 mentre il secondo è posteriore alla data in oggetto."
   ]
  },
  {
   "cell_type": "code",
   "execution_count": 40,
   "metadata": {},
   "outputs": [],
   "source": [
    "# Definiamo una data di snapshot\n",
    "SnapshotData = '2022-03-01'"
   ]
  },
  {
   "cell_type": "code",
   "execution_count": 41,
   "metadata": {},
   "outputs": [
    {
     "data": {
      "text/html": [
       "<div>\n",
       "<style scoped>\n",
       "    .dataframe tbody tr th:only-of-type {\n",
       "        vertical-align: middle;\n",
       "    }\n",
       "\n",
       "    .dataframe tbody tr th {\n",
       "        vertical-align: top;\n",
       "    }\n",
       "\n",
       "    .dataframe thead th {\n",
       "        text-align: right;\n",
       "    }\n",
       "</style>\n",
       "<table border=\"1\" class=\"dataframe\">\n",
       "  <thead>\n",
       "    <tr style=\"text-align: right;\">\n",
       "      <th></th>\n",
       "      <th>CodiceCliente</th>\n",
       "      <th>AnnoDocumento</th>\n",
       "      <th>NumeroDocumento</th>\n",
       "      <th>Servizio</th>\n",
       "      <th>ScadenzaFattura</th>\n",
       "      <th>ImportoFattura</th>\n",
       "      <th>ModPagamento</th>\n",
       "      <th>DescrizionePagamento</th>\n",
       "      <th>DataIncasso</th>\n",
       "      <th>ImportoIncasso</th>\n",
       "      <th>...</th>\n",
       "      <th>FidoPayline</th>\n",
       "      <th>Decisione</th>\n",
       "      <th>ValutazioneTempiPagamento</th>\n",
       "      <th>GiorniPattuiti</th>\n",
       "      <th>GiorniRitardo</th>\n",
       "      <th>Fatturato</th>\n",
       "      <th>FatturatoMese</th>\n",
       "      <th>ClasseRischio</th>\n",
       "      <th>ClasseRischioDescrizione</th>\n",
       "      <th>Regione</th>\n",
       "    </tr>\n",
       "  </thead>\n",
       "  <tbody>\n",
       "    <tr>\n",
       "      <th>42993</th>\n",
       "      <td>470843753</td>\n",
       "      <td>2022</td>\n",
       "      <td>89430</td>\n",
       "      <td>EE</td>\n",
       "      <td>2022-02-11</td>\n",
       "      <td>1527.13</td>\n",
       "      <td>G20</td>\n",
       "      <td>20 gg data emissione fattura</td>\n",
       "      <td>2022-02-11</td>\n",
       "      <td>1527.13</td>\n",
       "      <td>...</td>\n",
       "      <td>3000.0</td>\n",
       "      <td>Accordabile</td>\n",
       "      <td>Regolari</td>\n",
       "      <td>23.0</td>\n",
       "      <td>0.0</td>\n",
       "      <td>17412.82</td>\n",
       "      <td>1476.30</td>\n",
       "      <td>4</td>\n",
       "      <td>Affidabile</td>\n",
       "      <td>Veneto</td>\n",
       "    </tr>\n",
       "    <tr>\n",
       "      <th>87737</th>\n",
       "      <td>470843753</td>\n",
       "      <td>2021</td>\n",
       "      <td>714559</td>\n",
       "      <td>EE</td>\n",
       "      <td>2021-12-13</td>\n",
       "      <td>1312.98</td>\n",
       "      <td>G20</td>\n",
       "      <td>20 gg data emissione fattura</td>\n",
       "      <td>2021-12-13</td>\n",
       "      <td>1312.98</td>\n",
       "      <td>...</td>\n",
       "      <td>3000.0</td>\n",
       "      <td>Accordabile</td>\n",
       "      <td>Regolari</td>\n",
       "      <td>23.0</td>\n",
       "      <td>0.0</td>\n",
       "      <td>17412.82</td>\n",
       "      <td>1476.30</td>\n",
       "      <td>4</td>\n",
       "      <td>Affidabile</td>\n",
       "      <td>Veneto</td>\n",
       "    </tr>\n",
       "    <tr>\n",
       "      <th>98082</th>\n",
       "      <td>470843753</td>\n",
       "      <td>2021</td>\n",
       "      <td>771454</td>\n",
       "      <td>EE</td>\n",
       "      <td>2022-01-12</td>\n",
       "      <td>1476.30</td>\n",
       "      <td>G20</td>\n",
       "      <td>20 gg data emissione fattura</td>\n",
       "      <td>2022-01-12</td>\n",
       "      <td>1476.30</td>\n",
       "      <td>...</td>\n",
       "      <td>3000.0</td>\n",
       "      <td>Accordabile</td>\n",
       "      <td>Regolari</td>\n",
       "      <td>23.0</td>\n",
       "      <td>0.0</td>\n",
       "      <td>17412.82</td>\n",
       "      <td>1476.30</td>\n",
       "      <td>4</td>\n",
       "      <td>Affidabile</td>\n",
       "      <td>Veneto</td>\n",
       "    </tr>\n",
       "    <tr>\n",
       "      <th>1</th>\n",
       "      <td>6103959</td>\n",
       "      <td>2022</td>\n",
       "      <td>132551</td>\n",
       "      <td>Gas</td>\n",
       "      <td>2022-02-28</td>\n",
       "      <td>26656.50</td>\n",
       "      <td>G20</td>\n",
       "      <td>20 gg data emissione fattura</td>\n",
       "      <td>2022-02-28</td>\n",
       "      <td>26656.50</td>\n",
       "      <td>...</td>\n",
       "      <td>5000.0</td>\n",
       "      <td>Da ridurre</td>\n",
       "      <td>Regolari</td>\n",
       "      <td>25.0</td>\n",
       "      <td>0.0</td>\n",
       "      <td>216724.83</td>\n",
       "      <td>40552.37</td>\n",
       "      <td>4</td>\n",
       "      <td>Affidabile</td>\n",
       "      <td>EmiliaRomagna</td>\n",
       "    </tr>\n",
       "    <tr>\n",
       "      <th>550</th>\n",
       "      <td>6103959</td>\n",
       "      <td>2021</td>\n",
       "      <td>755041</td>\n",
       "      <td>Gas</td>\n",
       "      <td>2021-12-31</td>\n",
       "      <td>15382.88</td>\n",
       "      <td>G20</td>\n",
       "      <td>20 gg data emissione fattura</td>\n",
       "      <td>2021-12-31</td>\n",
       "      <td>15382.88</td>\n",
       "      <td>...</td>\n",
       "      <td>5000.0</td>\n",
       "      <td>Da ridurre</td>\n",
       "      <td>Regolari</td>\n",
       "      <td>25.0</td>\n",
       "      <td>0.0</td>\n",
       "      <td>216724.83</td>\n",
       "      <td>40552.37</td>\n",
       "      <td>4</td>\n",
       "      <td>Affidabile</td>\n",
       "      <td>EmiliaRomagna</td>\n",
       "    </tr>\n",
       "  </tbody>\n",
       "</table>\n",
       "<p>5 rows × 33 columns</p>\n",
       "</div>"
      ],
      "text/plain": [
       "       CodiceCliente AnnoDocumento NumeroDocumento Servizio ScadenzaFattura  \\\n",
       "42993      470843753          2022           89430       EE      2022-02-11   \n",
       "87737      470843753          2021          714559       EE      2021-12-13   \n",
       "98082      470843753          2021          771454       EE      2022-01-12   \n",
       "1            6103959          2022          132551      Gas      2022-02-28   \n",
       "550          6103959          2021          755041      Gas      2021-12-31   \n",
       "\n",
       "       ImportoFattura ModPagamento                 DescrizionePagamento  \\\n",
       "42993         1527.13          G20  20 gg data emissione fattura          \n",
       "87737         1312.98          G20  20 gg data emissione fattura          \n",
       "98082         1476.30          G20  20 gg data emissione fattura          \n",
       "1            26656.50          G20  20 gg data emissione fattura          \n",
       "550          15382.88          G20  20 gg data emissione fattura          \n",
       "\n",
       "      DataIncasso  ImportoIncasso  ...  FidoPayline    Decisione  \\\n",
       "42993  2022-02-11         1527.13  ...       3000.0  Accordabile   \n",
       "87737  2021-12-13         1312.98  ...       3000.0  Accordabile   \n",
       "98082  2022-01-12         1476.30  ...       3000.0  Accordabile   \n",
       "1      2022-02-28        26656.50  ...       5000.0   Da ridurre   \n",
       "550    2021-12-31        15382.88  ...       5000.0   Da ridurre   \n",
       "\n",
       "       ValutazioneTempiPagamento  GiorniPattuiti  GiorniRitardo  Fatturato  \\\n",
       "42993                   Regolari            23.0            0.0   17412.82   \n",
       "87737                   Regolari            23.0            0.0   17412.82   \n",
       "98082                   Regolari            23.0            0.0   17412.82   \n",
       "1                       Regolari            25.0            0.0  216724.83   \n",
       "550                     Regolari            25.0            0.0  216724.83   \n",
       "\n",
       "      FatturatoMese  ClasseRischio  ClasseRischioDescrizione        Regione  \n",
       "42993       1476.30              4                Affidabile         Veneto  \n",
       "87737       1476.30              4                Affidabile         Veneto  \n",
       "98082       1476.30              4                Affidabile         Veneto  \n",
       "1          40552.37              4                Affidabile  EmiliaRomagna  \n",
       "550        40552.37              4                Affidabile  EmiliaRomagna  \n",
       "\n",
       "[5 rows x 33 columns]"
      ]
     },
     "execution_count": 41,
     "metadata": {},
     "output_type": "execute_result"
    }
   ],
   "source": [
    "# definiamo il subset storico con tutti gli esempi la cui data ScadenzaFattura compresa tra la data di snapshot e il 01-01-2022\n",
    "df_storico = df[(df['ScadenzaFattura'] < SnapshotData) & (df['ScadenzaFattura'] > '2021-12-01')]\n",
    "\n",
    "#Stampiamo le prime righe per controllo\n",
    "df_storico.head()"
   ]
  },
  {
   "cell_type": "code",
   "execution_count": 42,
   "metadata": {},
   "outputs": [
    {
     "data": {
      "text/html": [
       "<div>\n",
       "<style scoped>\n",
       "    .dataframe tbody tr th:only-of-type {\n",
       "        vertical-align: middle;\n",
       "    }\n",
       "\n",
       "    .dataframe tbody tr th {\n",
       "        vertical-align: top;\n",
       "    }\n",
       "\n",
       "    .dataframe thead th {\n",
       "        text-align: right;\n",
       "    }\n",
       "</style>\n",
       "<table border=\"1\" class=\"dataframe\">\n",
       "  <thead>\n",
       "    <tr style=\"text-align: right;\">\n",
       "      <th></th>\n",
       "      <th>CodiceCliente</th>\n",
       "      <th>AnnoDocumento</th>\n",
       "      <th>NumeroDocumento</th>\n",
       "      <th>Servizio</th>\n",
       "      <th>ScadenzaFattura</th>\n",
       "      <th>ImportoFattura</th>\n",
       "      <th>ModPagamento</th>\n",
       "      <th>DescrizionePagamento</th>\n",
       "      <th>DataIncasso</th>\n",
       "      <th>ImportoIncasso</th>\n",
       "      <th>...</th>\n",
       "      <th>FidoPayline</th>\n",
       "      <th>Decisione</th>\n",
       "      <th>ValutazioneTempiPagamento</th>\n",
       "      <th>GiorniPattuiti</th>\n",
       "      <th>GiorniRitardo</th>\n",
       "      <th>Fatturato</th>\n",
       "      <th>FatturatoMese</th>\n",
       "      <th>ClasseRischio</th>\n",
       "      <th>ClasseRischioDescrizione</th>\n",
       "      <th>Regione</th>\n",
       "    </tr>\n",
       "  </thead>\n",
       "  <tbody>\n",
       "    <tr>\n",
       "      <th>201328</th>\n",
       "      <td>470843753</td>\n",
       "      <td>2022</td>\n",
       "      <td>149325</td>\n",
       "      <td>EE</td>\n",
       "      <td>2022-03-14</td>\n",
       "      <td>2441.93</td>\n",
       "      <td>G20</td>\n",
       "      <td>20 gg data emissione fattura</td>\n",
       "      <td>2022-03-26 12:43:06.421692</td>\n",
       "      <td>0.0</td>\n",
       "      <td>...</td>\n",
       "      <td>3000.0</td>\n",
       "      <td>Accordabile</td>\n",
       "      <td>Regolari</td>\n",
       "      <td>23.0</td>\n",
       "      <td>0.0</td>\n",
       "      <td>17412.82</td>\n",
       "      <td>1476.30</td>\n",
       "      <td>4</td>\n",
       "      <td>Affidabile</td>\n",
       "      <td>Veneto</td>\n",
       "    </tr>\n",
       "    <tr>\n",
       "      <th>198769</th>\n",
       "      <td>6103959</td>\n",
       "      <td>2022</td>\n",
       "      <td>148948</td>\n",
       "      <td>EE</td>\n",
       "      <td>2022-03-14</td>\n",
       "      <td>1850.32</td>\n",
       "      <td>G20</td>\n",
       "      <td>20 gg data emissione fattura</td>\n",
       "      <td>2022-03-26 12:43:06.421692</td>\n",
       "      <td>0.0</td>\n",
       "      <td>...</td>\n",
       "      <td>5000.0</td>\n",
       "      <td>Da ridurre</td>\n",
       "      <td>Regolari</td>\n",
       "      <td>25.0</td>\n",
       "      <td>0.0</td>\n",
       "      <td>216724.83</td>\n",
       "      <td>40552.37</td>\n",
       "      <td>4</td>\n",
       "      <td>Affidabile</td>\n",
       "      <td>EmiliaRomagna</td>\n",
       "    </tr>\n",
       "    <tr>\n",
       "      <th>199899</th>\n",
       "      <td>6103959</td>\n",
       "      <td>2022</td>\n",
       "      <td>150585</td>\n",
       "      <td>EE</td>\n",
       "      <td>2022-03-14</td>\n",
       "      <td>22.64</td>\n",
       "      <td>G20</td>\n",
       "      <td>20 gg data emissione fattura</td>\n",
       "      <td>2022-03-26 12:43:06.421692</td>\n",
       "      <td>0.0</td>\n",
       "      <td>...</td>\n",
       "      <td>5000.0</td>\n",
       "      <td>Da ridurre</td>\n",
       "      <td>Regolari</td>\n",
       "      <td>25.0</td>\n",
       "      <td>0.0</td>\n",
       "      <td>216724.83</td>\n",
       "      <td>40552.37</td>\n",
       "      <td>4</td>\n",
       "      <td>Affidabile</td>\n",
       "      <td>EmiliaRomagna</td>\n",
       "    </tr>\n",
       "    <tr>\n",
       "      <th>200309</th>\n",
       "      <td>6103959</td>\n",
       "      <td>2022</td>\n",
       "      <td>151567</td>\n",
       "      <td>EE</td>\n",
       "      <td>2022-03-14</td>\n",
       "      <td>43.46</td>\n",
       "      <td>G20</td>\n",
       "      <td>20 gg data emissione fattura</td>\n",
       "      <td>2022-03-26 12:43:06.421692</td>\n",
       "      <td>0.0</td>\n",
       "      <td>...</td>\n",
       "      <td>5000.0</td>\n",
       "      <td>Da ridurre</td>\n",
       "      <td>Regolari</td>\n",
       "      <td>25.0</td>\n",
       "      <td>0.0</td>\n",
       "      <td>216724.83</td>\n",
       "      <td>40552.37</td>\n",
       "      <td>4</td>\n",
       "      <td>Affidabile</td>\n",
       "      <td>EmiliaRomagna</td>\n",
       "    </tr>\n",
       "    <tr>\n",
       "      <th>200805</th>\n",
       "      <td>6103959</td>\n",
       "      <td>2022</td>\n",
       "      <td>150780</td>\n",
       "      <td>EE</td>\n",
       "      <td>2022-03-14</td>\n",
       "      <td>26.29</td>\n",
       "      <td>G20</td>\n",
       "      <td>20 gg data emissione fattura</td>\n",
       "      <td>2022-03-26 12:43:06.421692</td>\n",
       "      <td>0.0</td>\n",
       "      <td>...</td>\n",
       "      <td>5000.0</td>\n",
       "      <td>Da ridurre</td>\n",
       "      <td>Regolari</td>\n",
       "      <td>25.0</td>\n",
       "      <td>0.0</td>\n",
       "      <td>216724.83</td>\n",
       "      <td>40552.37</td>\n",
       "      <td>4</td>\n",
       "      <td>Affidabile</td>\n",
       "      <td>EmiliaRomagna</td>\n",
       "    </tr>\n",
       "  </tbody>\n",
       "</table>\n",
       "<p>5 rows × 33 columns</p>\n",
       "</div>"
      ],
      "text/plain": [
       "        CodiceCliente AnnoDocumento NumeroDocumento Servizio ScadenzaFattura  \\\n",
       "201328      470843753          2022          149325       EE      2022-03-14   \n",
       "198769        6103959          2022          148948       EE      2022-03-14   \n",
       "199899        6103959          2022          150585       EE      2022-03-14   \n",
       "200309        6103959          2022          151567       EE      2022-03-14   \n",
       "200805        6103959          2022          150780       EE      2022-03-14   \n",
       "\n",
       "        ImportoFattura ModPagamento                 DescrizionePagamento  \\\n",
       "201328         2441.93          G20  20 gg data emissione fattura          \n",
       "198769         1850.32          G20  20 gg data emissione fattura          \n",
       "199899           22.64          G20  20 gg data emissione fattura          \n",
       "200309           43.46          G20  20 gg data emissione fattura          \n",
       "200805           26.29          G20  20 gg data emissione fattura          \n",
       "\n",
       "                      DataIncasso  ImportoIncasso  ...  FidoPayline  \\\n",
       "201328 2022-03-26 12:43:06.421692             0.0  ...       3000.0   \n",
       "198769 2022-03-26 12:43:06.421692             0.0  ...       5000.0   \n",
       "199899 2022-03-26 12:43:06.421692             0.0  ...       5000.0   \n",
       "200309 2022-03-26 12:43:06.421692             0.0  ...       5000.0   \n",
       "200805 2022-03-26 12:43:06.421692             0.0  ...       5000.0   \n",
       "\n",
       "          Decisione  ValutazioneTempiPagamento  GiorniPattuiti  GiorniRitardo  \\\n",
       "201328  Accordabile                   Regolari            23.0            0.0   \n",
       "198769   Da ridurre                   Regolari            25.0            0.0   \n",
       "199899   Da ridurre                   Regolari            25.0            0.0   \n",
       "200309   Da ridurre                   Regolari            25.0            0.0   \n",
       "200805   Da ridurre                   Regolari            25.0            0.0   \n",
       "\n",
       "        Fatturato FatturatoMese  ClasseRischio  ClasseRischioDescrizione  \\\n",
       "201328   17412.82       1476.30              4                Affidabile   \n",
       "198769  216724.83      40552.37              4                Affidabile   \n",
       "199899  216724.83      40552.37              4                Affidabile   \n",
       "200309  216724.83      40552.37              4                Affidabile   \n",
       "200805  216724.83      40552.37              4                Affidabile   \n",
       "\n",
       "              Regione  \n",
       "201328         Veneto  \n",
       "198769  EmiliaRomagna  \n",
       "199899  EmiliaRomagna  \n",
       "200309  EmiliaRomagna  \n",
       "200805  EmiliaRomagna  \n",
       "\n",
       "[5 rows x 33 columns]"
      ]
     },
     "execution_count": 42,
     "metadata": {},
     "output_type": "execute_result"
    }
   ],
   "source": [
    "# definiamo il subset storico con tutti gli esempi la cui data ScadenzaFattura è anteriore al 01-03-2022\n",
    "df_nuove = df[df['ScadenzaFattura'] >= '2022-03-01']\n",
    "\n",
    "#Stampiamo le prime righe per controllo\n",
    "df_nuove.head()"
   ]
  },
  {
   "cell_type": "markdown",
   "metadata": {},
   "source": [
    "# Esplorazione dei dati\n",
    "Analizziamo i dati del solo anno 2021 per poter capire ed estrapolare eventuali andamenti o info varie"
   ]
  },
  {
   "cell_type": "code",
   "execution_count": 43,
   "metadata": {},
   "outputs": [
    {
     "data": {
      "text/html": [
       "<div>\n",
       "<style scoped>\n",
       "    .dataframe tbody tr th:only-of-type {\n",
       "        vertical-align: middle;\n",
       "    }\n",
       "\n",
       "    .dataframe tbody tr th {\n",
       "        vertical-align: top;\n",
       "    }\n",
       "\n",
       "    .dataframe thead th {\n",
       "        text-align: right;\n",
       "    }\n",
       "</style>\n",
       "<table border=\"1\" class=\"dataframe\">\n",
       "  <thead>\n",
       "    <tr style=\"text-align: right;\">\n",
       "      <th></th>\n",
       "      <th>CodiceCliente</th>\n",
       "      <th>AnnoDocumento</th>\n",
       "      <th>NumeroDocumento</th>\n",
       "      <th>Servizio</th>\n",
       "      <th>ScadenzaFattura</th>\n",
       "      <th>ImportoFattura</th>\n",
       "      <th>ModPagamento</th>\n",
       "      <th>DescrizionePagamento</th>\n",
       "      <th>DataIncasso</th>\n",
       "      <th>ImportoIncasso</th>\n",
       "      <th>...</th>\n",
       "      <th>FidoPayline</th>\n",
       "      <th>Decisione</th>\n",
       "      <th>ValutazioneTempiPagamento</th>\n",
       "      <th>GiorniPattuiti</th>\n",
       "      <th>GiorniRitardo</th>\n",
       "      <th>Fatturato</th>\n",
       "      <th>FatturatoMese</th>\n",
       "      <th>ClasseRischio</th>\n",
       "      <th>ClasseRischioDescrizione</th>\n",
       "      <th>Regione</th>\n",
       "    </tr>\n",
       "  </thead>\n",
       "  <tbody>\n",
       "    <tr>\n",
       "      <th>0</th>\n",
       "      <td>470843753</td>\n",
       "      <td>2021</td>\n",
       "      <td>300377</td>\n",
       "      <td>EE</td>\n",
       "      <td>2021-05-13</td>\n",
       "      <td>1482.55</td>\n",
       "      <td>G20</td>\n",
       "      <td>20 gg data emissione fattura</td>\n",
       "      <td>2021-05-13</td>\n",
       "      <td>1482.55</td>\n",
       "      <td>...</td>\n",
       "      <td>3000.0</td>\n",
       "      <td>Accordabile</td>\n",
       "      <td>Regolari</td>\n",
       "      <td>23.0</td>\n",
       "      <td>0.0</td>\n",
       "      <td>17412.82</td>\n",
       "      <td>1476.3</td>\n",
       "      <td>4</td>\n",
       "      <td>Affidabile</td>\n",
       "      <td>Veneto</td>\n",
       "    </tr>\n",
       "    <tr>\n",
       "      <th>3145</th>\n",
       "      <td>470843753</td>\n",
       "      <td>2021</td>\n",
       "      <td>512570</td>\n",
       "      <td>EE</td>\n",
       "      <td>2021-09-13</td>\n",
       "      <td>1424.50</td>\n",
       "      <td>G20</td>\n",
       "      <td>20 gg data emissione fattura</td>\n",
       "      <td>2021-09-13</td>\n",
       "      <td>1424.50</td>\n",
       "      <td>...</td>\n",
       "      <td>3000.0</td>\n",
       "      <td>Accordabile</td>\n",
       "      <td>Regolari</td>\n",
       "      <td>23.0</td>\n",
       "      <td>0.0</td>\n",
       "      <td>17412.82</td>\n",
       "      <td>1476.3</td>\n",
       "      <td>4</td>\n",
       "      <td>Affidabile</td>\n",
       "      <td>Veneto</td>\n",
       "    </tr>\n",
       "    <tr>\n",
       "      <th>66510</th>\n",
       "      <td>470843753</td>\n",
       "      <td>2021</td>\n",
       "      <td>622538</td>\n",
       "      <td>EE</td>\n",
       "      <td>2021-11-11</td>\n",
       "      <td>1501.59</td>\n",
       "      <td>G20</td>\n",
       "      <td>20 gg data emissione fattura</td>\n",
       "      <td>2021-11-11</td>\n",
       "      <td>1501.59</td>\n",
       "      <td>...</td>\n",
       "      <td>3000.0</td>\n",
       "      <td>Accordabile</td>\n",
       "      <td>Regolari</td>\n",
       "      <td>23.0</td>\n",
       "      <td>0.0</td>\n",
       "      <td>17412.82</td>\n",
       "      <td>1476.3</td>\n",
       "      <td>4</td>\n",
       "      <td>Affidabile</td>\n",
       "      <td>Veneto</td>\n",
       "    </tr>\n",
       "    <tr>\n",
       "      <th>87737</th>\n",
       "      <td>470843753</td>\n",
       "      <td>2021</td>\n",
       "      <td>714559</td>\n",
       "      <td>EE</td>\n",
       "      <td>2021-12-13</td>\n",
       "      <td>1312.98</td>\n",
       "      <td>G20</td>\n",
       "      <td>20 gg data emissione fattura</td>\n",
       "      <td>2021-12-13</td>\n",
       "      <td>1312.98</td>\n",
       "      <td>...</td>\n",
       "      <td>3000.0</td>\n",
       "      <td>Accordabile</td>\n",
       "      <td>Regolari</td>\n",
       "      <td>23.0</td>\n",
       "      <td>0.0</td>\n",
       "      <td>17412.82</td>\n",
       "      <td>1476.3</td>\n",
       "      <td>4</td>\n",
       "      <td>Affidabile</td>\n",
       "      <td>Veneto</td>\n",
       "    </tr>\n",
       "    <tr>\n",
       "      <th>87866</th>\n",
       "      <td>470843753</td>\n",
       "      <td>2021</td>\n",
       "      <td>559762</td>\n",
       "      <td>EE</td>\n",
       "      <td>2021-10-12</td>\n",
       "      <td>1483.06</td>\n",
       "      <td>G20</td>\n",
       "      <td>20 gg data emissione fattura</td>\n",
       "      <td>2021-10-12</td>\n",
       "      <td>1483.06</td>\n",
       "      <td>...</td>\n",
       "      <td>3000.0</td>\n",
       "      <td>Accordabile</td>\n",
       "      <td>Regolari</td>\n",
       "      <td>23.0</td>\n",
       "      <td>0.0</td>\n",
       "      <td>17412.82</td>\n",
       "      <td>1476.3</td>\n",
       "      <td>4</td>\n",
       "      <td>Affidabile</td>\n",
       "      <td>Veneto</td>\n",
       "    </tr>\n",
       "  </tbody>\n",
       "</table>\n",
       "<p>5 rows × 33 columns</p>\n",
       "</div>"
      ],
      "text/plain": [
       "       CodiceCliente AnnoDocumento NumeroDocumento Servizio ScadenzaFattura  \\\n",
       "0          470843753          2021          300377       EE      2021-05-13   \n",
       "3145       470843753          2021          512570       EE      2021-09-13   \n",
       "66510      470843753          2021          622538       EE      2021-11-11   \n",
       "87737      470843753          2021          714559       EE      2021-12-13   \n",
       "87866      470843753          2021          559762       EE      2021-10-12   \n",
       "\n",
       "       ImportoFattura ModPagamento                 DescrizionePagamento  \\\n",
       "0             1482.55          G20  20 gg data emissione fattura          \n",
       "3145          1424.50          G20  20 gg data emissione fattura          \n",
       "66510         1501.59          G20  20 gg data emissione fattura          \n",
       "87737         1312.98          G20  20 gg data emissione fattura          \n",
       "87866         1483.06          G20  20 gg data emissione fattura          \n",
       "\n",
       "      DataIncasso  ImportoIncasso  ...  FidoPayline    Decisione  \\\n",
       "0      2021-05-13         1482.55  ...       3000.0  Accordabile   \n",
       "3145   2021-09-13         1424.50  ...       3000.0  Accordabile   \n",
       "66510  2021-11-11         1501.59  ...       3000.0  Accordabile   \n",
       "87737  2021-12-13         1312.98  ...       3000.0  Accordabile   \n",
       "87866  2021-10-12         1483.06  ...       3000.0  Accordabile   \n",
       "\n",
       "       ValutazioneTempiPagamento  GiorniPattuiti  GiorniRitardo  Fatturato  \\\n",
       "0                       Regolari            23.0            0.0   17412.82   \n",
       "3145                    Regolari            23.0            0.0   17412.82   \n",
       "66510                   Regolari            23.0            0.0   17412.82   \n",
       "87737                   Regolari            23.0            0.0   17412.82   \n",
       "87866                   Regolari            23.0            0.0   17412.82   \n",
       "\n",
       "      FatturatoMese  ClasseRischio  ClasseRischioDescrizione  Regione  \n",
       "0            1476.3              4                Affidabile   Veneto  \n",
       "3145         1476.3              4                Affidabile   Veneto  \n",
       "66510        1476.3              4                Affidabile   Veneto  \n",
       "87737        1476.3              4                Affidabile   Veneto  \n",
       "87866        1476.3              4                Affidabile   Veneto  \n",
       "\n",
       "[5 rows x 33 columns]"
      ]
     },
     "execution_count": 43,
     "metadata": {},
     "output_type": "execute_result"
    }
   ],
   "source": [
    "# Estraiamo le fatture con AnnoDocumento, emissione della fattura, pari al 2021\n",
    "df_2021 = df[df['AnnoDocumento'] == '2021']\n",
    "\n",
    "# Stampiamo per un controllo le prime righe\n",
    "df_2021.head()"
   ]
  },
  {
   "cell_type": "markdown",
   "metadata": {},
   "source": [
    "## Andamento CMOR mensile"
   ]
  },
  {
   "cell_type": "code",
   "execution_count": 44,
   "metadata": {},
   "outputs": [
    {
     "data": {
      "text/plain": [
       "<AxesSubplot:xlabel='ScadenzaFatturaMese', ylabel='CMOR'>"
      ]
     },
     "execution_count": 44,
     "metadata": {},
     "output_type": "execute_result"
    },
    {
     "data": {
      "image/png": "[encoded data removed]",
      "text/plain": [
       "<Figure size 1440x360 with 1 Axes>"
      ]
     },
     "metadata": {},
     "output_type": "display_data"
    }
   ],
   "source": [
    "# Creiamo un sotto insieme con i dati da analizzare\n",
    "AndamentoCMOR = df_2021[['AnnoDocumento','Servizio','ScadenzaFatturaMese','CMOR']].groupby(\n",
    "                    by=['AnnoDocumento','Servizio','ScadenzaFatturaMese']).sum()\n",
    "\n",
    "# Eliminiamo l'index dal subset\n",
    "AndamentoCMOR = AndamentoCMOR.reset_index()\n",
    "\n",
    "# Settiamo le dimensioni del grafico\n",
    "sns.set(rc={'figure.figsize':(20,5)})\n",
    "\n",
    "# Stampiamo il grafico\n",
    "sns.lineplot(\n",
    "    data = AndamentoCMOR[AndamentoCMOR['AnnoDocumento'] == '2021']\n",
    "    , x = 'ScadenzaFatturaMese'\n",
    "    , y = 'CMOR'\n",
    "    , hue = 'Servizio'\n",
    ")"
   ]
  },
  {
   "cell_type": "markdown",
   "metadata": {},
   "source": [
    "## Correlazione"
   ]
  },
  {
   "cell_type": "code",
   "execution_count": 45,
   "metadata": {},
   "outputs": [
    {
     "data": {
      "text/plain": [
       "<AxesSubplot:>"
      ]
     },
     "execution_count": 45,
     "metadata": {},
     "output_type": "execute_result"
    },
    {
     "data": {
      "image/png": "[encoded data removed]",
      "text/plain": [
       "<Figure size 792x648 with 2 Axes>"
      ]
     },
     "metadata": {},
     "output_type": "display_data"
    }
   ],
   "source": [
    "# Settiamo il tema del grafico\n",
    "sns.set_theme(style=\"white\")\n",
    "\n",
    "# Generiamo la matrice di correlazione\n",
    "corr = df_2021.corr()\n",
    "\n",
    "# Generate a mask for the upper triangle\n",
    "mask = np.triu(np.ones_like(corr, dtype=bool))\n",
    "\n",
    "# Set up the matplotlib figure\n",
    "f, ax = plt.subplots(figsize=(11, 9))\n",
    "\n",
    "# Generiamo la palette per la colormap\n",
    "cmap = sns.diverging_palette(230, 20, as_cmap=True)\n",
    "\n",
    "# Stampiamo il grafico di correlazione\n",
    "sns.heatmap(\n",
    "    data = corr\n",
    "    , mask = mask\n",
    "    , cmap = cmap\n",
    "    , vmax = corr.max()[1]\n",
    "    , center = 0.0\n",
    "    , square = True\n",
    "    , linewidths = .5\n",
    "    , cbar_kws = {\"shrink\": .5}\n",
    ")"
   ]
  },
  {
   "cell_type": "markdown",
   "metadata": {},
   "source": [
    "## Importo Fattura per Servizio"
   ]
  },
  {
   "cell_type": "code",
   "execution_count": 46,
   "metadata": {},
   "outputs": [
    {
     "data": {
      "text/plain": [
       "<AxesSubplot:xlabel='Servizio', ylabel='ImportoFattura'>"
      ]
     },
     "execution_count": 46,
     "metadata": {},
     "output_type": "execute_result"
    },
    {
     "data": {
      "image/png": "[encoded data removed]",
      "text/plain": [
       "<Figure size 1440x360 with 1 Axes>"
      ]
     },
     "metadata": {},
     "output_type": "display_data"
    }
   ],
   "source": [
    "# Generiamo il grafico\n",
    "sns.boxplot(\n",
    "    data = df_2021[(df_2021['CMOR'] == 1)]\n",
    "    , x = 'Servizio'\n",
    "    , y = 'ImportoFattura'\n",
    "    , showfliers = False\n",
    ")"
   ]
  },
  {
   "cell_type": "code",
   "execution_count": 47,
   "metadata": {},
   "outputs": [
    {
     "data": {
      "text/plain": [
       "<AxesSubplot:xlabel='CMORStorico', ylabel='GiorniRitardoIncasso'>"
      ]
     },
     "execution_count": 47,
     "metadata": {},
     "output_type": "execute_result"
    },
    {
     "data": {
      "image/png": "[encoded data removed]",
      "text/plain": [
       "<Figure size 1440x360 with 1 Axes>"
      ]
     },
     "metadata": {},
     "output_type": "display_data"
    }
   ],
   "source": [
    "# Generiamo il grafico\n",
    "sns.boxplot(\n",
    "    data = df_2021\n",
    "    , x = 'CMORStorico'\n",
    "    , y = 'GiorniRitardoIncasso'\n",
    "#     , showfliers = False\n",
    ")"
   ]
  },
  {
   "cell_type": "markdown",
   "metadata": {},
   "source": [
    "## Confronto tra Importo Medio Fattura e CMOR"
   ]
  },
  {
   "cell_type": "code",
   "execution_count": 48,
   "metadata": {},
   "outputs": [
    {
     "data": {
      "image/png": "[encoded data removed]",
      "text/plain": [
       "<Figure size 1440x360 with 1 Axes>"
      ]
     },
     "metadata": {},
     "output_type": "display_data"
    }
   ],
   "source": [
    "# Creiamo un subset con la media dell'importo per mese\n",
    "ImportoFatturaMedioMensile = df_2021[\n",
    "                                ['ScadenzaFatturaMese','ImportoFattura']\n",
    "                            ].groupby('ScadenzaFatturaMese').mean()\n",
    "\n",
    "# Creiamo un subset con la somma dei CMOR per mese\n",
    "CMORTotaleMensile = df_2021[\n",
    "                        ['ScadenzaFatturaMese','CMOR']\n",
    "                    ].groupby(\n",
    "                        by='ScadenzaFatturaMese'\n",
    "                    ).sum()\n",
    "\n",
    "# Stampiano l'andamento mensile del fatturato medio\n",
    "sns.lineplot(\n",
    "    data = ImportoFatturaMedioMensile\n",
    "    , x = 'ScadenzaFatturaMese'\n",
    "    , y = 'ImportoFattura'\n",
    ")\n",
    "\n",
    "# Stampiamo l'andamente del CMOR per mese\n",
    "sns.lineplot(\n",
    "    data = CMORTotaleMensile\n",
    "    , x = 'ScadenzaFatturaMese'\n",
    "    , y = 'CMOR'\n",
    ")\n",
    "\n",
    "# Impostiamo la leggenda del grafico\n",
    "plt.legend(labels=['Importo Medio Fattura','CMOR Totale'])\n",
    "plt.show()"
   ]
  },
  {
   "cell_type": "markdown",
   "metadata": {},
   "source": [
    "## CMOR per Regione"
   ]
  },
  {
   "cell_type": "code",
   "execution_count": 49,
   "metadata": {},
   "outputs": [
    {
     "data": {
      "image/png": "[encoded data removed]",
      "text/plain": [
       "<Figure size 1440x360 with 1 Axes>"
      ]
     },
     "metadata": {},
     "output_type": "display_data"
    }
   ],
   "source": [
    "# Creiamo un subset con il totale dei CMOR Storici per ogni regione\n",
    "TotCmor = df_2021[['Regione','CMORStorico']].groupby(by='Regione').sum()\n",
    "\n",
    "# Creiamo un subset con il totale delle fatture per ogni regione\n",
    "TotFatture = df_2021[['Regione','ChiaveFattura']].groupby(by='Regione').count()\n",
    "\n",
    "# Creiamo un subset con il rapporto tra CMOR e Totale Fatture\n",
    "TotCmor['Rapporto'] = TotCmor['CMORStorico'] / TotFatture['ChiaveFattura'] * 100\n",
    "\n",
    "# Resettiamo l'index del subset\n",
    "TotCmor.reset_index(inplace=True)\n",
    "\n",
    "# Stampiamo il grafico a barre\n",
    "sns.barplot(\n",
    "    data = TotCmor\n",
    "    , x = TotCmor['Regione']\n",
    "    , y = 'Rapporto'\n",
    "    , order = TotCmor['Regione'].sort_values()\n",
    ")\n",
    "\n",
    "# Impostiamo un valore per leggere meglio le etichette sull'asse X\n",
    "plt.xticks(rotation=70)\n",
    "plt.tight_layout()"
   ]
  },
  {
   "cell_type": "markdown",
   "metadata": {},
   "source": [
    "## Andamento mensile giorni di ritardo incasso per servizio"
   ]
  },
  {
   "cell_type": "code",
   "execution_count": 50,
   "metadata": {},
   "outputs": [
    {
     "data": {
      "text/plain": [
       "<seaborn.axisgrid.FacetGrid at 0x22e5ae7ab80>"
      ]
     },
     "execution_count": 50,
     "metadata": {},
     "output_type": "execute_result"
    },
    {
     "data": {
      "image/png": "[encoded data removed]",
      "text/plain": [
       "<Figure size 419.725x360 with 1 Axes>"
      ]
     },
     "metadata": {},
     "output_type": "display_data"
    }
   ],
   "source": [
    "# Estraiamo il subset dei dati dei giorni di ritardo\n",
    "GiorniRitardo2021 = df_2021[(df_2021['GiorniRitardoIncasso'] != 0)]\n",
    "\n",
    "#Stampiamo il grafico\n",
    "sns.catplot(\n",
    "    data = GiorniRitardo2021\n",
    "    , x = 'ScadenzaFatturaMese'\n",
    "    , y = 'GiorniRitardoIncasso'\n",
    "    , hue = 'Servizio')"
   ]
  },
  {
   "cell_type": "markdown",
   "metadata": {},
   "source": [
    "## Clienti morosi per classe di rischio"
   ]
  },
  {
   "cell_type": "code",
   "execution_count": 51,
   "metadata": {},
   "outputs": [
    {
     "data": {
      "text/plain": [
       "<AxesSubplot:xlabel='ClasseRischioDescrizione', ylabel='CMOR'>"
      ]
     },
     "execution_count": 51,
     "metadata": {},
     "output_type": "execute_result"
    },
    {
     "data": {
      "image/png": "[encoded data removed]",
      "text/plain": [
       "<Figure size 1440x360 with 1 Axes>"
      ]
     },
     "metadata": {},
     "output_type": "display_data"
    }
   ],
   "source": [
    "# Creiamo il subset dei dati sui clienti morosi per classe di rischio\n",
    "MorosiClasseRischio = round(\n",
    "                            (df_2021[\n",
    "                                ['ClasseRischioDescrizione','CMOR']\n",
    "                            ].groupby(\n",
    "                                by = ['ClasseRischioDescrizione']\n",
    "                            ).sum() / df_storico['CMOR'][df_storico['CMOR'] == 1].sum()) * 100\n",
    "                        ,2 )\n",
    "\n",
    "# Rimuoviamo l'indice dal subset\n",
    "MorosiClasseRischio.reset_index(inplace=True)\n",
    "\n",
    "# Stampiamo il grafico\n",
    "sns.barplot(\n",
    "    data = MorosiClasseRischio\n",
    "    , x = 'ClasseRischioDescrizione'\n",
    "    , y = 'CMOR'\n",
    ")"
   ]
  },
  {
   "cell_type": "markdown",
   "metadata": {},
   "source": [
    "# Identificazione del target\n",
    "L'identificazione del target viene svolta tramite la classificazione delle singole fatture in base al loro saldo.\n",
    "\n",
    "Questo si riscontra nella colonna CMORStorico, già presente nel dataset perchè creata in precedenza.\n",
    "\n",
    "Procediamo con il controllo del bilanciamento della variabile target"
   ]
  },
  {
   "cell_type": "code",
   "execution_count": 52,
   "metadata": {},
   "outputs": [],
   "source": [
    "# Definiamo il nome della colonna target\n",
    "ColonnaTarget = 'CMORStorico'"
   ]
  },
  {
   "cell_type": "code",
   "execution_count": 53,
   "metadata": {},
   "outputs": [
    {
     "data": {
      "text/plain": [
       "0    83.946113\n",
       "1    16.053887\n",
       "Name: CMORStorico, dtype: float64"
      ]
     },
     "execution_count": 53,
     "metadata": {},
     "output_type": "execute_result"
    }
   ],
   "source": [
    "( df_storico[ColonnaTarget].value_counts() / df_storico.shape[0] ) * 100"
   ]
  },
  {
   "cell_type": "markdown",
   "metadata": {},
   "source": [
    "la colonna target risulta sibilanciata in quanto i valori 1 risultano il 16,05% e i valori 0 risultano il 83,94%."
   ]
  },
  {
   "cell_type": "markdown",
   "metadata": {},
   "source": [
    "# Preparazione del vettore delle feature"
   ]
  },
  {
   "cell_type": "markdown",
   "metadata": {},
   "source": [
    "## Scelta delle feature da utilizzare nel vettore"
   ]
  },
  {
   "cell_type": "code",
   "execution_count": 54,
   "metadata": {},
   "outputs": [],
   "source": [
    "# Definiamo le colonne da eliminare\n",
    "columns_drop = ['CodiceCliente','AnnoDocumento', 'NumeroDocumento','DescrizionePagamento',\n",
    "                 'GiorniRitardoIncasso','ScadenzaFattura', 'DataIncasso','ImportoIncasso','Saldo',\n",
    "                'ScadenzaFatturaMese','ClasseRischio','DataIncassoMese',\n",
    "                'ScadenzaFatturaWeek', 'DataIncassoWeek', 'ChiaveFattura',\n",
    "                'CMOR','NaturaGiuridica', 'Pv', 'CodiceIstat', 'Decisione',\n",
    "                'ClasseRischio','ClasseRischioDescrizione', 'Regione']\n",
    "\n",
    "# Eliminiamo le colonne dal dataframe storico\n",
    "df_storico = df_storico.drop(columns = columns_drop)\n",
    "\n",
    "# Eliminiamo le colonne dal dataframe nuove\n",
    "df_nuove = df_nuove.drop(columns = columns_drop)"
   ]
  },
  {
   "cell_type": "code",
   "execution_count": 55,
   "metadata": {},
   "outputs": [
    {
     "data": {
      "text/plain": [
       "(Index(['Servizio', 'ImportoFattura', 'ModPagamento', 'CMORStorico',\n",
       "        'CMORRolling', 'FidoPayline', 'ValutazioneTempiPagamento',\n",
       "        'GiorniPattuiti', 'GiorniRitardo', 'Fatturato', 'FatturatoMese'],\n",
       "       dtype='object'),\n",
       " Index(['Servizio', 'ImportoFattura', 'ModPagamento', 'CMORStorico',\n",
       "        'CMORRolling', 'FidoPayline', 'ValutazioneTempiPagamento',\n",
       "        'GiorniPattuiti', 'GiorniRitardo', 'Fatturato', 'FatturatoMese'],\n",
       "       dtype='object'))"
      ]
     },
     "execution_count": 55,
     "metadata": {},
     "output_type": "execute_result"
    }
   ],
   "source": [
    "df_storico.columns, df_nuove.columns"
   ]
  },
  {
   "cell_type": "code",
   "execution_count": 56,
   "metadata": {},
   "outputs": [
    {
     "data": {
      "text/plain": [
       "((49066, 11), (7164, 11))"
      ]
     },
     "execution_count": 56,
     "metadata": {},
     "output_type": "execute_result"
    }
   ],
   "source": [
    "df_storico.shape, df_nuove.shape"
   ]
  },
  {
   "cell_type": "markdown",
   "metadata": {
    "tags": []
   },
   "source": [
    "## Divisione tra Feature ( X ) e Target ( y )"
   ]
  },
  {
   "cell_type": "code",
   "execution_count": 57,
   "metadata": {},
   "outputs": [
    {
     "data": {
      "text/plain": [
       "((49066, 10), (49066,))"
      ]
     },
     "execution_count": 57,
     "metadata": {},
     "output_type": "execute_result"
    }
   ],
   "source": [
    "# La y è identificata nella feature CMOR\n",
    "y = df_storico.pop(ColonnaTarget)\n",
    "\n",
    "# La X è composta da tutte le feature tranne il CMOR\n",
    "X = df_storico\n",
    "\n",
    "# Stampiamo i dati per controllo\n",
    "X.shape, y.shape"
   ]
  },
  {
   "cell_type": "markdown",
   "metadata": {},
   "source": [
    "## Scalatura"
   ]
  },
  {
   "cell_type": "code",
   "execution_count": 58,
   "metadata": {},
   "outputs": [
    {
     "data": {
      "text/plain": [
       "((49066, 7), (49066, 3))"
      ]
     },
     "execution_count": 58,
     "metadata": {},
     "output_type": "execute_result"
    }
   ],
   "source": [
    "# Estraiamo le feature numeriche\n",
    "X_num = X.select_dtypes(include = np.number)\n",
    "\n",
    "# Estraiamo le feature non numeriche\n",
    "X_str = X.select_dtypes(exclude = np.number)\n",
    "\n",
    "# Stampiamo le dimensioni per controllo\n",
    "X_num.shape, X_str.shape"
   ]
  },
  {
   "cell_type": "code",
   "execution_count": 61,
   "metadata": {},
   "outputs": [
    {
     "data": {
      "text/plain": [
       "((49066, 7), (49066, 20), (49066, 27))"
      ]
     },
     "execution_count": 61,
     "metadata": {},
     "output_type": "execute_result"
    }
   ],
   "source": [
    "X_num_scaled = scalerSTD.fit_transform(X_num)\n",
    "\n",
    "X_str_scaled = one.fit_transform(X_str)\n",
    "\n",
    "X = np.concatenate((X_num_scaled,X_str_scaled),axis=1)\n",
    "\n",
    "X_num_scaled.shape, X_str_scaled.shape, X.shape"
   ]
  },
  {
   "cell_type": "code",
   "execution_count": 62,
   "metadata": {},
   "outputs": [
    {
     "data": {
      "text/plain": [
       "['ImportoFattura',\n",
       " 'CMORRolling',\n",
       " 'FidoPayline',\n",
       " 'GiorniPattuiti',\n",
       " 'GiorniRitardo',\n",
       " 'Fatturato',\n",
       " 'FatturatoMese',\n",
       " 'x0_Gas',\n",
       " 'x1_E01',\n",
       " 'x1_E02',\n",
       " 'x1_E06',\n",
       " 'x1_E10',\n",
       " 'x1_F30',\n",
       " 'x1_FM',\n",
       " 'x1_G10',\n",
       " 'x1_G15',\n",
       " 'x1_G20',\n",
       " 'x1_G30',\n",
       " 'x1_G45',\n",
       " 'x1_G60',\n",
       " 'x1_PF',\n",
       " 'x2_Dilazionati',\n",
       " 'x2_Prevalentemente regolari',\n",
       " 'x2_Regolari',\n",
       " 'x2_Ritardi',\n",
       " 'x2_Ritardi significativi',\n",
       " 'x2_Sconosciuto']"
      ]
     },
     "execution_count": 62,
     "metadata": {},
     "output_type": "execute_result"
    }
   ],
   "source": [
    "feature_names = list(X_num.columns) + one.get_feature_names().tolist()\n",
    "\n",
    "feature_names"
   ]
  },
  {
   "cell_type": "markdown",
   "metadata": {},
   "source": [
    "## Divisione tra Tain Set e Test Set"
   ]
  },
  {
   "cell_type": "code",
   "execution_count": 63,
   "metadata": {},
   "outputs": [
    {
     "data": {
      "text/plain": [
       "((34346, 27), (14720, 27), (34346,), (14720,))"
      ]
     },
     "execution_count": 63,
     "metadata": {},
     "output_type": "execute_result"
    }
   ],
   "source": [
    "X_train, X_test, y_train, y_test = train_test_split(X, y, test_size=0.3, random_state=rnd, shuffle=True)\n",
    "\n",
    "X_train.shape, X_test.shape, y_train.shape, y_test.shape"
   ]
  },
  {
   "cell_type": "markdown",
   "metadata": {},
   "source": [
    "# Scelta del modello e validazione dei parametri"
   ]
  },
  {
   "cell_type": "markdown",
   "metadata": {},
   "source": [
    "## KNN"
   ]
  },
  {
   "cell_type": "code",
   "execution_count": 65,
   "metadata": {
    "scrolled": true
   },
   "outputs": [
    {
     "name": "stdout",
     "output_type": "stream",
     "text": [
      "Fitting 5 folds for each of 8 candidates, totalling 40 fits\n"
     ]
    },
    {
     "name": "stderr",
     "output_type": "stream",
     "text": [
      "[Parallel(n_jobs=7)]: Using backend LokyBackend with 7 concurrent workers.\n",
      "[Parallel(n_jobs=7)]: Done   1 tasks      | elapsed:    4.8s\n",
      "[Parallel(n_jobs=7)]: Done   2 tasks      | elapsed:    4.8s\n",
      "[Parallel(n_jobs=7)]: Done   3 tasks      | elapsed:    4.8s\n",
      "[Parallel(n_jobs=7)]: Done   4 tasks      | elapsed:    4.8s\n",
      "[Parallel(n_jobs=7)]: Done   5 tasks      | elapsed:    5.0s\n",
      "[Parallel(n_jobs=7)]: Done   6 tasks      | elapsed:    5.0s\n",
      "[Parallel(n_jobs=7)]: Done   7 tasks      | elapsed:    5.2s\n",
      "[Parallel(n_jobs=7)]: Done   8 tasks      | elapsed:    8.1s\n",
      "[Parallel(n_jobs=7)]: Done   9 tasks      | elapsed:    8.1s\n",
      "[Parallel(n_jobs=7)]: Done  10 tasks      | elapsed:    8.4s\n",
      "[Parallel(n_jobs=7)]: Done  11 tasks      | elapsed:    8.6s\n",
      "[Parallel(n_jobs=7)]: Done  12 tasks      | elapsed:    8.7s\n",
      "[Parallel(n_jobs=7)]: Done  13 tasks      | elapsed:    8.7s\n",
      "[Parallel(n_jobs=7)]: Done  14 tasks      | elapsed:    9.0s\n",
      "[Parallel(n_jobs=7)]: Done  15 tasks      | elapsed:   12.5s\n",
      "[Parallel(n_jobs=7)]: Done  16 tasks      | elapsed:   12.5s\n",
      "[Parallel(n_jobs=7)]: Done  17 tasks      | elapsed:   12.9s\n",
      "[Parallel(n_jobs=7)]: Done  18 tasks      | elapsed:   13.1s\n",
      "[Parallel(n_jobs=7)]: Done  19 tasks      | elapsed:   13.3s\n",
      "[Parallel(n_jobs=7)]: Done  20 tasks      | elapsed:   13.4s\n",
      "[Parallel(n_jobs=7)]: Done  21 tasks      | elapsed:   13.6s\n",
      "[Parallel(n_jobs=7)]: Done  22 tasks      | elapsed:   16.8s\n",
      "[Parallel(n_jobs=7)]: Done  23 tasks      | elapsed:   16.8s\n",
      "[Parallel(n_jobs=7)]: Done  24 tasks      | elapsed:   17.1s\n",
      "[Parallel(n_jobs=7)]: Done  25 tasks      | elapsed:   17.5s\n",
      "[Parallel(n_jobs=7)]: Done  26 tasks      | elapsed:   17.6s\n",
      "[Parallel(n_jobs=7)]: Done  27 tasks      | elapsed:   17.8s\n",
      "[Parallel(n_jobs=7)]: Done  30 out of  40 | elapsed:   21.7s remaining:    7.2s\n",
      "[Parallel(n_jobs=7)]: Done  33 out of  40 | elapsed:   22.7s remaining:    4.7s\n",
      "[Parallel(n_jobs=7)]: Done  36 out of  40 | elapsed:   25.2s remaining:    2.7s\n",
      "[Parallel(n_jobs=7)]: Done  40 out of  40 | elapsed:   26.2s finished\n"
     ]
    },
    {
     "name": "stdout",
     "output_type": "stream",
     "text": [
      "Wall time: 26.7 s\n"
     ]
    }
   ],
   "source": [
    "%%time\n",
    "\n",
    "n_neighbors_grid = np.unique(np.logspace(0.5, 1, 20).astype(int))\n",
    "\n",
    "knn_param_grid = {'n_neighbors':n_neighbors_grid}\n",
    "\n",
    "score_fnc = balanced_accuracy_score\n",
    "\n",
    "cv = StratifiedKFold(n_splits = 5, shuffle = True, random_state = rnd)\n",
    "\n",
    "knn_score = make_scorer(score_fnc)\n",
    "\n",
    "model_selection_knn = GridSearchCV(\n",
    "                                estimator = KNeighborsClassifier()\n",
    "                                , param_grid = knn_param_grid\n",
    "                                , scoring = knn_score\n",
    "                                , cv = cv\n",
    "                                , n_jobs = nrCpu - 1\n",
    "                                , verbose = 20\n",
    ")\n",
    "\n",
    "model_selection_knn.fit(X_train, y_train)\n",
    "knn = model_selection_knn.best_estimator_\n",
    "knn_Score = model_selection_knn.best_score_"
   ]
  },
  {
   "cell_type": "code",
   "execution_count": 66,
   "metadata": {},
   "outputs": [
    {
     "data": {
      "text/plain": [
       "(KNeighborsClassifier(), 0.8354913942224579)"
      ]
     },
     "execution_count": 66,
     "metadata": {},
     "output_type": "execute_result"
    }
   ],
   "source": [
    "knn, knn_Score"
   ]
  },
  {
   "cell_type": "markdown",
   "metadata": {},
   "source": [
    "## Decision Tree Classifier"
   ]
  },
  {
   "cell_type": "code",
   "execution_count": 67,
   "metadata": {
    "scrolled": true
   },
   "outputs": [
    {
     "name": "stdout",
     "output_type": "stream",
     "text": [
      "Fitting 5 folds for each of 25 candidates, totalling 125 fits\n"
     ]
    },
    {
     "name": "stderr",
     "output_type": "stream",
     "text": [
      "[Parallel(n_jobs=7)]: Using backend LokyBackend with 7 concurrent workers.\n",
      "[Parallel(n_jobs=7)]: Done   1 tasks      | elapsed:    0.1s\n",
      "[Parallel(n_jobs=7)]: Batch computation too fast (0.1639s.) Setting batch_size=2.\n",
      "[Parallel(n_jobs=7)]: Done   2 tasks      | elapsed:    0.1s\n",
      "[Parallel(n_jobs=7)]: Done   3 tasks      | elapsed:    0.1s\n",
      "[Parallel(n_jobs=7)]: Done   4 tasks      | elapsed:    0.1s\n",
      "[Parallel(n_jobs=7)]: Done   5 tasks      | elapsed:    0.1s\n",
      "[Parallel(n_jobs=7)]: Done   6 tasks      | elapsed:    0.1s\n",
      "[Parallel(n_jobs=7)]: Done   7 tasks      | elapsed:    0.1s\n",
      "[Parallel(n_jobs=7)]: Done   8 tasks      | elapsed:    0.2s\n",
      "[Parallel(n_jobs=7)]: Done   9 tasks      | elapsed:    0.2s\n",
      "[Parallel(n_jobs=7)]: Done  10 tasks      | elapsed:    0.2s\n",
      "[Parallel(n_jobs=7)]: Done  11 tasks      | elapsed:    0.2s\n",
      "[Parallel(n_jobs=7)]: Done  12 tasks      | elapsed:    0.3s\n",
      "[Parallel(n_jobs=7)]: Done  13 tasks      | elapsed:    0.3s\n",
      "[Parallel(n_jobs=7)]: Done  14 tasks      | elapsed:    0.3s\n",
      "[Parallel(n_jobs=7)]: Done  16 tasks      | elapsed:    0.6s\n",
      "[Parallel(n_jobs=7)]: Done  18 tasks      | elapsed:    0.6s\n",
      "[Parallel(n_jobs=7)]: Done  20 tasks      | elapsed:    0.7s\n",
      "[Parallel(n_jobs=7)]: Done  22 tasks      | elapsed:    0.7s\n",
      "[Parallel(n_jobs=7)]: Done  24 tasks      | elapsed:    0.7s\n",
      "[Parallel(n_jobs=7)]: Done  26 tasks      | elapsed:    0.7s\n",
      "[Parallel(n_jobs=7)]: Done  28 tasks      | elapsed:    0.8s\n",
      "[Parallel(n_jobs=7)]: Done  30 tasks      | elapsed:    1.0s\n",
      "[Parallel(n_jobs=7)]: Done  32 tasks      | elapsed:    1.0s\n",
      "[Parallel(n_jobs=7)]: Done  34 tasks      | elapsed:    1.0s\n",
      "[Parallel(n_jobs=7)]: Done  36 tasks      | elapsed:    1.1s\n",
      "[Parallel(n_jobs=7)]: Done  38 tasks      | elapsed:    1.1s\n",
      "[Parallel(n_jobs=7)]: Done  40 tasks      | elapsed:    1.1s\n",
      "[Parallel(n_jobs=7)]: Done  42 tasks      | elapsed:    1.2s\n",
      "[Parallel(n_jobs=7)]: Done  44 tasks      | elapsed:    1.4s\n",
      "[Parallel(n_jobs=7)]: Done  46 tasks      | elapsed:    1.4s\n",
      "[Parallel(n_jobs=7)]: Done  48 tasks      | elapsed:    1.4s\n",
      "[Parallel(n_jobs=7)]: Done  50 tasks      | elapsed:    1.4s\n",
      "[Parallel(n_jobs=7)]: Done  52 tasks      | elapsed:    1.5s\n",
      "[Parallel(n_jobs=7)]: Done  54 tasks      | elapsed:    1.5s\n",
      "[Parallel(n_jobs=7)]: Done  56 tasks      | elapsed:    1.6s\n",
      "[Parallel(n_jobs=7)]: Done  58 tasks      | elapsed:    1.7s\n",
      "[Parallel(n_jobs=7)]: Done  60 tasks      | elapsed:    1.8s\n",
      "[Parallel(n_jobs=7)]: Done  62 tasks      | elapsed:    1.8s\n",
      "[Parallel(n_jobs=7)]: Done  64 tasks      | elapsed:    1.9s\n",
      "[Parallel(n_jobs=7)]: Done  66 tasks      | elapsed:    1.9s\n",
      "[Parallel(n_jobs=7)]: Done  68 tasks      | elapsed:    2.0s\n",
      "[Parallel(n_jobs=7)]: Done  70 tasks      | elapsed:    2.0s\n",
      "[Parallel(n_jobs=7)]: Done  72 tasks      | elapsed:    2.2s\n",
      "[Parallel(n_jobs=7)]: Done  74 tasks      | elapsed:    2.2s\n",
      "[Parallel(n_jobs=7)]: Done  76 tasks      | elapsed:    2.3s\n",
      "[Parallel(n_jobs=7)]: Done  78 tasks      | elapsed:    2.3s\n",
      "[Parallel(n_jobs=7)]: Done  80 tasks      | elapsed:    2.4s\n",
      "[Parallel(n_jobs=7)]: Done  82 tasks      | elapsed:    2.5s\n",
      "[Parallel(n_jobs=7)]: Done  84 tasks      | elapsed:    2.5s\n",
      "[Parallel(n_jobs=7)]: Done  86 tasks      | elapsed:    2.7s\n",
      "[Parallel(n_jobs=7)]: Done  88 tasks      | elapsed:    2.7s\n",
      "[Parallel(n_jobs=7)]: Done  90 tasks      | elapsed:    2.8s\n",
      "[Parallel(n_jobs=7)]: Done  92 tasks      | elapsed:    2.8s\n",
      "[Parallel(n_jobs=7)]: Done  94 tasks      | elapsed:    2.9s\n",
      "[Parallel(n_jobs=7)]: Done  96 tasks      | elapsed:    2.9s\n",
      "[Parallel(n_jobs=7)]: Done  98 tasks      | elapsed:    2.9s\n",
      "[Parallel(n_jobs=7)]: Done 100 tasks      | elapsed:    3.1s\n",
      "[Parallel(n_jobs=7)]: Done 102 tasks      | elapsed:    3.1s\n",
      "[Parallel(n_jobs=7)]: Done 104 tasks      | elapsed:    3.2s\n",
      "[Parallel(n_jobs=7)]: Done 106 tasks      | elapsed:    3.2s\n",
      "[Parallel(n_jobs=7)]: Done 108 tasks      | elapsed:    3.3s\n",
      "[Parallel(n_jobs=7)]: Done 110 tasks      | elapsed:    3.3s\n",
      "[Parallel(n_jobs=7)]: Done 111 tasks      | elapsed:    3.3s\n",
      "[Parallel(n_jobs=7)]: Done 112 out of 125 | elapsed:    3.3s remaining:    0.3s\n",
      "[Parallel(n_jobs=7)]: Done 119 out of 125 | elapsed:    3.5s remaining:    0.1s\n",
      "[Parallel(n_jobs=7)]: Done 125 out of 125 | elapsed:    3.7s finished\n"
     ]
    },
    {
     "name": "stdout",
     "output_type": "stream",
     "text": [
      "Wall time: 4.03 s\n"
     ]
    }
   ],
   "source": [
    "%%time\n",
    "ld = (5, 20, 5)\n",
    "lf = (5, 20, 5)\n",
    "max_depth_grid = np.linspace(*ld).astype(int)\n",
    "min_samples_leaf_grid = np.linspace(*lf).astype(int)\n",
    "param_grid = {'max_depth': max_depth_grid , 'min_samples_leaf': min_samples_leaf_grid}\n",
    "\n",
    "score_fnc = balanced_accuracy_score\n",
    "\n",
    "cv = StratifiedKFold(n_splits = 5, shuffle = True, random_state = rnd)\n",
    "\n",
    "model_selection_DT = GridSearchCV(DecisionTreeClassifier(class_weight = 'balanced')\n",
    "                               , param_grid = param_grid\n",
    "                               , scoring = make_scorer(score_fnc)\n",
    "                               , cv = cv\n",
    "                               , n_jobs = nrCpu - 1\n",
    "                               , verbose = 20\n",
    "    )\n",
    "\n",
    "model_selection_DT.fit(X_train, y_train)\n",
    "DT = model_selection_DT.best_estimator_\n",
    "DT_Score = model_selection_DT.best_score_"
   ]
  },
  {
   "cell_type": "code",
   "execution_count": 68,
   "metadata": {},
   "outputs": [
    {
     "data": {
      "text/plain": [
       "(DecisionTreeClassifier(class_weight='balanced', max_depth=12,\n",
       "                        min_samples_leaf=16),\n",
       " 0.9192094930640702)"
      ]
     },
     "execution_count": 68,
     "metadata": {},
     "output_type": "execute_result"
    }
   ],
   "source": [
    "DT, DT_Score"
   ]
  },
  {
   "cell_type": "code",
   "execution_count": 69,
   "metadata": {},
   "outputs": [],
   "source": [
    "# import matplotlib.pyplot as plt\n",
    "# from sklearn.tree import plot_tree\n",
    "# # visualizza un albero di decisione\n",
    "# # riempire la variabile dt\n",
    "# f, ax = plt.subplots(1,1, figsize=(20, 10))\n",
    "# plot_tree(DT, ax=ax, fontsize=10, feature_names=feature_names, filled=True, proportion=True)\n",
    "# plt.show()\n",
    "\n",
    "# master.info()"
   ]
  },
  {
   "cell_type": "code",
   "execution_count": 70,
   "metadata": {},
   "outputs": [
    {
     "data": {
      "text/plain": [
       "array([6.94987516e-02, 7.17113331e-01, 1.43339287e-02, 1.61824974e-02,\n",
       "       1.13052666e-01, 4.46625897e-02, 1.63468851e-02, 3.85233133e-03,\n",
       "       0.00000000e+00, 0.00000000e+00, 0.00000000e+00, 0.00000000e+00,\n",
       "       0.00000000e+00, 0.00000000e+00, 0.00000000e+00, 0.00000000e+00,\n",
       "       2.95833391e-04, 3.24495908e-13, 0.00000000e+00, 0.00000000e+00,\n",
       "       0.00000000e+00, 0.00000000e+00, 0.00000000e+00, 4.66118491e-03,\n",
       "       0.00000000e+00, 0.00000000e+00, 0.00000000e+00])"
      ]
     },
     "execution_count": 70,
     "metadata": {},
     "output_type": "execute_result"
    }
   ],
   "source": [
    "DT.feature_importances_"
   ]
  },
  {
   "cell_type": "markdown",
   "metadata": {},
   "source": [
    "## SVM"
   ]
  },
  {
   "cell_type": "code",
   "execution_count": 71,
   "metadata": {
    "scrolled": true
   },
   "outputs": [
    {
     "name": "stdout",
     "output_type": "stream",
     "text": [
      "Fitting 5 folds for each of 16 candidates, totalling 80 fits\n"
     ]
    },
    {
     "name": "stderr",
     "output_type": "stream",
     "text": [
      "[Parallel(n_jobs=7)]: Using backend LokyBackend with 7 concurrent workers.\n",
      "[Parallel(n_jobs=7)]: Done   1 tasks      | elapsed:   26.9s\n",
      "[Parallel(n_jobs=7)]: Done   2 tasks      | elapsed:   27.2s\n",
      "[Parallel(n_jobs=7)]: Done   3 tasks      | elapsed:   27.4s\n",
      "[Parallel(n_jobs=7)]: Done   4 tasks      | elapsed:   27.7s\n",
      "[Parallel(n_jobs=7)]: Done   5 tasks      | elapsed:   28.1s\n",
      "[Parallel(n_jobs=7)]: Done   6 tasks      | elapsed:   28.2s\n",
      "[Parallel(n_jobs=7)]: Done   7 tasks      | elapsed:   28.6s\n",
      "[Parallel(n_jobs=7)]: Done   8 tasks      | elapsed:   52.8s\n",
      "[Parallel(n_jobs=7)]: Done   9 tasks      | elapsed:   52.8s\n",
      "[Parallel(n_jobs=7)]: Done  10 tasks      | elapsed:   53.3s\n",
      "[Parallel(n_jobs=7)]: Done  11 tasks      | elapsed:  1.0min\n",
      "[Parallel(n_jobs=7)]: Done  12 tasks      | elapsed:  1.0min\n",
      "[Parallel(n_jobs=7)]: Done  13 tasks      | elapsed:  1.1min\n",
      "[Parallel(n_jobs=7)]: Done  14 tasks      | elapsed:  1.1min\n",
      "[Parallel(n_jobs=7)]: Done  15 tasks      | elapsed:  1.4min\n",
      "[Parallel(n_jobs=7)]: Done  16 tasks      | elapsed:  1.7min\n",
      "[Parallel(n_jobs=7)]: Done  17 tasks      | elapsed:  2.0min\n",
      "[Parallel(n_jobs=7)]: Done  18 tasks      | elapsed:  2.2min\n",
      "[Parallel(n_jobs=7)]: Done  19 tasks      | elapsed:  2.3min\n",
      "[Parallel(n_jobs=7)]: Done  20 tasks      | elapsed:  2.3min\n",
      "[Parallel(n_jobs=7)]: Done  21 tasks      | elapsed:  2.3min\n",
      "[Parallel(n_jobs=7)]: Done  22 tasks      | elapsed:  2.4min\n",
      "[Parallel(n_jobs=7)]: Done  23 tasks      | elapsed:  2.5min\n",
      "[Parallel(n_jobs=7)]: Done  24 tasks      | elapsed:  2.7min\n",
      "[Parallel(n_jobs=7)]: Done  25 tasks      | elapsed:  2.8min\n",
      "[Parallel(n_jobs=7)]: Done  26 tasks      | elapsed:  2.9min\n",
      "[Parallel(n_jobs=7)]: Done  27 tasks      | elapsed:  2.9min\n",
      "[Parallel(n_jobs=7)]: Done  28 tasks      | elapsed:  3.0min\n",
      "[Parallel(n_jobs=7)]: Done  29 tasks      | elapsed:  3.1min\n",
      "[Parallel(n_jobs=7)]: Done  30 tasks      | elapsed:  3.1min\n",
      "[Parallel(n_jobs=7)]: Done  31 tasks      | elapsed:  3.3min\n",
      "[Parallel(n_jobs=7)]: Done  32 tasks      | elapsed:  3.4min\n",
      "[Parallel(n_jobs=7)]: Done  33 tasks      | elapsed:  3.5min\n",
      "[Parallel(n_jobs=7)]: Done  34 tasks      | elapsed:  3.5min\n",
      "[Parallel(n_jobs=7)]: Done  35 tasks      | elapsed:  3.6min\n",
      "[Parallel(n_jobs=7)]: Done  36 tasks      | elapsed:  3.7min\n",
      "[Parallel(n_jobs=7)]: Done  37 tasks      | elapsed:  3.8min\n",
      "[Parallel(n_jobs=7)]: Done  38 tasks      | elapsed:  4.0min\n",
      "[Parallel(n_jobs=7)]: Done  39 tasks      | elapsed:  4.2min\n",
      "[Parallel(n_jobs=7)]: Done  40 tasks      | elapsed:  4.3min\n",
      "[Parallel(n_jobs=7)]: Done  41 tasks      | elapsed:  4.3min\n",
      "[Parallel(n_jobs=7)]: Done  42 tasks      | elapsed:  4.4min\n",
      "[Parallel(n_jobs=7)]: Done  43 tasks      | elapsed:  4.5min\n",
      "[Parallel(n_jobs=7)]: Done  44 tasks      | elapsed:  4.5min\n",
      "[Parallel(n_jobs=7)]: Done  45 tasks      | elapsed:  4.7min\n",
      "[Parallel(n_jobs=7)]: Done  46 tasks      | elapsed:  4.7min\n",
      "[Parallel(n_jobs=7)]: Done  47 tasks      | elapsed:  4.8min\n",
      "[Parallel(n_jobs=7)]: Done  48 tasks      | elapsed:  4.8min\n",
      "[Parallel(n_jobs=7)]: Done  49 tasks      | elapsed:  4.9min\n",
      "[Parallel(n_jobs=7)]: Done  50 tasks      | elapsed:  5.0min\n",
      "[Parallel(n_jobs=7)]: Done  51 tasks      | elapsed:  5.1min\n",
      "[Parallel(n_jobs=7)]: Done  52 tasks      | elapsed:  5.2min\n",
      "[Parallel(n_jobs=7)]: Done  53 tasks      | elapsed:  5.3min\n",
      "[Parallel(n_jobs=7)]: Done  54 tasks      | elapsed:  5.4min\n",
      "[Parallel(n_jobs=7)]: Done  55 tasks      | elapsed:  5.4min\n",
      "[Parallel(n_jobs=7)]: Done  56 tasks      | elapsed:  5.4min\n",
      "[Parallel(n_jobs=7)]: Done  57 tasks      | elapsed:  5.5min\n",
      "[Parallel(n_jobs=7)]: Done  58 tasks      | elapsed:  5.6min\n",
      "[Parallel(n_jobs=7)]: Done  59 tasks      | elapsed:  5.8min\n",
      "[Parallel(n_jobs=7)]: Done  60 tasks      | elapsed:  5.8min\n",
      "[Parallel(n_jobs=7)]: Done  61 tasks      | elapsed:  5.9min\n",
      "[Parallel(n_jobs=7)]: Done  62 tasks      | elapsed:  5.9min\n",
      "[Parallel(n_jobs=7)]: Done  63 tasks      | elapsed:  5.9min\n",
      "[Parallel(n_jobs=7)]: Done  64 tasks      | elapsed:  5.9min\n",
      "[Parallel(n_jobs=7)]: Done  65 tasks      | elapsed:  6.1min\n",
      "[Parallel(n_jobs=7)]: Done  66 tasks      | elapsed:  6.3min\n",
      "[Parallel(n_jobs=7)]: Done  67 tasks      | elapsed:  6.4min\n",
      "[Parallel(n_jobs=7)]: Done  72 out of  80 | elapsed:  6.6min remaining:   43.9s\n",
      "[Parallel(n_jobs=7)]: Done  77 out of  80 | elapsed:  6.9min remaining:   16.0s\n",
      "[Parallel(n_jobs=7)]: Done  80 out of  80 | elapsed:  7.1min finished\n"
     ]
    },
    {
     "name": "stdout",
     "output_type": "stream",
     "text": [
      "Wall time: 7min 18s\n"
     ]
    }
   ],
   "source": [
    "%%time\n",
    "\n",
    "param_range_gamma = [10e-4, 10e-3, 10e-2]\n",
    "param_range_C = [10e-3, 10e-2, 10e-1, 10.0]\n",
    "\n",
    "param_grid = [{'C' : param_range_C\n",
    "               ,'kernel' : ['linear']},\n",
    "              {'C' : param_range_C\n",
    "               ,'gamma': param_range_gamma,\n",
    "               'kernel' : ['rbf']\n",
    "              }]\n",
    "\n",
    "score_fnc = balanced_accuracy_score\n",
    "\n",
    "cv = StratifiedKFold(n_splits = 5, shuffle = True, random_state = rnd)\n",
    "\n",
    "model_selection_svm = GridSearchCV(estimator = SVC()\n",
    "                                    , param_grid = param_grid\n",
    "                                    , scoring = make_scorer(score_fnc)\n",
    "                                    , cv = cv\n",
    "                                    , n_jobs = nrCpu - 1\n",
    "                                    , verbose = 20\n",
    "                                  )\n",
    "\n",
    "model_selection_svm.fit(X_train, y_train)\n",
    "\n",
    "SVM = model_selection_svm.best_estimator_\n",
    "SVM_Score = model_selection_svm.best_score_"
   ]
  },
  {
   "cell_type": "code",
   "execution_count": 72,
   "metadata": {},
   "outputs": [
    {
     "data": {
      "text/plain": [
       "(SVC(C=10.0, gamma=0.1), 0.8251692299209108)"
      ]
     },
     "execution_count": 72,
     "metadata": {},
     "output_type": "execute_result"
    }
   ],
   "source": [
    "SVM, SVM_Score"
   ]
  },
  {
   "cell_type": "markdown",
   "metadata": {},
   "source": [
    "## Random Forest"
   ]
  },
  {
   "cell_type": "code",
   "execution_count": 73,
   "metadata": {},
   "outputs": [
    {
     "name": "stdout",
     "output_type": "stream",
     "text": [
      "Fitting 5 folds for each of 6 candidates, totalling 30 fits\n"
     ]
    },
    {
     "name": "stderr",
     "output_type": "stream",
     "text": [
      "[Parallel(n_jobs=7)]: Using backend LokyBackend with 7 concurrent workers.\n",
      "[Parallel(n_jobs=7)]: Done   1 tasks      | elapsed:    7.6s\n",
      "[Parallel(n_jobs=7)]: Done   2 tasks      | elapsed:    7.8s\n",
      "[Parallel(n_jobs=7)]: Done   3 tasks      | elapsed:    7.8s\n",
      "[Parallel(n_jobs=7)]: Done   4 tasks      | elapsed:    7.8s\n",
      "[Parallel(n_jobs=7)]: Done   5 tasks      | elapsed:    7.9s\n",
      "[Parallel(n_jobs=7)]: Done   6 tasks      | elapsed:    8.8s\n",
      "[Parallel(n_jobs=7)]: Done   7 tasks      | elapsed:    9.0s\n",
      "[Parallel(n_jobs=7)]: Done   8 tasks      | elapsed:   17.1s\n",
      "[Parallel(n_jobs=7)]: Done   9 tasks      | elapsed:   17.2s\n",
      "[Parallel(n_jobs=7)]: Done  10 tasks      | elapsed:   17.4s\n",
      "[Parallel(n_jobs=7)]: Done  11 tasks      | elapsed:   18.2s\n",
      "[Parallel(n_jobs=7)]: Done  12 tasks      | elapsed:   18.2s\n",
      "[Parallel(n_jobs=7)]: Done  13 tasks      | elapsed:   18.8s\n",
      "[Parallel(n_jobs=7)]: Done  14 tasks      | elapsed:   18.9s\n",
      "[Parallel(n_jobs=7)]: Done  15 tasks      | elapsed:   26.2s\n",
      "[Parallel(n_jobs=7)]: Done  16 tasks      | elapsed:   27.0s\n",
      "[Parallel(n_jobs=7)]: Done  17 tasks      | elapsed:   27.4s\n",
      "[Parallel(n_jobs=7)]: Done  19 out of  30 | elapsed:   28.1s remaining:   16.2s\n",
      "[Parallel(n_jobs=7)]: Done  21 out of  30 | elapsed:   29.5s remaining:   12.6s\n",
      "[Parallel(n_jobs=7)]: Done  23 out of  30 | elapsed:   37.8s remaining:   11.4s\n",
      "[Parallel(n_jobs=7)]: Done  25 out of  30 | elapsed:   38.6s remaining:    7.6s\n",
      "[Parallel(n_jobs=7)]: Done  27 out of  30 | elapsed:   39.3s remaining:    4.3s\n",
      "[Parallel(n_jobs=7)]: Done  30 out of  30 | elapsed:   45.3s finished\n"
     ]
    },
    {
     "name": "stdout",
     "output_type": "stream",
     "text": [
      "Wall time: 51.4 s\n"
     ]
    }
   ],
   "source": [
    "%%time\n",
    "\n",
    "max_features_grid = [5e-1, 6e-1, 7e-1, 8e-1, 9e-1, 95e-2]\n",
    "\n",
    "param_grid = {\n",
    "    'max_features': max_features_grid\n",
    "}\n",
    "\n",
    "score_fnc = balanced_accuracy_score\n",
    "\n",
    "cv = StratifiedKFold(n_splits = 5, shuffle = True, random_state = rnd)\n",
    "\n",
    "model_selection_RF = GridSearchCV(RandomForestClassifier(random_state=rnd)\n",
    "                               , param_grid = param_grid\n",
    "                               , scoring = make_scorer(score_fnc)\n",
    "                               , cv = cv\n",
    "                               , n_jobs = nrCpu - 1\n",
    "                               , verbose = 20\n",
    "    )\n",
    "\n",
    "model_selection_RF.fit(X_train, y_train)\n",
    "RF = model_selection_RF.best_estimator_\n",
    "RF_Score = model_selection_RF.best_score_"
   ]
  },
  {
   "cell_type": "code",
   "execution_count": 74,
   "metadata": {},
   "outputs": [
    {
     "data": {
      "text/plain": [
       "(RandomForestClassifier(max_features=0.8, random_state=8), 0.8804208687206604)"
      ]
     },
     "execution_count": 74,
     "metadata": {},
     "output_type": "execute_result"
    }
   ],
   "source": [
    "RF, RF_Score"
   ]
  },
  {
   "cell_type": "code",
   "execution_count": 75,
   "metadata": {},
   "outputs": [
    {
     "data": {
      "text/plain": [
       "array([1.60573777e-01, 4.09205510e-01, 4.35381143e-02, 2.35359976e-02,\n",
       "       1.73550298e-01, 8.38590698e-02, 6.50873339e-02, 1.42741905e-02,\n",
       "       9.70483738e-05, 0.00000000e+00, 1.69061063e-05, 0.00000000e+00,\n",
       "       1.25582112e-05, 3.99626858e-05, 0.00000000e+00, 0.00000000e+00,\n",
       "       2.91367890e-03, 2.46465881e-03, 2.66833585e-05, 1.54236756e-04,\n",
       "       2.99241212e-05, 1.32395899e-03, 2.63744536e-03, 1.48732130e-02,\n",
       "       3.04394627e-04, 2.42942682e-04, 1.23809725e-03])"
      ]
     },
     "execution_count": 75,
     "metadata": {},
     "output_type": "execute_result"
    }
   ],
   "source": [
    "RF.feature_importances_"
   ]
  },
  {
   "cell_type": "markdown",
   "metadata": {},
   "source": [
    "## Confrontro dei modelli testati"
   ]
  },
  {
   "cell_type": "code",
   "execution_count": 76,
   "metadata": {},
   "outputs": [],
   "source": [
    "def run_experiment(model):\n",
    "    model.fit(X_train, y_train)\n",
    "    \n",
    "    y_pred = model.predict(X_test)\n",
    "    \n",
    "    plot_confusion_matrix(model, X_test, y_test, cmap='GnBu')\n",
    "    plt.show()\n",
    "    \n",
    "    PS = round(precision_score(y_test, y_pred),2)\n",
    "    RS = round(recall_score(y_test, y_pred),2)\n",
    "    F1 = round(f1_score(y_test, y_pred),2)\n",
    "    AS = round(accuracy_score(y_test, y_pred),2)\n",
    "    BS = round(balanced_accuracy_score(y_test, y_pred),2)\n",
    "    \n",
    "    return PS,RS,F1,AS,BS"
   ]
  },
  {
   "cell_type": "code",
   "execution_count": 77,
   "metadata": {},
   "outputs": [
    {
     "data": {
      "image/png": "[encoded data removed]",
      "text/plain": [
       "<Figure size 1440x360 with 2 Axes>"
      ]
     },
     "metadata": {},
     "output_type": "display_data"
    }
   ],
   "source": [
    "Knn_PS, Knn_RS, Knn_F1, Knn_AS, Knn_BS = run_experiment(knn)"
   ]
  },
  {
   "cell_type": "code",
   "execution_count": 78,
   "metadata": {},
   "outputs": [
    {
     "data": {
      "image/png": "[encoded data removed]",
      "text/plain": [
       "<Figure size 1440x360 with 2 Axes>"
      ]
     },
     "metadata": {},
     "output_type": "display_data"
    }
   ],
   "source": [
    "DT_PS, DT_RS, DT_F1, DT_AS, DT_BS = run_experiment(DT)"
   ]
  },
  {
   "cell_type": "code",
   "execution_count": 79,
   "metadata": {},
   "outputs": [
    {
     "data": {
      "image/png": "[encoded data removed]",
      "text/plain": [
       "<Figure size 1440x360 with 2 Axes>"
      ]
     },
     "metadata": {},
     "output_type": "display_data"
    }
   ],
   "source": [
    "SVM_PS, SVM_RS, SVM_F1, SVM_AS, SVM_BS = run_experiment(SVM)"
   ]
  },
  {
   "cell_type": "code",
   "execution_count": 80,
   "metadata": {},
   "outputs": [
    {
     "data": {
      "image/png": "[encoded data removed]",
      "text/plain": [
       "<Figure size 1440x360 with 2 Axes>"
      ]
     },
     "metadata": {},
     "output_type": "display_data"
    }
   ],
   "source": [
    "RF_PS, RF_RS, RF_F1, RF_AS, RF_BS = run_experiment(RF)"
   ]
  },
  {
   "cell_type": "code",
   "execution_count": 82,
   "metadata": {},
   "outputs": [
    {
     "name": "stdout",
     "output_type": "stream",
     "text": [
      "Model \t PS \t RS \t F1 \t AS \t BS\n",
      "Knn \t 0.79 \t 0.71 \t 0.75 \t 0.92 \t 0.84\n",
      "DT \t 0.67 \t 0.92 \t 0.78 \t 0.91 \t 0.92\n",
      "SVM \t 0.79 \t 0.69 \t 0.74 \t 0.92 \t 0.83\n",
      "RF \t 0.82 \t 0.81 \t 0.81 \t 0.94 \t 0.89\n"
     ]
    }
   ],
   "source": [
    "print('Model \\t PS \\t RS \\t F1 \\t AS \\t BS')\n",
    "print(f'Knn \\t {Knn_PS} \\t {Knn_RS} \\t {Knn_F1} \\t {Knn_AS} \\t {Knn_BS}')\n",
    "print(f'DT \\t {DT_PS} \\t {DT_RS} \\t {DT_F1} \\t {DT_AS} \\t {DT_BS}')\n",
    "print(f'SVM \\t {SVM_PS} \\t {SVM_RS} \\t {SVM_F1} \\t {SVM_AS} \\t {SVM_BS}')\n",
    "print(f'RF \\t {RF_PS} \\t {RF_RS} \\t {RF_F1} \\t {RF_AS} \\t {RF_BS}')"
   ]
  },
  {
   "cell_type": "markdown",
   "metadata": {},
   "source": [
    "# Modello definitivo"
   ]
  },
  {
   "cell_type": "code",
   "execution_count": 83,
   "metadata": {},
   "outputs": [
    {
     "data": {
      "text/plain": [
       "((7164, 10), (7164,))"
      ]
     },
     "execution_count": 83,
     "metadata": {},
     "output_type": "execute_result"
    }
   ],
   "source": [
    "y_nuove = df_nuove.pop(ColonnaTarget)\n",
    "\n",
    "X_nuove = df_nuove\n",
    "\n",
    "X_nuove.shape, y_nuove.shape"
   ]
  },
  {
   "cell_type": "code",
   "execution_count": 84,
   "metadata": {},
   "outputs": [
    {
     "data": {
      "text/plain": [
       "((7164, 7), (7164, 3))"
      ]
     },
     "execution_count": 84,
     "metadata": {},
     "output_type": "execute_result"
    }
   ],
   "source": [
    "# Estraiamo le feature numeriche\n",
    "X_nuove_num = X_nuove.select_dtypes(include = np.number)\n",
    "\n",
    "# Estraiamo le feature non numeriche\n",
    "X_nuove_str = X_nuove.select_dtypes(exclude = np.number)\n",
    "\n",
    "# Stampiamo le dimensioni per controllo\n",
    "X_nuove_num.shape, X_nuove_str.shape"
   ]
  },
  {
   "cell_type": "code",
   "execution_count": 85,
   "metadata": {},
   "outputs": [
    {
     "data": {
      "text/plain": [
       "((7164, 7), (7164, 20), (7164, 27))"
      ]
     },
     "execution_count": 85,
     "metadata": {},
     "output_type": "execute_result"
    }
   ],
   "source": [
    "\n",
    "X_nuove_num_scaled = scalerSTD.transform(X_nuove_num)\n",
    "\n",
    "X_nuove_str_scaled = one.transform(X_nuove_str)\n",
    "\n",
    "X_nuove = np.concatenate((X_nuove_num_scaled, X_nuove_str_scaled), axis=1)\n",
    "\n",
    "X_nuove_num_scaled.shape, X_nuove_str_scaled.shape, X_nuove.shape"
   ]
  },
  {
   "cell_type": "code",
   "execution_count": null,
   "metadata": {},
   "outputs": [],
   "source": [
    "X_nuove_train, X_nuove_test, y_nuove_train, y_nuove_test = train_test_split(X, y, test_size=0.3, random_state=rnd, shuffle=True)\n",
    "\n",
    "X_nuove_train.shape, X_nuove_test.shape, y_nuove_train.shape, y_nuove_test.shape"
   ]
  },
  {
   "cell_type": "code",
   "execution_count": 86,
   "metadata": {},
   "outputs": [
    {
     "data": {
      "text/plain": [
       "['ImportoFattura',\n",
       " 'CMORRolling',\n",
       " 'FidoPayline',\n",
       " 'GiorniPattuiti',\n",
       " 'GiorniRitardo',\n",
       " 'Fatturato',\n",
       " 'FatturatoMese',\n",
       " 'x0_Gas',\n",
       " 'x1_E01',\n",
       " 'x1_E02',\n",
       " 'x1_E06',\n",
       " 'x1_E10',\n",
       " 'x1_F30',\n",
       " 'x1_FM',\n",
       " 'x1_G10',\n",
       " 'x1_G15',\n",
       " 'x1_G20',\n",
       " 'x1_G30',\n",
       " 'x1_G45',\n",
       " 'x1_G60',\n",
       " 'x1_PF',\n",
       " 'x2_Dilazionati',\n",
       " 'x2_Prevalentemente regolari',\n",
       " 'x2_Regolari',\n",
       " 'x2_Ritardi',\n",
       " 'x2_Ritardi significativi',\n",
       " 'x2_Sconosciuto']"
      ]
     },
     "execution_count": 86,
     "metadata": {},
     "output_type": "execute_result"
    }
   ],
   "source": [
    "feature_names_nuove = list(X_nuove_num.columns) + one.get_feature_names().tolist()\n",
    "\n",
    "feature_names_nuove"
   ]
  },
  {
   "cell_type": "code",
   "execution_count": 102,
   "metadata": {},
   "outputs": [],
   "source": [
    "ListaModelli = [knn, DT, SVM, RF]\n",
    "\n",
    "predictList = []\n",
    "\n",
    "for modello in ListaModelli:\n",
    "\n",
    "    modello.fit(X_train,y_train)\n",
    "    \n",
    "    y_predict = modello.predict(X_nuove)\n",
    "    \n",
    "    predictList.append(y_predict)"
   ]
  },
  {
   "cell_type": "code",
   "execution_count": 107,
   "metadata": {},
   "outputs": [
    {
     "name": "stdout",
     "output_type": "stream",
     "text": [
      "Modello:  Knn \n",
      "Precision Score:  0.96 \n",
      " Recall Score:  0.22 \n",
      " F1 Score:  0.35 \n",
      " Accuracy Score:  0.28 \n",
      " Balance Accuracy Score:  0.56 \n",
      "\n",
      "Modello:  Decision Tree \n",
      "Precision Score:  0.95 \n",
      " Recall Score:  0.39 \n",
      " F1 Score:  0.55 \n",
      " Accuracy Score:  0.43 \n",
      " Balance Accuracy Score:  0.6 \n",
      "\n",
      "Modello:  SVM \n",
      "Precision Score:  0.95 \n",
      " Recall Score:  0.2 \n",
      " F1 Score:  0.32 \n",
      " Accuracy Score:  0.26 \n",
      " Balance Accuracy Score:  0.54 \n",
      "\n",
      "Modello:  Random Forest \n",
      "Precision Score:  0.95 \n",
      " Recall Score:  0.2 \n",
      " F1 Score:  0.33 \n",
      " Accuracy Score:  0.26 \n",
      " Balance Accuracy Score:  0.54 \n",
      "\n"
     ]
    }
   ],
   "source": [
    "ListaNomiModello = ['Knn','Decision Tree','SVM','Random Forest']\n",
    "n = 0\n",
    "for pred in predictList:\n",
    "    \n",
    "    print(\n",
    "        'Modello: ', ListaNomiModello[n], '\\n'\n",
    "        'Precision Score: ', round(precision_score(y_nuove, pred), 2), '\\n'\n",
    "        , 'Recall Score: ', round(recall_score(y_nuove, pred), 2), '\\n'\n",
    "        , 'F1 Score: ', round(f1_score(y_nuove, pred), 2), '\\n'\n",
    "        , 'Accuracy Score: ', round(accuracy_score(y_nuove, pred), 2), '\\n'\n",
    "        , 'Balance Accuracy Score: ', round(balanced_accuracy_score(y_nuove, pred),2), '\\n'\n",
    "    )\n",
    "    \n",
    "    n += 1"
   ]
  },
  {
   "cell_type": "code",
   "execution_count": null,
   "metadata": {},
   "outputs": [],
   "source": []
  },
  {
   "cell_type": "code",
   "execution_count": null,
   "metadata": {},
   "outputs": [],
   "source": []
  },
  {
   "cell_type": "code",
   "execution_count": null,
   "metadata": {},
   "outputs": [],
   "source": []
  },
  {
   "cell_type": "code",
   "execution_count": null,
   "metadata": {},
   "outputs": [],
   "source": []
  },
  {
   "cell_type": "code",
   "execution_count": null,
   "metadata": {},
   "outputs": [],
   "source": []
  },
  {
   "cell_type": "code",
   "execution_count": null,
   "metadata": {},
   "outputs": [],
   "source": []
  },
  {
   "cell_type": "code",
   "execution_count": null,
   "metadata": {},
   "outputs": [],
   "source": []
  },
  {
   "cell_type": "code",
   "execution_count": null,
   "metadata": {},
   "outputs": [],
   "source": []
  },
  {
   "cell_type": "code",
   "execution_count": null,
   "metadata": {},
   "outputs": [],
   "source": []
  },
  {
   "cell_type": "code",
   "execution_count": null,
   "metadata": {},
   "outputs": [],
   "source": []
  },
  {
   "cell_type": "code",
   "execution_count": null,
   "metadata": {},
   "outputs": [],
   "source": []
  },
  {
   "cell_type": "code",
   "execution_count": null,
   "metadata": {},
   "outputs": [],
   "source": []
  },
  {
   "cell_type": "code",
   "execution_count": null,
   "metadata": {},
   "outputs": [],
   "source": []
  }
 ],
 "metadata": {
  "colab": {
   "collapsed_sections": [],
   "name": "EsplorazioneDati_Coolab.ipynb",
   "provenance": []
  },
  "kernelspec": {
   "display_name": "Python 3",
   "language": "python",
   "name": "python3"
  },
  "language_info": {
   "codemirror_mode": {
    "name": "ipython",
    "version": 3
   },
   "file_extension": ".py",
   "mimetype": "text/x-python",
   "name": "python",
   "nbconvert_exporter": "python",
   "pygments_lexer": "ipython3",
   "version": "3.8.5"
  },
  "toc": {
   "base_numbering": 1,
   "nav_menu": {},
   "number_sections": true,
   "sideBar": true,
   "skip_h1_title": false,
   "title_cell": "Indice",
   "title_sidebar": "Contents",
   "toc_cell": true,
   "toc_position": {
    "height": "664.516px",
    "left": "40px",
    "top": "226px",
    "width": "383.938px"
   },
   "toc_section_display": true,
   "toc_window_display": true
  }
 },
 "nbformat": 4,
 "nbformat_minor": 4
}
